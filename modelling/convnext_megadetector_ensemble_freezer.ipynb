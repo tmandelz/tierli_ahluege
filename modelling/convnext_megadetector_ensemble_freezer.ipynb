{
 "cells": [
  {
   "cell_type": "code",
   "execution_count": 1,
   "id": "11ad09f0-812f-4a4a-9c0d-74389f396504",
   "metadata": {},
   "outputs": [
    {
     "name": "stdout",
     "output_type": "stream",
     "text": [
      "/users/tmandelz/ccv1/tierli_ahluege/modelling\n"
     ]
    },
    {
     "name": "stderr",
     "output_type": "stream",
     "text": [
      "/users/tmandelz/.local/share/virtualenvs/tierli_ahluege-KocqYYbw/lib/python3.9/site-packages/tqdm/auto.py:21: TqdmWarning: IProgress not found. Please update jupyter and ipywidgets. See https://ipywidgets.readthedocs.io/en/stable/user_install.html\n",
      "  from .autonotebook import tqdm as notebook_tqdm\n"
     ]
    },
    {
     "name": "stdout",
     "output_type": "stream",
     "text": [
      "env: \"WANDB_NOTEBOOK_NAME\"=\"ccv1_convnext\"\n",
      "env: WANDB_SILENT=True\n"
     ]
    }
   ],
   "source": [
    "#%% [markdown]\n",
    "\n",
    "#%%\n",
    "import os\n",
    "print(os.getcwd())\n",
    "if os.getcwd().endswith(\"modelling\"):\n",
    "    os.chdir(\"..\")\n",
    "\n",
    "#%%\n",
    "is_cscs_run = False\n",
    "\n",
    "if is_cscs_run:\n",
    "    os.chdir(\"ccv1/tierli_ahluege/\")\n",
    "    print(os.getcwd())\n",
    "\n",
    "#%%\n",
    "from src.modelling import CCV1_Trainer\n",
    "from src.augmentation import CCV1Transformer,None_Transform\n",
    "from src.data_modules import DataModule\n",
    "from torch import nn\n",
    "import torch\n",
    "from torchvision import transforms,models\n",
    "\n",
    "#%%\n",
    "# wandb Notebook Setup\n",
    "%env \"WANDB_NOTEBOOK_NAME\" \"ccv1_convnext\"\n",
    "%env WANDB_SILENT=True\n",
    "\n",
    "def model_freeze(model,n_block):\n",
    "    backbone = list(model.features.children())\n",
    "    print(f\"The Backbone has {len(backbone)} blocks\")\n",
    "    ct = 0\n",
    "    for child in backbone:\n",
    "        ct += 1\n",
    "        if ct < n_block:\n",
    "            for param in child.parameters():\n",
    "                param.requires_grad = False\n",
    "        else:\n",
    "            print(\"No freeze\")\n",
    "            print(child)\n",
    "# %%\n",
    "def convnext_tiny_():\n",
    "    model = models.convnext_tiny(weights=True,)\n",
    "    model_freeze(model,7)\n",
    "    model.classifier[2] = nn.Linear(in_features=768, out_features=8, bias=True)\n",
    "    return model\n",
    "\n"
   ]
  },
  {
   "cell_type": "code",
   "execution_count": 11,
   "id": "6f427d8d-adf4-4174-aade-224f8c91027a",
   "metadata": {},
   "outputs": [
    {
     "data": {
      "text/plain": [
       "Compose(\n",
       "    None_Transform()\n",
       "    Compose(\n",
       "    AugMix(severity=1, mixture_width=1, chain_depth=-1, alpha=1.0, all_ops=True, interpolation=InterpolationMode.BILINEAR, fill=None)\n",
       ")\n",
       "    ToTensor()\n",
       "    Compose(\n",
       "    None_Transform()\n",
       ")\n",
       "    Compose(\n",
       "    Resize(size=(236, 236), interpolation=bilinear, max_size=None, antialias=True)\n",
       "    CenterCrop(size=(224, 224))\n",
       "    Normalize(mean=(0.485, 0.456, 0.406), std=(0.229, 0.224, 0.225))\n",
       ")\n",
       ")"
      ]
     },
     "execution_count": 11,
     "metadata": {},
     "output_type": "execute_result"
    }
   ],
   "source": [
    "#%%\n",
    "pretrained_model = \"convnext\"\n",
    "convnext_transformer = CCV1Transformer(\n",
    "    transforms.Compose([None_Transform()]), \"model_specific\", pretrained_model\n",
    ").getCompose(True)\n",
    "convnext_transformer\n",
    "\n",
    "#%%\n",
    "pretrained_model = \"convnext\"\n",
    "convnext_transformer_augmented = CCV1Transformer(\n",
    "    transforms.Compose([transforms.AugMix()]), \"model_specific\", pretrained_model\n",
    ").getCompose(True)\n",
    "convnext_transformer_augmented\n",
    "\n",
    "\n",
    "#%%\n",
    "pretrained_model = \"convnext\"\n",
    "convnext_transformer_augmented_less = CCV1Transformer(\n",
    "    transforms.Compose([transforms.AugMix(2,2)]), \"model_specific\", pretrained_model\n",
    ").getCompose(True)\n",
    "convnext_transformer_augmented_less\n",
    "\n",
    "#%%\n",
    "pretrained_model = \"convnext\"\n",
    "convnext_transformer_augmented_more = CCV1Transformer(\n",
    "    transforms.Compose([transforms.AugMix(4,4)]), \"model_specific\", pretrained_model\n",
    ").getCompose(True)\n",
    "convnext_transformer_augmented_more\n",
    "\n",
    "#%%\n",
    "pretrained_model = \"convnext\"\n",
    "convnext_transformer_augmented_lesser = CCV1Transformer(\n",
    "    transforms.Compose([transforms.AugMix(1,1)]), \"model_specific\", pretrained_model\n",
    ").getCompose(True)\n",
    "convnext_transformer_augmented_lesser"
   ]
  },
  {
   "cell_type": "code",
   "execution_count": 3,
   "id": "255c069b-65c4-42af-8d48-4c20486ee730",
   "metadata": {},
   "outputs": [
    {
     "name": "stderr",
     "output_type": "stream",
     "text": [
      "Fold-Iteration:   0%|          | 0/1 [00:00<?, ?fold/s]/users/tmandelz/ccv1/tierli_ahluege/src/data_modules.py:142: UserWarning: Boolean Series key will be reindexed to match DataFrame index.\n",
      "  val_labels = val_labels[(val_features[\"conf\"]>self.max_threshhold_megadetector)==False]\n",
      "/users/tmandelz/ccv1/tierli_ahluege/src/data_modules.py:149: UserWarning: Boolean Series key will be reindexed to match DataFrame index.\n",
      "  train_labels = train_labels[(train_features[\"conf\"]>self.max_threshhold_megadetector)==False]\n",
      "/users/tmandelz/.local/share/virtualenvs/tierli_ahluege-KocqYYbw/lib/python3.9/site-packages/torchvision/models/_utils.py:223: UserWarning: Arguments other than a weight enum or `None` for 'weights' are deprecated since 0.13 and may be removed in the future. The current behavior is equivalent to passing `weights=ConvNeXt_Tiny_Weights.IMAGENET1K_V1`. You can also use `weights=ConvNeXt_Tiny_Weights.DEFAULT` to get the most up-to-date weights.\n",
      "  warnings.warn(msg)\n"
     ]
    },
    {
     "name": "stdout",
     "output_type": "stream",
     "text": [
      "The Backbone has 8 blocks\n",
      "No freeze\n",
      "Sequential(\n",
      "  (0): LayerNorm2d((384,), eps=1e-06, elementwise_affine=True)\n",
      "  (1): Conv2d(384, 768, kernel_size=(2, 2), stride=(2, 2))\n",
      ")\n",
      "No freeze\n",
      "Sequential(\n",
      "  (0): CNBlock(\n",
      "    (block): Sequential(\n",
      "      (0): Conv2d(768, 768, kernel_size=(7, 7), stride=(1, 1), padding=(3, 3), groups=768)\n",
      "      (1): Permute()\n",
      "      (2): LayerNorm((768,), eps=1e-06, elementwise_affine=True)\n",
      "      (3): Linear(in_features=768, out_features=3072, bias=True)\n",
      "      (4): GELU(approximate='none')\n",
      "      (5): Linear(in_features=3072, out_features=768, bias=True)\n",
      "      (6): Permute()\n",
      "    )\n",
      "    (stochastic_depth): StochasticDepth(p=0.08823529411764706, mode=row)\n",
      "  )\n",
      "  (1): CNBlock(\n",
      "    (block): Sequential(\n",
      "      (0): Conv2d(768, 768, kernel_size=(7, 7), stride=(1, 1), padding=(3, 3), groups=768)\n",
      "      (1): Permute()\n",
      "      (2): LayerNorm((768,), eps=1e-06, elementwise_affine=True)\n",
      "      (3): Linear(in_features=768, out_features=3072, bias=True)\n",
      "      (4): GELU(approximate='none')\n",
      "      (5): Linear(in_features=3072, out_features=768, bias=True)\n",
      "      (6): Permute()\n",
      "    )\n",
      "    (stochastic_depth): StochasticDepth(p=0.09411764705882353, mode=row)\n",
      "  )\n",
      "  (2): CNBlock(\n",
      "    (block): Sequential(\n",
      "      (0): Conv2d(768, 768, kernel_size=(7, 7), stride=(1, 1), padding=(3, 3), groups=768)\n",
      "      (1): Permute()\n",
      "      (2): LayerNorm((768,), eps=1e-06, elementwise_affine=True)\n",
      "      (3): Linear(in_features=768, out_features=3072, bias=True)\n",
      "      (4): GELU(approximate='none')\n",
      "      (5): Linear(in_features=3072, out_features=768, bias=True)\n",
      "      (6): Permute()\n",
      "    )\n",
      "    (stochastic_depth): StochasticDepth(p=0.1, mode=row)\n",
      "  )\n",
      ")\n"
     ]
    },
    {
     "name": "stderr",
     "output_type": "stream",
     "text": [
      "\n",
      "Epoch-Iteration:   0%|          | 0/3 [00:00<?, ?epoch/s]\u001b[A\n",
      "Epoch-Iteration:  33%|███▎      | 1/3 [00:47<01:35, 47.89s/epoch]\u001b[A\n",
      "Epoch-Iteration:  67%|██████▋   | 2/3 [01:34<00:46, 46.94s/epoch]\u001b[A\n",
      "Epoch-Iteration: 100%|██████████| 3/3 [02:21<00:00, 47.17s/epoch]\u001b[A\n",
      "Fold-Iteration: 100%|██████████| 1/1 [02:39<00:00, 159.66s/fold]\n"
     ]
    }
   ],
   "source": [
    "model_name = \"ensemble_range_freeze_higher\"\n",
    "convnext = CCV1_Trainer(DataModule(basic_transform=convnext_transformer,include_megadetector_train=True,delete_unrecognized_mega=True,max_threshhold_megadetector=1.01,threshhold_megadetector=0.8,include_megadetector_test=True), convnext_tiny_,)\n",
    "convnext.train_model(model_name, pretrained_model, num_epochs=3, cross_validation=False,test_model=False,batchsize_train_data=64,lr = 1e-4,decrease_confidence_validation=0.9)\n"
   ]
  },
  {
   "cell_type": "code",
   "execution_count": 4,
   "id": "1e7c81d1-7789-43a9-8cef-155c52a40b56",
   "metadata": {},
   "outputs": [
    {
     "name": "stdout",
     "output_type": "stream",
     "text": [
      "Saved model: ensemble_range_freeze_higher to ./model_submit/ensemble_range_freeze_higher.pth\n",
      "Saved submission: ensemble_range_freeze_higher to ./data_submit/ensemble_range_freeze_higher.csv\n"
     ]
    }
   ],
   "source": [
    "convnext.submission(model_name,ensemble=True)"
   ]
  },
  {
   "cell_type": "code",
   "execution_count": 5,
   "id": "89872db3-e56c-47b2-89a0-4c18b06334eb",
   "metadata": {},
   "outputs": [
    {
     "name": "stderr",
     "output_type": "stream",
     "text": [
      "Fold-Iteration:   0%|          | 0/1 [00:00<?, ?fold/s]/users/tmandelz/ccv1/tierli_ahluege/src/data_modules.py:142: UserWarning: Boolean Series key will be reindexed to match DataFrame index.\n",
      "  val_labels = val_labels[(val_features[\"conf\"]>self.max_threshhold_megadetector)==False]\n",
      "/users/tmandelz/ccv1/tierli_ahluege/src/data_modules.py:149: UserWarning: Boolean Series key will be reindexed to match DataFrame index.\n",
      "  train_labels = train_labels[(train_features[\"conf\"]>self.max_threshhold_megadetector)==False]\n",
      "/users/tmandelz/.local/share/virtualenvs/tierli_ahluege-KocqYYbw/lib/python3.9/site-packages/torchvision/models/_utils.py:223: UserWarning: Arguments other than a weight enum or `None` for 'weights' are deprecated since 0.13 and may be removed in the future. The current behavior is equivalent to passing `weights=ConvNeXt_Tiny_Weights.IMAGENET1K_V1`. You can also use `weights=ConvNeXt_Tiny_Weights.DEFAULT` to get the most up-to-date weights.\n",
      "  warnings.warn(msg)\n"
     ]
    },
    {
     "name": "stdout",
     "output_type": "stream",
     "text": [
      "The Backbone has 8 blocks\n",
      "No freeze\n",
      "Sequential(\n",
      "  (0): LayerNorm2d((384,), eps=1e-06, elementwise_affine=True)\n",
      "  (1): Conv2d(384, 768, kernel_size=(2, 2), stride=(2, 2))\n",
      ")\n",
      "No freeze\n",
      "Sequential(\n",
      "  (0): CNBlock(\n",
      "    (block): Sequential(\n",
      "      (0): Conv2d(768, 768, kernel_size=(7, 7), stride=(1, 1), padding=(3, 3), groups=768)\n",
      "      (1): Permute()\n",
      "      (2): LayerNorm((768,), eps=1e-06, elementwise_affine=True)\n",
      "      (3): Linear(in_features=768, out_features=3072, bias=True)\n",
      "      (4): GELU(approximate='none')\n",
      "      (5): Linear(in_features=3072, out_features=768, bias=True)\n",
      "      (6): Permute()\n",
      "    )\n",
      "    (stochastic_depth): StochasticDepth(p=0.08823529411764706, mode=row)\n",
      "  )\n",
      "  (1): CNBlock(\n",
      "    (block): Sequential(\n",
      "      (0): Conv2d(768, 768, kernel_size=(7, 7), stride=(1, 1), padding=(3, 3), groups=768)\n",
      "      (1): Permute()\n",
      "      (2): LayerNorm((768,), eps=1e-06, elementwise_affine=True)\n",
      "      (3): Linear(in_features=768, out_features=3072, bias=True)\n",
      "      (4): GELU(approximate='none')\n",
      "      (5): Linear(in_features=3072, out_features=768, bias=True)\n",
      "      (6): Permute()\n",
      "    )\n",
      "    (stochastic_depth): StochasticDepth(p=0.09411764705882353, mode=row)\n",
      "  )\n",
      "  (2): CNBlock(\n",
      "    (block): Sequential(\n",
      "      (0): Conv2d(768, 768, kernel_size=(7, 7), stride=(1, 1), padding=(3, 3), groups=768)\n",
      "      (1): Permute()\n",
      "      (2): LayerNorm((768,), eps=1e-06, elementwise_affine=True)\n",
      "      (3): Linear(in_features=768, out_features=3072, bias=True)\n",
      "      (4): GELU(approximate='none')\n",
      "      (5): Linear(in_features=3072, out_features=768, bias=True)\n",
      "      (6): Permute()\n",
      "    )\n",
      "    (stochastic_depth): StochasticDepth(p=0.1, mode=row)\n",
      "  )\n",
      ")\n"
     ]
    },
    {
     "name": "stderr",
     "output_type": "stream",
     "text": [
      "\n",
      "Epoch-Iteration:   0%|          | 0/4 [00:00<?, ?epoch/s]\u001b[A\n",
      "Epoch-Iteration:  25%|██▌       | 1/4 [00:24<01:12, 24.05s/epoch]\u001b[A\n",
      "Epoch-Iteration:  50%|█████     | 2/4 [00:47<00:47, 23.95s/epoch]\u001b[A\n",
      "Epoch-Iteration:  75%|███████▌  | 3/4 [01:12<00:24, 24.01s/epoch]\u001b[A\n",
      "Epoch-Iteration: 100%|██████████| 4/4 [01:35<00:00, 23.99s/epoch]\u001b[A\n",
      "Fold-Iteration: 100%|██████████| 1/1 [01:48<00:00, 108.98s/fold]\n"
     ]
    }
   ],
   "source": [
    "model_name = \"ensemble_range_freeze_high\"\n",
    "convnext = CCV1_Trainer(DataModule(basic_transform=convnext_transformer,include_megadetector_train=True,delete_unrecognized_mega=True,max_threshhold_megadetector=0.8,threshhold_megadetector=0.60,include_megadetector_test=True), convnext_tiny_,)\n",
    "convnext.train_model(model_name, pretrained_model, num_epochs=4, cross_validation=False,test_model=False,batchsize_train_data=64,lr = 1e-4)\n"
   ]
  },
  {
   "cell_type": "code",
   "execution_count": 6,
   "id": "01707d27-dacd-490b-a688-15b183a36407",
   "metadata": {},
   "outputs": [
    {
     "name": "stdout",
     "output_type": "stream",
     "text": [
      "Saved model: ensemble_range_freeze_high to ./model_submit/ensemble_range_freeze_high.pth\n",
      "Saved submission: ensemble_range_freeze_high to ./data_submit/ensemble_range_freeze_high.csv\n"
     ]
    }
   ],
   "source": [
    "convnext.submission(model_name,ensemble=True)"
   ]
  },
  {
   "cell_type": "code",
   "execution_count": 11,
   "id": "f91fe2c6-3383-4cdd-b2f7-b659dcd74001",
   "metadata": {},
   "outputs": [
    {
     "name": "stderr",
     "output_type": "stream",
     "text": [
      "Fold-Iteration:   0%|          | 0/1 [00:00<?, ?fold/s]/users/tmandelz/ccv1/tierli_ahluege/src/data_modules.py:142: UserWarning: Boolean Series key will be reindexed to match DataFrame index.\n",
      "  val_labels = val_labels[(val_features[\"conf\"]>self.max_threshhold_megadetector)==False]\n",
      "/users/tmandelz/ccv1/tierli_ahluege/src/data_modules.py:149: UserWarning: Boolean Series key will be reindexed to match DataFrame index.\n",
      "  train_labels = train_labels[(train_features[\"conf\"]>self.max_threshhold_megadetector)==False]\n",
      "/users/tmandelz/.local/share/virtualenvs/tierli_ahluege-KocqYYbw/lib/python3.9/site-packages/torchvision/models/_utils.py:223: UserWarning: Arguments other than a weight enum or `None` for 'weights' are deprecated since 0.13 and may be removed in the future. The current behavior is equivalent to passing `weights=ConvNeXt_Tiny_Weights.IMAGENET1K_V1`. You can also use `weights=ConvNeXt_Tiny_Weights.DEFAULT` to get the most up-to-date weights.\n",
      "  warnings.warn(msg)\n"
     ]
    },
    {
     "name": "stdout",
     "output_type": "stream",
     "text": [
      "The Backbone has 8 blocks\n",
      "No freeze\n",
      "Sequential(\n",
      "  (0): LayerNorm2d((384,), eps=1e-06, elementwise_affine=True)\n",
      "  (1): Conv2d(384, 768, kernel_size=(2, 2), stride=(2, 2))\n",
      ")\n",
      "No freeze\n",
      "Sequential(\n",
      "  (0): CNBlock(\n",
      "    (block): Sequential(\n",
      "      (0): Conv2d(768, 768, kernel_size=(7, 7), stride=(1, 1), padding=(3, 3), groups=768)\n",
      "      (1): Permute()\n",
      "      (2): LayerNorm((768,), eps=1e-06, elementwise_affine=True)\n",
      "      (3): Linear(in_features=768, out_features=3072, bias=True)\n",
      "      (4): GELU(approximate='none')\n",
      "      (5): Linear(in_features=3072, out_features=768, bias=True)\n",
      "      (6): Permute()\n",
      "    )\n",
      "    (stochastic_depth): StochasticDepth(p=0.08823529411764706, mode=row)\n",
      "  )\n",
      "  (1): CNBlock(\n",
      "    (block): Sequential(\n",
      "      (0): Conv2d(768, 768, kernel_size=(7, 7), stride=(1, 1), padding=(3, 3), groups=768)\n",
      "      (1): Permute()\n",
      "      (2): LayerNorm((768,), eps=1e-06, elementwise_affine=True)\n",
      "      (3): Linear(in_features=768, out_features=3072, bias=True)\n",
      "      (4): GELU(approximate='none')\n",
      "      (5): Linear(in_features=3072, out_features=768, bias=True)\n",
      "      (6): Permute()\n",
      "    )\n",
      "    (stochastic_depth): StochasticDepth(p=0.09411764705882353, mode=row)\n",
      "  )\n",
      "  (2): CNBlock(\n",
      "    (block): Sequential(\n",
      "      (0): Conv2d(768, 768, kernel_size=(7, 7), stride=(1, 1), padding=(3, 3), groups=768)\n",
      "      (1): Permute()\n",
      "      (2): LayerNorm((768,), eps=1e-06, elementwise_affine=True)\n",
      "      (3): Linear(in_features=768, out_features=3072, bias=True)\n",
      "      (4): GELU(approximate='none')\n",
      "      (5): Linear(in_features=3072, out_features=768, bias=True)\n",
      "      (6): Permute()\n",
      "    )\n",
      "    (stochastic_depth): StochasticDepth(p=0.1, mode=row)\n",
      "  )\n",
      ")\n"
     ]
    },
    {
     "name": "stderr",
     "output_type": "stream",
     "text": [
      "\n",
      "Epoch-Iteration:   0%|          | 0/8 [00:00<?, ?epoch/s]\u001b[A\n",
      "Epoch-Iteration:  12%|█▎        | 1/8 [00:12<01:30, 12.88s/epoch]\u001b[A\n",
      "Epoch-Iteration:  25%|██▌       | 2/8 [00:25<01:17, 12.92s/epoch]\u001b[A\n",
      "Epoch-Iteration:  38%|███▊      | 3/8 [00:38<01:04, 12.99s/epoch]\u001b[A\n",
      "Epoch-Iteration:  50%|█████     | 4/8 [00:51<00:51, 12.91s/epoch]\u001b[A\n",
      "Epoch-Iteration:  62%|██████▎   | 5/8 [01:06<00:41, 13.75s/epoch]\u001b[A\n",
      "Epoch-Iteration:  75%|███████▌  | 6/8 [01:20<00:27, 13.56s/epoch]\u001b[A\n",
      "Epoch-Iteration:  88%|████████▊ | 7/8 [01:33<00:13, 13.39s/epoch]\u001b[A\n",
      "Epoch-Iteration: 100%|██████████| 8/8 [01:45<00:00, 13.25s/epoch]\u001b[A\n",
      "Fold-Iteration: 100%|██████████| 1/1 [02:03<00:00, 123.01s/fold]\n"
     ]
    }
   ],
   "source": [
    "model_name = \"ensemble_range_freeze_range_mid\"\n",
    "convnext = CCV1_Trainer(DataModule(basic_transform=convnext_transformer,include_megadetector_train=True,delete_unrecognized_mega=True,max_threshhold_megadetector=0.60,threshhold_megadetector=0.4,include_megadetector_test=True), convnext_tiny_,)\n",
    "convnext.train_model(model_name, pretrained_model, num_epochs=8, cross_validation=False,test_model=False,batchsize_train_data=64,lr = 1e-4)\n"
   ]
  },
  {
   "cell_type": "code",
   "execution_count": 12,
   "id": "e8d4a43b-f654-4411-87cf-bad486a5aa21",
   "metadata": {},
   "outputs": [
    {
     "name": "stdout",
     "output_type": "stream",
     "text": [
      "Saved model: ensemble_range_freeze_range_mid to ./model_submit/ensemble_range_freeze_range_mid.pth\n",
      "Saved submission: ensemble_range_freeze_range_mid to ./data_submit/ensemble_range_freeze_range_mid.csv\n"
     ]
    }
   ],
   "source": [
    "convnext.submission(model_name,ensemble=True)"
   ]
  },
  {
   "cell_type": "code",
   "execution_count": 9,
   "id": "520c3d42-5dbf-4dfa-ae8b-855847a57521",
   "metadata": {},
   "outputs": [
    {
     "name": "stderr",
     "output_type": "stream",
     "text": [
      "Fold-Iteration:   0%|          | 0/1 [00:00<?, ?fold/s]/users/tmandelz/.local/share/virtualenvs/tierli_ahluege-KocqYYbw/lib/python3.9/site-packages/torchvision/models/_utils.py:223: UserWarning: Arguments other than a weight enum or `None` for 'weights' are deprecated since 0.13 and may be removed in the future. The current behavior is equivalent to passing `weights=ConvNeXt_Tiny_Weights.IMAGENET1K_V1`. You can also use `weights=ConvNeXt_Tiny_Weights.DEFAULT` to get the most up-to-date weights.\n",
      "  warnings.warn(msg)\n"
     ]
    },
    {
     "name": "stdout",
     "output_type": "stream",
     "text": [
      "The Backbone has 8 blocks\n",
      "No freeze\n",
      "Sequential(\n",
      "  (0): LayerNorm2d((384,), eps=1e-06, elementwise_affine=True)\n",
      "  (1): Conv2d(384, 768, kernel_size=(2, 2), stride=(2, 2))\n",
      ")\n",
      "No freeze\n",
      "Sequential(\n",
      "  (0): CNBlock(\n",
      "    (block): Sequential(\n",
      "      (0): Conv2d(768, 768, kernel_size=(7, 7), stride=(1, 1), padding=(3, 3), groups=768)\n",
      "      (1): Permute()\n",
      "      (2): LayerNorm((768,), eps=1e-06, elementwise_affine=True)\n",
      "      (3): Linear(in_features=768, out_features=3072, bias=True)\n",
      "      (4): GELU(approximate='none')\n",
      "      (5): Linear(in_features=3072, out_features=768, bias=True)\n",
      "      (6): Permute()\n",
      "    )\n",
      "    (stochastic_depth): StochasticDepth(p=0.08823529411764706, mode=row)\n",
      "  )\n",
      "  (1): CNBlock(\n",
      "    (block): Sequential(\n",
      "      (0): Conv2d(768, 768, kernel_size=(7, 7), stride=(1, 1), padding=(3, 3), groups=768)\n",
      "      (1): Permute()\n",
      "      (2): LayerNorm((768,), eps=1e-06, elementwise_affine=True)\n",
      "      (3): Linear(in_features=768, out_features=3072, bias=True)\n",
      "      (4): GELU(approximate='none')\n",
      "      (5): Linear(in_features=3072, out_features=768, bias=True)\n",
      "      (6): Permute()\n",
      "    )\n",
      "    (stochastic_depth): StochasticDepth(p=0.09411764705882353, mode=row)\n",
      "  )\n",
      "  (2): CNBlock(\n",
      "    (block): Sequential(\n",
      "      (0): Conv2d(768, 768, kernel_size=(7, 7), stride=(1, 1), padding=(3, 3), groups=768)\n",
      "      (1): Permute()\n",
      "      (2): LayerNorm((768,), eps=1e-06, elementwise_affine=True)\n",
      "      (3): Linear(in_features=768, out_features=3072, bias=True)\n",
      "      (4): GELU(approximate='none')\n",
      "      (5): Linear(in_features=3072, out_features=768, bias=True)\n",
      "      (6): Permute()\n",
      "    )\n",
      "    (stochastic_depth): StochasticDepth(p=0.1, mode=row)\n",
      "  )\n",
      ")\n"
     ]
    },
    {
     "name": "stderr",
     "output_type": "stream",
     "text": [
      "\n",
      "Epoch-Iteration:   0%|          | 0/4 [00:00<?, ?epoch/s]\u001b[A\n",
      "Epoch-Iteration:  25%|██▌       | 1/4 [00:59<02:59, 59.92s/epoch]\u001b[A\n",
      "Epoch-Iteration:  50%|█████     | 2/4 [02:09<02:11, 65.54s/epoch]\u001b[A\n",
      "Epoch-Iteration:  75%|███████▌  | 3/4 [03:17<01:06, 66.65s/epoch]\u001b[A\n",
      "Epoch-Iteration: 100%|██████████| 4/4 [04:25<00:00, 66.44s/epoch]\u001b[A\n",
      "Fold-Iteration: 100%|██████████| 1/1 [04:39<00:00, 279.01s/fold]\n"
     ]
    }
   ],
   "source": [
    "model_name = \"ensemble_range_freeze_low\"\n",
    "convnext = CCV1_Trainer(DataModule(basic_transform=convnext_transformer,delete_recognized_mega=True,threshhold_megadetector=0.4), convnext_tiny_,)\n",
    "convnext.train_model(model_name, pretrained_model, num_epochs=4, cross_validation=False,test_model=False,batchsize_train_data=64,lr = 1e-4)\n"
   ]
  },
  {
   "cell_type": "code",
   "execution_count": 10,
   "id": "aad51cab-f7bd-45c7-9565-4808b04b2144",
   "metadata": {},
   "outputs": [
    {
     "name": "stdout",
     "output_type": "stream",
     "text": [
      "Saved model: ensemble_range_freeze_low to ./model_submit/ensemble_range_freeze_low.pth\n",
      "Saved submission: ensemble_range_freeze_low to ./data_submit/ensemble_range_freeze_low.csv\n"
     ]
    }
   ],
   "source": [
    "convnext.submission(model_name,ensemble=True)"
   ]
  },
  {
   "cell_type": "code",
   "execution_count": 14,
   "id": "b196a351-ca28-4d13-a16b-7dba726468c1",
   "metadata": {},
   "outputs": [
    {
     "name": "stderr",
     "output_type": "stream",
     "text": [
      "Fold-Iteration:   0%|          | 0/1 [00:00<?, ?fold/s]/users/tmandelz/ccv1/tierli_ahluege/src/data_modules.py:142: UserWarning: Boolean Series key will be reindexed to match DataFrame index.\n",
      "  val_labels = val_labels[(val_features[\"conf\"]>self.max_threshhold_megadetector)==False]\n",
      "/users/tmandelz/ccv1/tierli_ahluege/src/data_modules.py:149: UserWarning: Boolean Series key will be reindexed to match DataFrame index.\n",
      "  train_labels = train_labels[(train_features[\"conf\"]>self.max_threshhold_megadetector)==False]\n",
      "/users/tmandelz/.local/share/virtualenvs/tierli_ahluege-KocqYYbw/lib/python3.9/site-packages/torchvision/models/_utils.py:223: UserWarning: Arguments other than a weight enum or `None` for 'weights' are deprecated since 0.13 and may be removed in the future. The current behavior is equivalent to passing `weights=ConvNeXt_Tiny_Weights.IMAGENET1K_V1`. You can also use `weights=ConvNeXt_Tiny_Weights.DEFAULT` to get the most up-to-date weights.\n",
      "  warnings.warn(msg)\n"
     ]
    },
    {
     "name": "stdout",
     "output_type": "stream",
     "text": [
      "The Backbone has 8 blocks\n",
      "No freeze\n",
      "Sequential(\n",
      "  (0): LayerNorm2d((384,), eps=1e-06, elementwise_affine=True)\n",
      "  (1): Conv2d(384, 768, kernel_size=(2, 2), stride=(2, 2))\n",
      ")\n",
      "No freeze\n",
      "Sequential(\n",
      "  (0): CNBlock(\n",
      "    (block): Sequential(\n",
      "      (0): Conv2d(768, 768, kernel_size=(7, 7), stride=(1, 1), padding=(3, 3), groups=768)\n",
      "      (1): Permute()\n",
      "      (2): LayerNorm((768,), eps=1e-06, elementwise_affine=True)\n",
      "      (3): Linear(in_features=768, out_features=3072, bias=True)\n",
      "      (4): GELU(approximate='none')\n",
      "      (5): Linear(in_features=3072, out_features=768, bias=True)\n",
      "      (6): Permute()\n",
      "    )\n",
      "    (stochastic_depth): StochasticDepth(p=0.08823529411764706, mode=row)\n",
      "  )\n",
      "  (1): CNBlock(\n",
      "    (block): Sequential(\n",
      "      (0): Conv2d(768, 768, kernel_size=(7, 7), stride=(1, 1), padding=(3, 3), groups=768)\n",
      "      (1): Permute()\n",
      "      (2): LayerNorm((768,), eps=1e-06, elementwise_affine=True)\n",
      "      (3): Linear(in_features=768, out_features=3072, bias=True)\n",
      "      (4): GELU(approximate='none')\n",
      "      (5): Linear(in_features=3072, out_features=768, bias=True)\n",
      "      (6): Permute()\n",
      "    )\n",
      "    (stochastic_depth): StochasticDepth(p=0.09411764705882353, mode=row)\n",
      "  )\n",
      "  (2): CNBlock(\n",
      "    (block): Sequential(\n",
      "      (0): Conv2d(768, 768, kernel_size=(7, 7), stride=(1, 1), padding=(3, 3), groups=768)\n",
      "      (1): Permute()\n",
      "      (2): LayerNorm((768,), eps=1e-06, elementwise_affine=True)\n",
      "      (3): Linear(in_features=768, out_features=3072, bias=True)\n",
      "      (4): GELU(approximate='none')\n",
      "      (5): Linear(in_features=3072, out_features=768, bias=True)\n",
      "      (6): Permute()\n",
      "    )\n",
      "    (stochastic_depth): StochasticDepth(p=0.1, mode=row)\n",
      "  )\n",
      ")\n"
     ]
    },
    {
     "name": "stderr",
     "output_type": "stream",
     "text": [
      "\n",
      "Epoch-Iteration:   0%|          | 0/3 [00:00<?, ?epoch/s]\u001b[A\n",
      "Epoch-Iteration:  33%|███▎      | 1/3 [00:52<01:45, 52.88s/epoch]\u001b[A\n",
      "Epoch-Iteration:  67%|██████▋   | 2/3 [01:41<00:50, 50.15s/epoch]\u001b[A\n",
      "Epoch-Iteration: 100%|██████████| 3/3 [02:29<00:00, 49.91s/epoch]\u001b[A\n",
      "Fold-Iteration: 100%|██████████| 1/1 [02:43<00:00, 163.33s/fold]\n"
     ]
    }
   ],
   "source": [
    "model_name = \"ensemble_range_freeze_higher_augmix\"\n",
    "convnext = CCV1_Trainer(DataModule(basic_transform=convnext_transformer_augmented,include_megadetector_train=True,delete_unrecognized_mega=True,max_threshhold_megadetector=1.01,threshhold_megadetector=0.8,include_megadetector_test=True), convnext_tiny_,)\n",
    "convnext.train_model(model_name, pretrained_model, num_epochs=3, cross_validation=False,test_model=False,batchsize_train_data=64,lr = 1e-4,decrease_confidence_validation=0.9)\n"
   ]
  },
  {
   "cell_type": "code",
   "execution_count": null,
   "id": "bc70b13f-8188-4df9-8629-076c13668459",
   "metadata": {},
   "outputs": [],
   "source": [
    "convnext.submission(model_name,ensemble=True)"
   ]
  },
  {
   "cell_type": "code",
   "execution_count": 18,
   "id": "ecdf983e-95fc-4a75-bb70-b27418a5022c",
   "metadata": {},
   "outputs": [
    {
     "name": "stderr",
     "output_type": "stream",
     "text": [
      "Fold-Iteration:   0%|          | 0/1 [00:00<?, ?fold/s]/users/tmandelz/ccv1/tierli_ahluege/src/data_modules.py:142: UserWarning: Boolean Series key will be reindexed to match DataFrame index.\n",
      "  val_labels = val_labels[(val_features[\"conf\"]>self.max_threshhold_megadetector)==False]\n",
      "/users/tmandelz/ccv1/tierli_ahluege/src/data_modules.py:149: UserWarning: Boolean Series key will be reindexed to match DataFrame index.\n",
      "  train_labels = train_labels[(train_features[\"conf\"]>self.max_threshhold_megadetector)==False]\n",
      "/users/tmandelz/.local/share/virtualenvs/tierli_ahluege-KocqYYbw/lib/python3.9/site-packages/torchvision/models/_utils.py:223: UserWarning: Arguments other than a weight enum or `None` for 'weights' are deprecated since 0.13 and may be removed in the future. The current behavior is equivalent to passing `weights=ConvNeXt_Tiny_Weights.IMAGENET1K_V1`. You can also use `weights=ConvNeXt_Tiny_Weights.DEFAULT` to get the most up-to-date weights.\n",
      "  warnings.warn(msg)\n"
     ]
    },
    {
     "name": "stdout",
     "output_type": "stream",
     "text": [
      "The Backbone has 8 blocks\n",
      "No freeze\n",
      "Sequential(\n",
      "  (0): LayerNorm2d((384,), eps=1e-06, elementwise_affine=True)\n",
      "  (1): Conv2d(384, 768, kernel_size=(2, 2), stride=(2, 2))\n",
      ")\n",
      "No freeze\n",
      "Sequential(\n",
      "  (0): CNBlock(\n",
      "    (block): Sequential(\n",
      "      (0): Conv2d(768, 768, kernel_size=(7, 7), stride=(1, 1), padding=(3, 3), groups=768)\n",
      "      (1): Permute()\n",
      "      (2): LayerNorm((768,), eps=1e-06, elementwise_affine=True)\n",
      "      (3): Linear(in_features=768, out_features=3072, bias=True)\n",
      "      (4): GELU(approximate='none')\n",
      "      (5): Linear(in_features=3072, out_features=768, bias=True)\n",
      "      (6): Permute()\n",
      "    )\n",
      "    (stochastic_depth): StochasticDepth(p=0.08823529411764706, mode=row)\n",
      "  )\n",
      "  (1): CNBlock(\n",
      "    (block): Sequential(\n",
      "      (0): Conv2d(768, 768, kernel_size=(7, 7), stride=(1, 1), padding=(3, 3), groups=768)\n",
      "      (1): Permute()\n",
      "      (2): LayerNorm((768,), eps=1e-06, elementwise_affine=True)\n",
      "      (3): Linear(in_features=768, out_features=3072, bias=True)\n",
      "      (4): GELU(approximate='none')\n",
      "      (5): Linear(in_features=3072, out_features=768, bias=True)\n",
      "      (6): Permute()\n",
      "    )\n",
      "    (stochastic_depth): StochasticDepth(p=0.09411764705882353, mode=row)\n",
      "  )\n",
      "  (2): CNBlock(\n",
      "    (block): Sequential(\n",
      "      (0): Conv2d(768, 768, kernel_size=(7, 7), stride=(1, 1), padding=(3, 3), groups=768)\n",
      "      (1): Permute()\n",
      "      (2): LayerNorm((768,), eps=1e-06, elementwise_affine=True)\n",
      "      (3): Linear(in_features=768, out_features=3072, bias=True)\n",
      "      (4): GELU(approximate='none')\n",
      "      (5): Linear(in_features=3072, out_features=768, bias=True)\n",
      "      (6): Permute()\n",
      "    )\n",
      "    (stochastic_depth): StochasticDepth(p=0.1, mode=row)\n",
      "  )\n",
      ")\n"
     ]
    },
    {
     "name": "stderr",
     "output_type": "stream",
     "text": [
      "\n",
      "Epoch-Iteration:   0%|          | 0/3 [00:00<?, ?epoch/s]\u001b[A\n",
      "Epoch-Iteration:  33%|███▎      | 1/3 [00:48<01:36, 48.07s/epoch]\u001b[A\n",
      "Epoch-Iteration:  67%|██████▋   | 2/3 [01:36<00:48, 48.03s/epoch]\u001b[A\n",
      "Epoch-Iteration: 100%|██████████| 3/3 [02:24<00:00, 48.05s/epoch]\u001b[A\n",
      "Fold-Iteration: 100%|██████████| 1/1 [02:36<00:00, 156.80s/fold]\n"
     ]
    }
   ],
   "source": [
    "model_name = \"ensemble_range_freeze_higher_augmix_less\"\n",
    "convnext = CCV1_Trainer(DataModule(basic_transform=convnext_transformer_augmented_more,include_megadetector_train=True,delete_unrecognized_mega=True,max_threshhold_megadetector=1.01,threshhold_megadetector=0.8,include_megadetector_test=True), convnext_tiny_,)\n",
    "convnext.train_model(model_name, pretrained_model, num_epochs=3, cross_validation=False,test_model=False,batchsize_train_data=64,lr = 1e-4,decrease_confidence_validation=0.9)\n"
   ]
  },
  {
   "cell_type": "code",
   "execution_count": 20,
   "id": "d85b6fcc-770f-4b1a-af35-ec25ad3d8021",
   "metadata": {},
   "outputs": [
    {
     "name": "stderr",
     "output_type": "stream",
     "text": [
      "Fold-Iteration:   0%|          | 0/1 [00:00<?, ?fold/s]/users/tmandelz/ccv1/tierli_ahluege/src/data_modules.py:142: UserWarning: Boolean Series key will be reindexed to match DataFrame index.\n",
      "  val_labels = val_labels[(val_features[\"conf\"]>self.max_threshhold_megadetector)==False]\n",
      "/users/tmandelz/ccv1/tierli_ahluege/src/data_modules.py:149: UserWarning: Boolean Series key will be reindexed to match DataFrame index.\n",
      "  train_labels = train_labels[(train_features[\"conf\"]>self.max_threshhold_megadetector)==False]\n",
      "/users/tmandelz/.local/share/virtualenvs/tierli_ahluege-KocqYYbw/lib/python3.9/site-packages/torchvision/models/_utils.py:223: UserWarning: Arguments other than a weight enum or `None` for 'weights' are deprecated since 0.13 and may be removed in the future. The current behavior is equivalent to passing `weights=ConvNeXt_Tiny_Weights.IMAGENET1K_V1`. You can also use `weights=ConvNeXt_Tiny_Weights.DEFAULT` to get the most up-to-date weights.\n",
      "  warnings.warn(msg)\n"
     ]
    },
    {
     "name": "stdout",
     "output_type": "stream",
     "text": [
      "The Backbone has 8 blocks\n",
      "No freeze\n",
      "Sequential(\n",
      "  (0): LayerNorm2d((384,), eps=1e-06, elementwise_affine=True)\n",
      "  (1): Conv2d(384, 768, kernel_size=(2, 2), stride=(2, 2))\n",
      ")\n",
      "No freeze\n",
      "Sequential(\n",
      "  (0): CNBlock(\n",
      "    (block): Sequential(\n",
      "      (0): Conv2d(768, 768, kernel_size=(7, 7), stride=(1, 1), padding=(3, 3), groups=768)\n",
      "      (1): Permute()\n",
      "      (2): LayerNorm((768,), eps=1e-06, elementwise_affine=True)\n",
      "      (3): Linear(in_features=768, out_features=3072, bias=True)\n",
      "      (4): GELU(approximate='none')\n",
      "      (5): Linear(in_features=3072, out_features=768, bias=True)\n",
      "      (6): Permute()\n",
      "    )\n",
      "    (stochastic_depth): StochasticDepth(p=0.08823529411764706, mode=row)\n",
      "  )\n",
      "  (1): CNBlock(\n",
      "    (block): Sequential(\n",
      "      (0): Conv2d(768, 768, kernel_size=(7, 7), stride=(1, 1), padding=(3, 3), groups=768)\n",
      "      (1): Permute()\n",
      "      (2): LayerNorm((768,), eps=1e-06, elementwise_affine=True)\n",
      "      (3): Linear(in_features=768, out_features=3072, bias=True)\n",
      "      (4): GELU(approximate='none')\n",
      "      (5): Linear(in_features=3072, out_features=768, bias=True)\n",
      "      (6): Permute()\n",
      "    )\n",
      "    (stochastic_depth): StochasticDepth(p=0.09411764705882353, mode=row)\n",
      "  )\n",
      "  (2): CNBlock(\n",
      "    (block): Sequential(\n",
      "      (0): Conv2d(768, 768, kernel_size=(7, 7), stride=(1, 1), padding=(3, 3), groups=768)\n",
      "      (1): Permute()\n",
      "      (2): LayerNorm((768,), eps=1e-06, elementwise_affine=True)\n",
      "      (3): Linear(in_features=768, out_features=3072, bias=True)\n",
      "      (4): GELU(approximate='none')\n",
      "      (5): Linear(in_features=3072, out_features=768, bias=True)\n",
      "      (6): Permute()\n",
      "    )\n",
      "    (stochastic_depth): StochasticDepth(p=0.1, mode=row)\n",
      "  )\n",
      ")\n"
     ]
    },
    {
     "name": "stderr",
     "output_type": "stream",
     "text": [
      "\n",
      "Epoch-Iteration:   0%|          | 0/4 [00:00<?, ?epoch/s]\u001b[A\n",
      "Epoch-Iteration:  25%|██▌       | 1/4 [00:29<01:27, 29.30s/epoch]\u001b[A\n",
      "Epoch-Iteration:  50%|█████     | 2/4 [00:54<00:53, 26.65s/epoch]\u001b[A\n",
      "Epoch-Iteration:  75%|███████▌  | 3/4 [01:18<00:25, 25.81s/epoch]\u001b[A\n",
      "Epoch-Iteration: 100%|██████████| 4/4 [01:44<00:00, 26.09s/epoch]\u001b[A\n",
      "Fold-Iteration: 100%|██████████| 1/1 [01:54<00:00, 114.58s/fold]\n"
     ]
    }
   ],
   "source": [
    "model_name = \"ensemble_range_freeze_high_augmix\"\n",
    "convnext = CCV1_Trainer(DataModule(basic_transform=convnext_transformer_augmented,include_megadetector_train=True,delete_unrecognized_mega=True,max_threshhold_megadetector=0.8,threshhold_megadetector=0.60,include_megadetector_test=True), convnext_tiny_,)\n",
    "convnext.train_model(model_name, pretrained_model, num_epochs=4, cross_validation=False,test_model=False,batchsize_train_data=64,lr = 1e-4)\n"
   ]
  },
  {
   "cell_type": "code",
   "execution_count": 3,
   "id": "651a6bb2-923e-404c-903d-1e3d4d749494",
   "metadata": {},
   "outputs": [
    {
     "name": "stderr",
     "output_type": "stream",
     "text": [
      "Fold-Iteration:   0%|          | 0/1 [00:00<?, ?fold/s]/users/tmandelz/ccv1/tierli_ahluege/src/data_modules.py:142: UserWarning: Boolean Series key will be reindexed to match DataFrame index.\n",
      "  val_labels = val_labels[(val_features[\"conf\"]>self.max_threshhold_megadetector)==False]\n",
      "/users/tmandelz/ccv1/tierli_ahluege/src/data_modules.py:149: UserWarning: Boolean Series key will be reindexed to match DataFrame index.\n",
      "  train_labels = train_labels[(train_features[\"conf\"]>self.max_threshhold_megadetector)==False]\n",
      "/users/tmandelz/.local/share/virtualenvs/tierli_ahluege-KocqYYbw/lib/python3.9/site-packages/torchvision/models/_utils.py:223: UserWarning: Arguments other than a weight enum or `None` for 'weights' are deprecated since 0.13 and may be removed in the future. The current behavior is equivalent to passing `weights=ConvNeXt_Tiny_Weights.IMAGENET1K_V1`. You can also use `weights=ConvNeXt_Tiny_Weights.DEFAULT` to get the most up-to-date weights.\n",
      "  warnings.warn(msg)\n"
     ]
    },
    {
     "name": "stdout",
     "output_type": "stream",
     "text": [
      "The Backbone has 8 blocks\n",
      "No freeze\n",
      "Sequential(\n",
      "  (0): LayerNorm2d((384,), eps=1e-06, elementwise_affine=True)\n",
      "  (1): Conv2d(384, 768, kernel_size=(2, 2), stride=(2, 2))\n",
      ")\n",
      "No freeze\n",
      "Sequential(\n",
      "  (0): CNBlock(\n",
      "    (block): Sequential(\n",
      "      (0): Conv2d(768, 768, kernel_size=(7, 7), stride=(1, 1), padding=(3, 3), groups=768)\n",
      "      (1): Permute()\n",
      "      (2): LayerNorm((768,), eps=1e-06, elementwise_affine=True)\n",
      "      (3): Linear(in_features=768, out_features=3072, bias=True)\n",
      "      (4): GELU(approximate='none')\n",
      "      (5): Linear(in_features=3072, out_features=768, bias=True)\n",
      "      (6): Permute()\n",
      "    )\n",
      "    (stochastic_depth): StochasticDepth(p=0.08823529411764706, mode=row)\n",
      "  )\n",
      "  (1): CNBlock(\n",
      "    (block): Sequential(\n",
      "      (0): Conv2d(768, 768, kernel_size=(7, 7), stride=(1, 1), padding=(3, 3), groups=768)\n",
      "      (1): Permute()\n",
      "      (2): LayerNorm((768,), eps=1e-06, elementwise_affine=True)\n",
      "      (3): Linear(in_features=768, out_features=3072, bias=True)\n",
      "      (4): GELU(approximate='none')\n",
      "      (5): Linear(in_features=3072, out_features=768, bias=True)\n",
      "      (6): Permute()\n",
      "    )\n",
      "    (stochastic_depth): StochasticDepth(p=0.09411764705882353, mode=row)\n",
      "  )\n",
      "  (2): CNBlock(\n",
      "    (block): Sequential(\n",
      "      (0): Conv2d(768, 768, kernel_size=(7, 7), stride=(1, 1), padding=(3, 3), groups=768)\n",
      "      (1): Permute()\n",
      "      (2): LayerNorm((768,), eps=1e-06, elementwise_affine=True)\n",
      "      (3): Linear(in_features=768, out_features=3072, bias=True)\n",
      "      (4): GELU(approximate='none')\n",
      "      (5): Linear(in_features=3072, out_features=768, bias=True)\n",
      "      (6): Permute()\n",
      "    )\n",
      "    (stochastic_depth): StochasticDepth(p=0.1, mode=row)\n",
      "  )\n",
      ")\n"
     ]
    },
    {
     "name": "stderr",
     "output_type": "stream",
     "text": [
      "\n",
      "Epoch-Iteration:   0%|          | 0/4 [00:00<?, ?epoch/s]\u001b[A\n",
      "Epoch-Iteration:  25%|██▌       | 1/4 [00:27<01:21, 27.14s/epoch]\u001b[A\n",
      "Epoch-Iteration:  50%|█████     | 2/4 [00:51<00:51, 25.79s/epoch]\u001b[A\n",
      "Epoch-Iteration:  75%|███████▌  | 3/4 [01:17<00:25, 25.61s/epoch]\u001b[A\n",
      "Epoch-Iteration: 100%|██████████| 4/4 [01:42<00:00, 25.73s/epoch]\u001b[A\n",
      "Fold-Iteration: 100%|██████████| 1/1 [02:02<00:00, 122.83s/fold]\n"
     ]
    }
   ],
   "source": [
    "model_name = \"ensemble_range_freeze_high_augmix_more\"\n",
    "convnext = CCV1_Trainer(DataModule(basic_transform=convnext_transformer_augmented_more,include_megadetector_train=True,delete_unrecognized_mega=True,max_threshhold_megadetector=0.8,threshhold_megadetector=0.60,include_megadetector_test=True), convnext_tiny_,)\n",
    "convnext.train_model(model_name, pretrained_model, num_epochs=4, cross_validation=False,test_model=False,batchsize_train_data=64,lr = 1e-4)\n"
   ]
  },
  {
   "cell_type": "code",
   "execution_count": 4,
   "id": "0c29af62-6f18-4b2c-9101-64a2f372c748",
   "metadata": {},
   "outputs": [
    {
     "name": "stderr",
     "output_type": "stream",
     "text": [
      "Fold-Iteration:   0%|          | 0/1 [00:00<?, ?fold/s]/users/tmandelz/ccv1/tierli_ahluege/src/data_modules.py:142: UserWarning: Boolean Series key will be reindexed to match DataFrame index.\n",
      "  val_labels = val_labels[(val_features[\"conf\"]>self.max_threshhold_megadetector)==False]\n",
      "/users/tmandelz/ccv1/tierli_ahluege/src/data_modules.py:149: UserWarning: Boolean Series key will be reindexed to match DataFrame index.\n",
      "  train_labels = train_labels[(train_features[\"conf\"]>self.max_threshhold_megadetector)==False]\n",
      "/users/tmandelz/.local/share/virtualenvs/tierli_ahluege-KocqYYbw/lib/python3.9/site-packages/torchvision/models/_utils.py:223: UserWarning: Arguments other than a weight enum or `None` for 'weights' are deprecated since 0.13 and may be removed in the future. The current behavior is equivalent to passing `weights=ConvNeXt_Tiny_Weights.IMAGENET1K_V1`. You can also use `weights=ConvNeXt_Tiny_Weights.DEFAULT` to get the most up-to-date weights.\n",
      "  warnings.warn(msg)\n"
     ]
    },
    {
     "name": "stdout",
     "output_type": "stream",
     "text": [
      "The Backbone has 8 blocks\n",
      "No freeze\n",
      "Sequential(\n",
      "  (0): LayerNorm2d((384,), eps=1e-06, elementwise_affine=True)\n",
      "  (1): Conv2d(384, 768, kernel_size=(2, 2), stride=(2, 2))\n",
      ")\n",
      "No freeze\n",
      "Sequential(\n",
      "  (0): CNBlock(\n",
      "    (block): Sequential(\n",
      "      (0): Conv2d(768, 768, kernel_size=(7, 7), stride=(1, 1), padding=(3, 3), groups=768)\n",
      "      (1): Permute()\n",
      "      (2): LayerNorm((768,), eps=1e-06, elementwise_affine=True)\n",
      "      (3): Linear(in_features=768, out_features=3072, bias=True)\n",
      "      (4): GELU(approximate='none')\n",
      "      (5): Linear(in_features=3072, out_features=768, bias=True)\n",
      "      (6): Permute()\n",
      "    )\n",
      "    (stochastic_depth): StochasticDepth(p=0.08823529411764706, mode=row)\n",
      "  )\n",
      "  (1): CNBlock(\n",
      "    (block): Sequential(\n",
      "      (0): Conv2d(768, 768, kernel_size=(7, 7), stride=(1, 1), padding=(3, 3), groups=768)\n",
      "      (1): Permute()\n",
      "      (2): LayerNorm((768,), eps=1e-06, elementwise_affine=True)\n",
      "      (3): Linear(in_features=768, out_features=3072, bias=True)\n",
      "      (4): GELU(approximate='none')\n",
      "      (5): Linear(in_features=3072, out_features=768, bias=True)\n",
      "      (6): Permute()\n",
      "    )\n",
      "    (stochastic_depth): StochasticDepth(p=0.09411764705882353, mode=row)\n",
      "  )\n",
      "  (2): CNBlock(\n",
      "    (block): Sequential(\n",
      "      (0): Conv2d(768, 768, kernel_size=(7, 7), stride=(1, 1), padding=(3, 3), groups=768)\n",
      "      (1): Permute()\n",
      "      (2): LayerNorm((768,), eps=1e-06, elementwise_affine=True)\n",
      "      (3): Linear(in_features=768, out_features=3072, bias=True)\n",
      "      (4): GELU(approximate='none')\n",
      "      (5): Linear(in_features=3072, out_features=768, bias=True)\n",
      "      (6): Permute()\n",
      "    )\n",
      "    (stochastic_depth): StochasticDepth(p=0.1, mode=row)\n",
      "  )\n",
      ")\n"
     ]
    },
    {
     "name": "stderr",
     "output_type": "stream",
     "text": [
      "\n",
      "Epoch-Iteration:   0%|          | 0/4 [00:00<?, ?epoch/s]\u001b[A\n",
      "Epoch-Iteration:  25%|██▌       | 1/4 [00:24<01:13, 24.55s/epoch]\u001b[A\n",
      "Epoch-Iteration:  50%|█████     | 2/4 [00:48<00:48, 24.40s/epoch]\u001b[A\n",
      "Epoch-Iteration:  75%|███████▌  | 3/4 [01:13<00:24, 24.60s/epoch]\u001b[A\n",
      "Epoch-Iteration: 100%|██████████| 4/4 [01:38<00:00, 24.56s/epoch]\u001b[A\n",
      "Fold-Iteration: 100%|██████████| 1/1 [01:53<00:00, 113.41s/fold]\n"
     ]
    }
   ],
   "source": [
    "model_name = \"ensemble_range_freeze_high_augmix_less\"\n",
    "convnext = CCV1_Trainer(DataModule(basic_transform=convnext_transformer_augmented_less,include_megadetector_train=True,delete_unrecognized_mega=True,max_threshhold_megadetector=0.8,threshhold_megadetector=0.60,include_megadetector_test=True), convnext_tiny_,)\n",
    "convnext.train_model(model_name, pretrained_model, num_epochs=4, cross_validation=False,test_model=False,batchsize_train_data=64,lr = 1e-4)\n"
   ]
  },
  {
   "cell_type": "code",
   "execution_count": 5,
   "id": "090684bc-a0cc-4383-8a1d-12bccbd7340d",
   "metadata": {},
   "outputs": [
    {
     "name": "stderr",
     "output_type": "stream",
     "text": [
      "Fold-Iteration:   0%|          | 0/1 [00:00<?, ?fold/s]/users/tmandelz/ccv1/tierli_ahluege/src/data_modules.py:142: UserWarning: Boolean Series key will be reindexed to match DataFrame index.\n",
      "  val_labels = val_labels[(val_features[\"conf\"]>self.max_threshhold_megadetector)==False]\n",
      "/users/tmandelz/ccv1/tierli_ahluege/src/data_modules.py:149: UserWarning: Boolean Series key will be reindexed to match DataFrame index.\n",
      "  train_labels = train_labels[(train_features[\"conf\"]>self.max_threshhold_megadetector)==False]\n",
      "/users/tmandelz/.local/share/virtualenvs/tierli_ahluege-KocqYYbw/lib/python3.9/site-packages/torchvision/models/_utils.py:223: UserWarning: Arguments other than a weight enum or `None` for 'weights' are deprecated since 0.13 and may be removed in the future. The current behavior is equivalent to passing `weights=ConvNeXt_Tiny_Weights.IMAGENET1K_V1`. You can also use `weights=ConvNeXt_Tiny_Weights.DEFAULT` to get the most up-to-date weights.\n",
      "  warnings.warn(msg)\n"
     ]
    },
    {
     "name": "stdout",
     "output_type": "stream",
     "text": [
      "The Backbone has 8 blocks\n",
      "No freeze\n",
      "Sequential(\n",
      "  (0): LayerNorm2d((384,), eps=1e-06, elementwise_affine=True)\n",
      "  (1): Conv2d(384, 768, kernel_size=(2, 2), stride=(2, 2))\n",
      ")\n",
      "No freeze\n",
      "Sequential(\n",
      "  (0): CNBlock(\n",
      "    (block): Sequential(\n",
      "      (0): Conv2d(768, 768, kernel_size=(7, 7), stride=(1, 1), padding=(3, 3), groups=768)\n",
      "      (1): Permute()\n",
      "      (2): LayerNorm((768,), eps=1e-06, elementwise_affine=True)\n",
      "      (3): Linear(in_features=768, out_features=3072, bias=True)\n",
      "      (4): GELU(approximate='none')\n",
      "      (5): Linear(in_features=3072, out_features=768, bias=True)\n",
      "      (6): Permute()\n",
      "    )\n",
      "    (stochastic_depth): StochasticDepth(p=0.08823529411764706, mode=row)\n",
      "  )\n",
      "  (1): CNBlock(\n",
      "    (block): Sequential(\n",
      "      (0): Conv2d(768, 768, kernel_size=(7, 7), stride=(1, 1), padding=(3, 3), groups=768)\n",
      "      (1): Permute()\n",
      "      (2): LayerNorm((768,), eps=1e-06, elementwise_affine=True)\n",
      "      (3): Linear(in_features=768, out_features=3072, bias=True)\n",
      "      (4): GELU(approximate='none')\n",
      "      (5): Linear(in_features=3072, out_features=768, bias=True)\n",
      "      (6): Permute()\n",
      "    )\n",
      "    (stochastic_depth): StochasticDepth(p=0.09411764705882353, mode=row)\n",
      "  )\n",
      "  (2): CNBlock(\n",
      "    (block): Sequential(\n",
      "      (0): Conv2d(768, 768, kernel_size=(7, 7), stride=(1, 1), padding=(3, 3), groups=768)\n",
      "      (1): Permute()\n",
      "      (2): LayerNorm((768,), eps=1e-06, elementwise_affine=True)\n",
      "      (3): Linear(in_features=768, out_features=3072, bias=True)\n",
      "      (4): GELU(approximate='none')\n",
      "      (5): Linear(in_features=3072, out_features=768, bias=True)\n",
      "      (6): Permute()\n",
      "    )\n",
      "    (stochastic_depth): StochasticDepth(p=0.1, mode=row)\n",
      "  )\n",
      ")\n"
     ]
    },
    {
     "name": "stderr",
     "output_type": "stream",
     "text": [
      "\n",
      "Epoch-Iteration:   0%|          | 0/8 [00:00<?, ?epoch/s]\u001b[A\n",
      "Epoch-Iteration:  12%|█▎        | 1/8 [00:18<02:06, 18.05s/epoch]\u001b[A\n",
      "Epoch-Iteration:  25%|██▌       | 2/8 [00:31<01:31, 15.30s/epoch]\u001b[A\n",
      "Epoch-Iteration:  38%|███▊      | 3/8 [00:44<01:12, 14.42s/epoch]\u001b[A\n",
      "Epoch-Iteration:  50%|█████     | 4/8 [00:58<00:55, 13.98s/epoch]\u001b[A\n",
      "Epoch-Iteration:  62%|██████▎   | 5/8 [01:14<00:44, 14.74s/epoch]\u001b[A\n",
      "Epoch-Iteration:  75%|███████▌  | 6/8 [01:28<00:29, 14.56s/epoch]\u001b[A\n",
      "Epoch-Iteration:  88%|████████▊ | 7/8 [01:42<00:14, 14.37s/epoch]\u001b[A\n",
      "Epoch-Iteration: 100%|██████████| 8/8 [01:55<00:00, 14.49s/epoch]\u001b[A\n",
      "Fold-Iteration: 100%|██████████| 1/1 [02:09<00:00, 129.23s/fold]\n"
     ]
    }
   ],
   "source": [
    "model_name = \"ensemble_range_freeze_range_mid_augmix\"\n",
    "convnext = CCV1_Trainer(DataModule(basic_transform=convnext_transformer_augmented,include_megadetector_train=True,delete_unrecognized_mega=True,max_threshhold_megadetector=0.60,threshhold_megadetector=0.4,include_megadetector_test=True), convnext_tiny_,)\n",
    "convnext.train_model(model_name, pretrained_model, num_epochs=8, cross_validation=False,test_model=False,batchsize_train_data=64,lr = 1e-4)\n"
   ]
  },
  {
   "cell_type": "code",
   "execution_count": 6,
   "id": "bd883147-171d-47cd-a81f-788635c822ee",
   "metadata": {},
   "outputs": [
    {
     "name": "stderr",
     "output_type": "stream",
     "text": [
      "Fold-Iteration:   0%|          | 0/1 [00:00<?, ?fold/s]/users/tmandelz/ccv1/tierli_ahluege/src/data_modules.py:142: UserWarning: Boolean Series key will be reindexed to match DataFrame index.\n",
      "  val_labels = val_labels[(val_features[\"conf\"]>self.max_threshhold_megadetector)==False]\n",
      "/users/tmandelz/ccv1/tierli_ahluege/src/data_modules.py:149: UserWarning: Boolean Series key will be reindexed to match DataFrame index.\n",
      "  train_labels = train_labels[(train_features[\"conf\"]>self.max_threshhold_megadetector)==False]\n",
      "/users/tmandelz/.local/share/virtualenvs/tierli_ahluege-KocqYYbw/lib/python3.9/site-packages/torchvision/models/_utils.py:223: UserWarning: Arguments other than a weight enum or `None` for 'weights' are deprecated since 0.13 and may be removed in the future. The current behavior is equivalent to passing `weights=ConvNeXt_Tiny_Weights.IMAGENET1K_V1`. You can also use `weights=ConvNeXt_Tiny_Weights.DEFAULT` to get the most up-to-date weights.\n",
      "  warnings.warn(msg)\n"
     ]
    },
    {
     "name": "stdout",
     "output_type": "stream",
     "text": [
      "The Backbone has 8 blocks\n",
      "No freeze\n",
      "Sequential(\n",
      "  (0): LayerNorm2d((384,), eps=1e-06, elementwise_affine=True)\n",
      "  (1): Conv2d(384, 768, kernel_size=(2, 2), stride=(2, 2))\n",
      ")\n",
      "No freeze\n",
      "Sequential(\n",
      "  (0): CNBlock(\n",
      "    (block): Sequential(\n",
      "      (0): Conv2d(768, 768, kernel_size=(7, 7), stride=(1, 1), padding=(3, 3), groups=768)\n",
      "      (1): Permute()\n",
      "      (2): LayerNorm((768,), eps=1e-06, elementwise_affine=True)\n",
      "      (3): Linear(in_features=768, out_features=3072, bias=True)\n",
      "      (4): GELU(approximate='none')\n",
      "      (5): Linear(in_features=3072, out_features=768, bias=True)\n",
      "      (6): Permute()\n",
      "    )\n",
      "    (stochastic_depth): StochasticDepth(p=0.08823529411764706, mode=row)\n",
      "  )\n",
      "  (1): CNBlock(\n",
      "    (block): Sequential(\n",
      "      (0): Conv2d(768, 768, kernel_size=(7, 7), stride=(1, 1), padding=(3, 3), groups=768)\n",
      "      (1): Permute()\n",
      "      (2): LayerNorm((768,), eps=1e-06, elementwise_affine=True)\n",
      "      (3): Linear(in_features=768, out_features=3072, bias=True)\n",
      "      (4): GELU(approximate='none')\n",
      "      (5): Linear(in_features=3072, out_features=768, bias=True)\n",
      "      (6): Permute()\n",
      "    )\n",
      "    (stochastic_depth): StochasticDepth(p=0.09411764705882353, mode=row)\n",
      "  )\n",
      "  (2): CNBlock(\n",
      "    (block): Sequential(\n",
      "      (0): Conv2d(768, 768, kernel_size=(7, 7), stride=(1, 1), padding=(3, 3), groups=768)\n",
      "      (1): Permute()\n",
      "      (2): LayerNorm((768,), eps=1e-06, elementwise_affine=True)\n",
      "      (3): Linear(in_features=768, out_features=3072, bias=True)\n",
      "      (4): GELU(approximate='none')\n",
      "      (5): Linear(in_features=3072, out_features=768, bias=True)\n",
      "      (6): Permute()\n",
      "    )\n",
      "    (stochastic_depth): StochasticDepth(p=0.1, mode=row)\n",
      "  )\n",
      ")\n"
     ]
    },
    {
     "name": "stderr",
     "output_type": "stream",
     "text": [
      "\n",
      "Epoch-Iteration:   0%|          | 0/8 [00:00<?, ?epoch/s]\u001b[A\n",
      "Epoch-Iteration:  12%|█▎        | 1/8 [00:14<01:38, 14.06s/epoch]\u001b[A\n",
      "Epoch-Iteration:  25%|██▌       | 2/8 [00:27<01:23, 13.87s/epoch]\u001b[A\n",
      "Epoch-Iteration:  38%|███▊      | 3/8 [00:42<01:10, 14.10s/epoch]\u001b[A\n",
      "Epoch-Iteration:  50%|█████     | 4/8 [00:56<00:56, 14.01s/epoch]\u001b[A\n",
      "Epoch-Iteration:  62%|██████▎   | 5/8 [01:12<00:44, 14.95s/epoch]\u001b[A\n",
      "Epoch-Iteration:  75%|███████▌  | 6/8 [01:26<00:29, 14.69s/epoch]\u001b[A\n",
      "Epoch-Iteration:  88%|████████▊ | 7/8 [01:41<00:14, 14.52s/epoch]\u001b[A\n",
      "Epoch-Iteration: 100%|██████████| 8/8 [01:55<00:00, 14.42s/epoch]\u001b[A\n",
      "Fold-Iteration: 100%|██████████| 1/1 [02:09<00:00, 129.98s/fold]\n"
     ]
    }
   ],
   "source": [
    "model_name = \"ensemble_range_freeze_range_mid_augmix_more\"\n",
    "convnext = CCV1_Trainer(DataModule(basic_transform=convnext_transformer_augmented_more,include_megadetector_train=True,delete_unrecognized_mega=True,max_threshhold_megadetector=0.60,threshhold_megadetector=0.4,include_megadetector_test=True), convnext_tiny_,)\n",
    "convnext.train_model(model_name, pretrained_model, num_epochs=8, cross_validation=False,test_model=False,batchsize_train_data=64,lr = 1e-4)\n"
   ]
  },
  {
   "cell_type": "code",
   "execution_count": 7,
   "id": "e287ccc2-06e3-434d-b471-662ee483b5cd",
   "metadata": {},
   "outputs": [
    {
     "name": "stderr",
     "output_type": "stream",
     "text": [
      "Fold-Iteration:   0%|          | 0/1 [00:00<?, ?fold/s]/users/tmandelz/ccv1/tierli_ahluege/src/data_modules.py:142: UserWarning: Boolean Series key will be reindexed to match DataFrame index.\n",
      "  val_labels = val_labels[(val_features[\"conf\"]>self.max_threshhold_megadetector)==False]\n",
      "/users/tmandelz/ccv1/tierli_ahluege/src/data_modules.py:149: UserWarning: Boolean Series key will be reindexed to match DataFrame index.\n",
      "  train_labels = train_labels[(train_features[\"conf\"]>self.max_threshhold_megadetector)==False]\n",
      "/users/tmandelz/.local/share/virtualenvs/tierli_ahluege-KocqYYbw/lib/python3.9/site-packages/torchvision/models/_utils.py:223: UserWarning: Arguments other than a weight enum or `None` for 'weights' are deprecated since 0.13 and may be removed in the future. The current behavior is equivalent to passing `weights=ConvNeXt_Tiny_Weights.IMAGENET1K_V1`. You can also use `weights=ConvNeXt_Tiny_Weights.DEFAULT` to get the most up-to-date weights.\n",
      "  warnings.warn(msg)\n"
     ]
    },
    {
     "name": "stdout",
     "output_type": "stream",
     "text": [
      "The Backbone has 8 blocks\n",
      "No freeze\n",
      "Sequential(\n",
      "  (0): LayerNorm2d((384,), eps=1e-06, elementwise_affine=True)\n",
      "  (1): Conv2d(384, 768, kernel_size=(2, 2), stride=(2, 2))\n",
      ")\n",
      "No freeze\n",
      "Sequential(\n",
      "  (0): CNBlock(\n",
      "    (block): Sequential(\n",
      "      (0): Conv2d(768, 768, kernel_size=(7, 7), stride=(1, 1), padding=(3, 3), groups=768)\n",
      "      (1): Permute()\n",
      "      (2): LayerNorm((768,), eps=1e-06, elementwise_affine=True)\n",
      "      (3): Linear(in_features=768, out_features=3072, bias=True)\n",
      "      (4): GELU(approximate='none')\n",
      "      (5): Linear(in_features=3072, out_features=768, bias=True)\n",
      "      (6): Permute()\n",
      "    )\n",
      "    (stochastic_depth): StochasticDepth(p=0.08823529411764706, mode=row)\n",
      "  )\n",
      "  (1): CNBlock(\n",
      "    (block): Sequential(\n",
      "      (0): Conv2d(768, 768, kernel_size=(7, 7), stride=(1, 1), padding=(3, 3), groups=768)\n",
      "      (1): Permute()\n",
      "      (2): LayerNorm((768,), eps=1e-06, elementwise_affine=True)\n",
      "      (3): Linear(in_features=768, out_features=3072, bias=True)\n",
      "      (4): GELU(approximate='none')\n",
      "      (5): Linear(in_features=3072, out_features=768, bias=True)\n",
      "      (6): Permute()\n",
      "    )\n",
      "    (stochastic_depth): StochasticDepth(p=0.09411764705882353, mode=row)\n",
      "  )\n",
      "  (2): CNBlock(\n",
      "    (block): Sequential(\n",
      "      (0): Conv2d(768, 768, kernel_size=(7, 7), stride=(1, 1), padding=(3, 3), groups=768)\n",
      "      (1): Permute()\n",
      "      (2): LayerNorm((768,), eps=1e-06, elementwise_affine=True)\n",
      "      (3): Linear(in_features=768, out_features=3072, bias=True)\n",
      "      (4): GELU(approximate='none')\n",
      "      (5): Linear(in_features=3072, out_features=768, bias=True)\n",
      "      (6): Permute()\n",
      "    )\n",
      "    (stochastic_depth): StochasticDepth(p=0.1, mode=row)\n",
      "  )\n",
      ")\n"
     ]
    },
    {
     "name": "stderr",
     "output_type": "stream",
     "text": [
      "\n",
      "Epoch-Iteration:   0%|          | 0/8 [00:00<?, ?epoch/s]\u001b[A\n",
      "Epoch-Iteration:  12%|█▎        | 1/8 [00:13<01:36, 13.79s/epoch]\u001b[A\n",
      "Epoch-Iteration:  25%|██▌       | 2/8 [00:26<01:20, 13.43s/epoch]\u001b[A\n",
      "Epoch-Iteration:  38%|███▊      | 3/8 [00:40<01:07, 13.42s/epoch]\u001b[A\n",
      "Epoch-Iteration:  50%|█████     | 4/8 [00:53<00:53, 13.33s/epoch]\u001b[A\n",
      "Epoch-Iteration:  62%|██████▎   | 5/8 [01:09<00:42, 14.30s/epoch]\u001b[A\n",
      "Epoch-Iteration:  75%|███████▌  | 6/8 [01:23<00:28, 14.02s/epoch]\u001b[A\n",
      "Epoch-Iteration:  88%|████████▊ | 7/8 [01:36<00:13, 13.81s/epoch]\u001b[A\n",
      "Epoch-Iteration: 100%|██████████| 8/8 [01:49<00:00, 13.75s/epoch]\u001b[A\n",
      "Fold-Iteration: 100%|██████████| 1/1 [02:03<00:00, 123.42s/fold]\n"
     ]
    }
   ],
   "source": [
    "model_name = \"ensemble_range_freeze_range_mid_augmix_less\"\n",
    "convnext = CCV1_Trainer(DataModule(basic_transform=convnext_transformer_augmented_less,include_megadetector_train=True,delete_unrecognized_mega=True,max_threshhold_megadetector=0.60,threshhold_megadetector=0.4,include_megadetector_test=True), convnext_tiny_,)\n",
    "convnext.train_model(model_name, pretrained_model, num_epochs=8, cross_validation=False,test_model=False,batchsize_train_data=64,lr = 1e-4)\n"
   ]
  },
  {
   "cell_type": "code",
   "execution_count": 8,
   "id": "b14e5875-746a-462c-a6f6-41b42127e3eb",
   "metadata": {},
   "outputs": [
    {
     "name": "stderr",
     "output_type": "stream",
     "text": [
      "Fold-Iteration:   0%|          | 0/1 [00:00<?, ?fold/s]/users/tmandelz/.local/share/virtualenvs/tierli_ahluege-KocqYYbw/lib/python3.9/site-packages/torchvision/models/_utils.py:223: UserWarning: Arguments other than a weight enum or `None` for 'weights' are deprecated since 0.13 and may be removed in the future. The current behavior is equivalent to passing `weights=ConvNeXt_Tiny_Weights.IMAGENET1K_V1`. You can also use `weights=ConvNeXt_Tiny_Weights.DEFAULT` to get the most up-to-date weights.\n",
      "  warnings.warn(msg)\n"
     ]
    },
    {
     "name": "stdout",
     "output_type": "stream",
     "text": [
      "The Backbone has 8 blocks\n",
      "No freeze\n",
      "Sequential(\n",
      "  (0): LayerNorm2d((384,), eps=1e-06, elementwise_affine=True)\n",
      "  (1): Conv2d(384, 768, kernel_size=(2, 2), stride=(2, 2))\n",
      ")\n",
      "No freeze\n",
      "Sequential(\n",
      "  (0): CNBlock(\n",
      "    (block): Sequential(\n",
      "      (0): Conv2d(768, 768, kernel_size=(7, 7), stride=(1, 1), padding=(3, 3), groups=768)\n",
      "      (1): Permute()\n",
      "      (2): LayerNorm((768,), eps=1e-06, elementwise_affine=True)\n",
      "      (3): Linear(in_features=768, out_features=3072, bias=True)\n",
      "      (4): GELU(approximate='none')\n",
      "      (5): Linear(in_features=3072, out_features=768, bias=True)\n",
      "      (6): Permute()\n",
      "    )\n",
      "    (stochastic_depth): StochasticDepth(p=0.08823529411764706, mode=row)\n",
      "  )\n",
      "  (1): CNBlock(\n",
      "    (block): Sequential(\n",
      "      (0): Conv2d(768, 768, kernel_size=(7, 7), stride=(1, 1), padding=(3, 3), groups=768)\n",
      "      (1): Permute()\n",
      "      (2): LayerNorm((768,), eps=1e-06, elementwise_affine=True)\n",
      "      (3): Linear(in_features=768, out_features=3072, bias=True)\n",
      "      (4): GELU(approximate='none')\n",
      "      (5): Linear(in_features=3072, out_features=768, bias=True)\n",
      "      (6): Permute()\n",
      "    )\n",
      "    (stochastic_depth): StochasticDepth(p=0.09411764705882353, mode=row)\n",
      "  )\n",
      "  (2): CNBlock(\n",
      "    (block): Sequential(\n",
      "      (0): Conv2d(768, 768, kernel_size=(7, 7), stride=(1, 1), padding=(3, 3), groups=768)\n",
      "      (1): Permute()\n",
      "      (2): LayerNorm((768,), eps=1e-06, elementwise_affine=True)\n",
      "      (3): Linear(in_features=768, out_features=3072, bias=True)\n",
      "      (4): GELU(approximate='none')\n",
      "      (5): Linear(in_features=3072, out_features=768, bias=True)\n",
      "      (6): Permute()\n",
      "    )\n",
      "    (stochastic_depth): StochasticDepth(p=0.1, mode=row)\n",
      "  )\n",
      ")\n"
     ]
    },
    {
     "name": "stderr",
     "output_type": "stream",
     "text": [
      "\n",
      "Epoch-Iteration:   0%|          | 0/4 [00:00<?, ?epoch/s]\u001b[A\n",
      "Epoch-Iteration:  25%|██▌       | 1/4 [01:36<04:48, 96.10s/epoch]\u001b[A\n",
      "Epoch-Iteration:  50%|█████     | 2/4 [03:22<03:24, 102.17s/epoch]\u001b[A\n",
      "Epoch-Iteration:  75%|███████▌  | 3/4 [05:01<01:40, 100.84s/epoch]\u001b[A\n",
      "Epoch-Iteration: 100%|██████████| 4/4 [06:41<00:00, 100.49s/epoch]\u001b[A\n",
      "Fold-Iteration: 100%|██████████| 1/1 [06:55<00:00, 415.84s/fold]\n"
     ]
    }
   ],
   "source": [
    "model_name = \"ensemble_range_freeze_low_augmix\"\n",
    "convnext = CCV1_Trainer(DataModule(basic_transform=convnext_transformer_augmented,delete_recognized_mega=True,threshhold_megadetector=0.4), convnext_tiny_,)\n",
    "convnext.train_model(model_name, pretrained_model, num_epochs=4, cross_validation=False,test_model=False,batchsize_train_data=64,lr = 1e-4)\n"
   ]
  },
  {
   "cell_type": "code",
   "execution_count": 9,
   "id": "19877a09-83be-482e-9b66-3500bfb740e0",
   "metadata": {},
   "outputs": [
    {
     "name": "stderr",
     "output_type": "stream",
     "text": [
      "Fold-Iteration:   0%|          | 0/1 [00:00<?, ?fold/s]/users/tmandelz/.local/share/virtualenvs/tierli_ahluege-KocqYYbw/lib/python3.9/site-packages/torchvision/models/_utils.py:223: UserWarning: Arguments other than a weight enum or `None` for 'weights' are deprecated since 0.13 and may be removed in the future. The current behavior is equivalent to passing `weights=ConvNeXt_Tiny_Weights.IMAGENET1K_V1`. You can also use `weights=ConvNeXt_Tiny_Weights.DEFAULT` to get the most up-to-date weights.\n",
      "  warnings.warn(msg)\n"
     ]
    },
    {
     "name": "stdout",
     "output_type": "stream",
     "text": [
      "The Backbone has 8 blocks\n",
      "No freeze\n",
      "Sequential(\n",
      "  (0): LayerNorm2d((384,), eps=1e-06, elementwise_affine=True)\n",
      "  (1): Conv2d(384, 768, kernel_size=(2, 2), stride=(2, 2))\n",
      ")\n",
      "No freeze\n",
      "Sequential(\n",
      "  (0): CNBlock(\n",
      "    (block): Sequential(\n",
      "      (0): Conv2d(768, 768, kernel_size=(7, 7), stride=(1, 1), padding=(3, 3), groups=768)\n",
      "      (1): Permute()\n",
      "      (2): LayerNorm((768,), eps=1e-06, elementwise_affine=True)\n",
      "      (3): Linear(in_features=768, out_features=3072, bias=True)\n",
      "      (4): GELU(approximate='none')\n",
      "      (5): Linear(in_features=3072, out_features=768, bias=True)\n",
      "      (6): Permute()\n",
      "    )\n",
      "    (stochastic_depth): StochasticDepth(p=0.08823529411764706, mode=row)\n",
      "  )\n",
      "  (1): CNBlock(\n",
      "    (block): Sequential(\n",
      "      (0): Conv2d(768, 768, kernel_size=(7, 7), stride=(1, 1), padding=(3, 3), groups=768)\n",
      "      (1): Permute()\n",
      "      (2): LayerNorm((768,), eps=1e-06, elementwise_affine=True)\n",
      "      (3): Linear(in_features=768, out_features=3072, bias=True)\n",
      "      (4): GELU(approximate='none')\n",
      "      (5): Linear(in_features=3072, out_features=768, bias=True)\n",
      "      (6): Permute()\n",
      "    )\n",
      "    (stochastic_depth): StochasticDepth(p=0.09411764705882353, mode=row)\n",
      "  )\n",
      "  (2): CNBlock(\n",
      "    (block): Sequential(\n",
      "      (0): Conv2d(768, 768, kernel_size=(7, 7), stride=(1, 1), padding=(3, 3), groups=768)\n",
      "      (1): Permute()\n",
      "      (2): LayerNorm((768,), eps=1e-06, elementwise_affine=True)\n",
      "      (3): Linear(in_features=768, out_features=3072, bias=True)\n",
      "      (4): GELU(approximate='none')\n",
      "      (5): Linear(in_features=3072, out_features=768, bias=True)\n",
      "      (6): Permute()\n",
      "    )\n",
      "    (stochastic_depth): StochasticDepth(p=0.1, mode=row)\n",
      "  )\n",
      ")\n"
     ]
    },
    {
     "name": "stderr",
     "output_type": "stream",
     "text": [
      "\n",
      "Epoch-Iteration:   0%|          | 0/4 [00:00<?, ?epoch/s]\u001b[A\n",
      "Epoch-Iteration:  25%|██▌       | 1/4 [01:42<05:07, 102.41s/epoch]\u001b[A\n",
      "Epoch-Iteration:  50%|█████     | 2/4 [03:33<03:34, 107.43s/epoch]\u001b[A\n",
      "Epoch-Iteration:  75%|███████▌  | 3/4 [05:22<01:48, 108.29s/epoch]\u001b[A\n",
      "Epoch-Iteration: 100%|██████████| 4/4 [07:12<00:00, 108.10s/epoch]\u001b[A\n",
      "Fold-Iteration: 100%|██████████| 1/1 [07:26<00:00, 446.13s/fold]\n"
     ]
    }
   ],
   "source": [
    "model_name = \"ensemble_range_freeze_low_augmix_more\"\n",
    "convnext = CCV1_Trainer(DataModule(basic_transform=convnext_transformer_augmented_more,delete_recognized_mega=True,threshhold_megadetector=0.4), convnext_tiny_,)\n",
    "convnext.train_model(model_name, pretrained_model, num_epochs=4, cross_validation=False,test_model=False,batchsize_train_data=64,lr = 1e-4)\n"
   ]
  },
  {
   "cell_type": "code",
   "execution_count": 10,
   "id": "6219d664-947f-4993-8fe9-b463d115861b",
   "metadata": {},
   "outputs": [
    {
     "name": "stderr",
     "output_type": "stream",
     "text": [
      "Fold-Iteration:   0%|          | 0/1 [00:00<?, ?fold/s]/users/tmandelz/.local/share/virtualenvs/tierli_ahluege-KocqYYbw/lib/python3.9/site-packages/torchvision/models/_utils.py:223: UserWarning: Arguments other than a weight enum or `None` for 'weights' are deprecated since 0.13 and may be removed in the future. The current behavior is equivalent to passing `weights=ConvNeXt_Tiny_Weights.IMAGENET1K_V1`. You can also use `weights=ConvNeXt_Tiny_Weights.DEFAULT` to get the most up-to-date weights.\n",
      "  warnings.warn(msg)\n"
     ]
    },
    {
     "name": "stdout",
     "output_type": "stream",
     "text": [
      "The Backbone has 8 blocks\n",
      "No freeze\n",
      "Sequential(\n",
      "  (0): LayerNorm2d((384,), eps=1e-06, elementwise_affine=True)\n",
      "  (1): Conv2d(384, 768, kernel_size=(2, 2), stride=(2, 2))\n",
      ")\n",
      "No freeze\n",
      "Sequential(\n",
      "  (0): CNBlock(\n",
      "    (block): Sequential(\n",
      "      (0): Conv2d(768, 768, kernel_size=(7, 7), stride=(1, 1), padding=(3, 3), groups=768)\n",
      "      (1): Permute()\n",
      "      (2): LayerNorm((768,), eps=1e-06, elementwise_affine=True)\n",
      "      (3): Linear(in_features=768, out_features=3072, bias=True)\n",
      "      (4): GELU(approximate='none')\n",
      "      (5): Linear(in_features=3072, out_features=768, bias=True)\n",
      "      (6): Permute()\n",
      "    )\n",
      "    (stochastic_depth): StochasticDepth(p=0.08823529411764706, mode=row)\n",
      "  )\n",
      "  (1): CNBlock(\n",
      "    (block): Sequential(\n",
      "      (0): Conv2d(768, 768, kernel_size=(7, 7), stride=(1, 1), padding=(3, 3), groups=768)\n",
      "      (1): Permute()\n",
      "      (2): LayerNorm((768,), eps=1e-06, elementwise_affine=True)\n",
      "      (3): Linear(in_features=768, out_features=3072, bias=True)\n",
      "      (4): GELU(approximate='none')\n",
      "      (5): Linear(in_features=3072, out_features=768, bias=True)\n",
      "      (6): Permute()\n",
      "    )\n",
      "    (stochastic_depth): StochasticDepth(p=0.09411764705882353, mode=row)\n",
      "  )\n",
      "  (2): CNBlock(\n",
      "    (block): Sequential(\n",
      "      (0): Conv2d(768, 768, kernel_size=(7, 7), stride=(1, 1), padding=(3, 3), groups=768)\n",
      "      (1): Permute()\n",
      "      (2): LayerNorm((768,), eps=1e-06, elementwise_affine=True)\n",
      "      (3): Linear(in_features=768, out_features=3072, bias=True)\n",
      "      (4): GELU(approximate='none')\n",
      "      (5): Linear(in_features=3072, out_features=768, bias=True)\n",
      "      (6): Permute()\n",
      "    )\n",
      "    (stochastic_depth): StochasticDepth(p=0.1, mode=row)\n",
      "  )\n",
      ")\n"
     ]
    },
    {
     "name": "stderr",
     "output_type": "stream",
     "text": [
      "\n",
      "Epoch-Iteration:   0%|          | 0/4 [00:00<?, ?epoch/s]\u001b[A\n",
      "Epoch-Iteration:  25%|██▌       | 1/4 [01:19<03:58, 79.48s/epoch]\u001b[A\n",
      "Epoch-Iteration:  50%|█████     | 2/4 [02:47<02:48, 84.31s/epoch]\u001b[A\n",
      "Epoch-Iteration:  75%|███████▌  | 3/4 [04:13<01:25, 85.46s/epoch]\u001b[A\n",
      "Epoch-Iteration: 100%|██████████| 4/4 [05:42<00:00, 85.54s/epoch]\u001b[A\n",
      "Fold-Iteration: 100%|██████████| 1/1 [05:58<00:00, 358.13s/fold]\n"
     ]
    }
   ],
   "source": [
    "model_name = \"ensemble_range_freeze_low_augmix_less\"\n",
    "convnext = CCV1_Trainer(DataModule(basic_transform=convnext_transformer_augmented_less,delete_recognized_mega=True,threshhold_megadetector=0.4), convnext_tiny_,)\n",
    "convnext.train_model(model_name, pretrained_model, num_epochs=4, cross_validation=False,test_model=False,batchsize_train_data=64,lr = 1e-4)\n"
   ]
  },
  {
   "cell_type": "code",
   "execution_count": 12,
   "id": "8d4cf668-e9b1-4ffa-98dc-4f266d15996c",
   "metadata": {},
   "outputs": [
    {
     "name": "stderr",
     "output_type": "stream",
     "text": [
      "Fold-Iteration:   0%|          | 0/1 [00:00<?, ?fold/s]/users/tmandelz/.local/share/virtualenvs/tierli_ahluege-KocqYYbw/lib/python3.9/site-packages/torchvision/models/_utils.py:223: UserWarning: Arguments other than a weight enum or `None` for 'weights' are deprecated since 0.13 and may be removed in the future. The current behavior is equivalent to passing `weights=ConvNeXt_Tiny_Weights.IMAGENET1K_V1`. You can also use `weights=ConvNeXt_Tiny_Weights.DEFAULT` to get the most up-to-date weights.\n",
      "  warnings.warn(msg)\n"
     ]
    },
    {
     "name": "stdout",
     "output_type": "stream",
     "text": [
      "The Backbone has 8 blocks\n",
      "No freeze\n",
      "Sequential(\n",
      "  (0): LayerNorm2d((384,), eps=1e-06, elementwise_affine=True)\n",
      "  (1): Conv2d(384, 768, kernel_size=(2, 2), stride=(2, 2))\n",
      ")\n",
      "No freeze\n",
      "Sequential(\n",
      "  (0): CNBlock(\n",
      "    (block): Sequential(\n",
      "      (0): Conv2d(768, 768, kernel_size=(7, 7), stride=(1, 1), padding=(3, 3), groups=768)\n",
      "      (1): Permute()\n",
      "      (2): LayerNorm((768,), eps=1e-06, elementwise_affine=True)\n",
      "      (3): Linear(in_features=768, out_features=3072, bias=True)\n",
      "      (4): GELU(approximate='none')\n",
      "      (5): Linear(in_features=3072, out_features=768, bias=True)\n",
      "      (6): Permute()\n",
      "    )\n",
      "    (stochastic_depth): StochasticDepth(p=0.08823529411764706, mode=row)\n",
      "  )\n",
      "  (1): CNBlock(\n",
      "    (block): Sequential(\n",
      "      (0): Conv2d(768, 768, kernel_size=(7, 7), stride=(1, 1), padding=(3, 3), groups=768)\n",
      "      (1): Permute()\n",
      "      (2): LayerNorm((768,), eps=1e-06, elementwise_affine=True)\n",
      "      (3): Linear(in_features=768, out_features=3072, bias=True)\n",
      "      (4): GELU(approximate='none')\n",
      "      (5): Linear(in_features=3072, out_features=768, bias=True)\n",
      "      (6): Permute()\n",
      "    )\n",
      "    (stochastic_depth): StochasticDepth(p=0.09411764705882353, mode=row)\n",
      "  )\n",
      "  (2): CNBlock(\n",
      "    (block): Sequential(\n",
      "      (0): Conv2d(768, 768, kernel_size=(7, 7), stride=(1, 1), padding=(3, 3), groups=768)\n",
      "      (1): Permute()\n",
      "      (2): LayerNorm((768,), eps=1e-06, elementwise_affine=True)\n",
      "      (3): Linear(in_features=768, out_features=3072, bias=True)\n",
      "      (4): GELU(approximate='none')\n",
      "      (5): Linear(in_features=3072, out_features=768, bias=True)\n",
      "      (6): Permute()\n",
      "    )\n",
      "    (stochastic_depth): StochasticDepth(p=0.1, mode=row)\n",
      "  )\n",
      ")\n"
     ]
    },
    {
     "name": "stderr",
     "output_type": "stream",
     "text": [
      "\n",
      "Epoch-Iteration:   0%|          | 0/1 [00:00<?, ?epoch/s]\u001b[A\n",
      "Epoch-Iteration: 100%|██████████| 1/1 [01:07<00:00, 67.63s/epoch]\u001b[A\n",
      "Fold-Iteration: 100%|██████████| 1/1 [01:20<00:00, 80.42s/fold]\n"
     ]
    }
   ],
   "source": [
    "model_name = \"ensemble_range_freeze_low_augmix_lesser\"\n",
    "convnext = CCV1_Trainer(DataModule(basic_transform=convnext_transformer_augmented_lesser,delete_recognized_mega=True,threshhold_megadetector=0.4), convnext_tiny_,)\n",
    "convnext.train_model(model_name, pretrained_model, num_epochs=1, cross_validation=False,test_model=False,batchsize_train_data=64,lr = 1e-4)\n"
   ]
  },
  {
   "cell_type": "code",
   "execution_count": null,
   "id": "2b2c02cf-5f3d-428e-9516-c8e002b2124e",
   "metadata": {},
   "outputs": [],
   "source": []
  }
 ],
 "metadata": {
  "kernelspec": {
   "display_name": "ccv1",
   "language": "python",
   "name": "ccv1"
  },
  "language_info": {
   "codemirror_mode": {
    "name": "ipython",
    "version": 3
   },
   "file_extension": ".py",
   "mimetype": "text/x-python",
   "name": "python",
   "nbconvert_exporter": "python",
   "pygments_lexer": "ipython3",
   "version": "3.9.4"
  }
 },
 "nbformat": 4,
 "nbformat_minor": 5
}
