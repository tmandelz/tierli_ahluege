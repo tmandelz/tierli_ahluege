{
 "cells": [
  {
   "cell_type": "code",
   "execution_count": 1,
   "id": "f8096a36-00f1-49c5-8b3d-9ae05325deee",
   "metadata": {},
   "outputs": [
    {
     "name": "stdout",
     "output_type": "stream",
     "text": [
      "/users/tmandelz/ccv1/tierli_ahluege/modelling\n"
     ]
    },
    {
     "name": "stderr",
     "output_type": "stream",
     "text": [
      "/users/tmandelz/.local/share/virtualenvs/tierli_ahluege-KocqYYbw/lib/python3.9/site-packages/tqdm/auto.py:21: TqdmWarning: IProgress not found. Please update jupyter and ipywidgets. See https://ipywidgets.readthedocs.io/en/stable/user_install.html\n",
      "  from .autonotebook import tqdm as notebook_tqdm\n"
     ]
    },
    {
     "name": "stdout",
     "output_type": "stream",
     "text": [
      "env: \"WANDB_NOTEBOOK_NAME\"=\"ccv1_efficient_net\"\n",
      "env: WANDB_SILENT=True\n"
     ]
    }
   ],
   "source": [
    "# %%\n",
    "import os\n",
    "print(os.getcwd())\n",
    "if os.getcwd().endswith(\"modelling\"):\n",
    "    os.chdir(\"..\")\n",
    "\n",
    "#%%\n",
    "is_cscs_run = False\n",
    "if is_cscs_run:\n",
    "    os.chdir(\"ccv1/tierli_ahluege/\")\n",
    "    print(os.getcwd())\n",
    "#%%\n",
    "from src.modelling import CCV1_Trainer\n",
    "from src.augmentation import CCV1Transformer,None_Transform\n",
    "from src.data_modules import DataModule\n",
    "from torch import nn\n",
    "import torch\n",
    "from torchvision import transforms,models\n",
    "\n",
    "#%%\n",
    "# wandb Notebook Setup\n",
    "%env \"WANDB_NOTEBOOK_NAME\" \"ccv1_efficient_net\"\n",
    "%env WANDB_SILENT=True\n",
    "# %%\n",
    "# https://pytorch.org/vision/main/models/generated/torchvision.models.efficientnet_b0.html#torchvision.models.efficientnet_b0\n",
    "efficientnet_transformer = CCV1Transformer(\n",
    "    transforms.Compose([None_Transform()]), \"model_specific\", \"efficientnet\"\n",
    ").getCompose()\n",
    "# %%\n",
    "def efficient_():\n",
    "    model = models.efficientnet_b0(pretrained=True)\n",
    "    model.classifier = nn.Sequential(\n",
    "    nn.Linear(1280, 1000),  # dense layer takes a 2048-dim input and outputs 100-dim\n",
    "    nn.ReLU(inplace=True),  # ReLU activation introduces non-linearity\n",
    "    nn.Dropout(0.1),  # common technique to mitigate overfitting\n",
    "    nn.Linear(\n",
    "        1000, 8\n",
    "    )) # final dense layer outputs 8-dim corresponding to our target classes\n",
    "    return model\n",
    "\n",
    "\n"
   ]
  },
  {
   "cell_type": "code",
   "execution_count": null,
   "id": "d30dee4e-e51a-416e-8fa5-f13a10c7633c",
   "metadata": {},
   "outputs": [
    {
     "name": "stderr",
     "output_type": "stream",
     "text": [
      "Fold-Iteration:   0%|          | 0/5 [00:00<?, ?fold/s]/users/tmandelz/.local/share/virtualenvs/tierli_ahluege-KocqYYbw/lib/python3.9/site-packages/torchvision/models/_utils.py:208: UserWarning: The parameter 'pretrained' is deprecated since 0.13 and may be removed in the future, please use 'weights' instead.\n",
      "  warnings.warn(\n",
      "/users/tmandelz/.local/share/virtualenvs/tierli_ahluege-KocqYYbw/lib/python3.9/site-packages/torchvision/models/_utils.py:223: UserWarning: Arguments other than a weight enum or `None` for 'weights' are deprecated since 0.13 and may be removed in the future. The current behavior is equivalent to passing `weights=EfficientNet_B0_Weights.IMAGENET1K_V1`. You can also use `weights=EfficientNet_B0_Weights.DEFAULT` to get the most up-to-date weights.\n",
      "  warnings.warn(msg)\n",
      "\n",
      "Epoch-Iteration:   0%|          | 0/6 [00:00<?, ?epoch/s]\u001b[A\n",
      "Epoch-Iteration:  17%|█▋        | 1/6 [02:44<13:42, 164.48s/epoch]\u001b[A"
     ]
    }
   ],
   "source": [
    "# %%\n",
    "efficientnet = CCV1_Trainer(DataModule(efficientnet_transformer), efficient_)\n",
    "efficientnet.train_model(\"efficient_net_b_without augmentation3\", \"efficientnet\", num_epochs=6, test_model=False,batchsize_train_data=128)\n",
    "\n",
    "# %%\n",
    "efficientnet.submission(\"test_efficient\")"
   ]
  },
  {
   "cell_type": "code",
   "execution_count": null,
   "id": "3bf70665-f148-4c29-8de0-a17ec036e754",
   "metadata": {},
   "outputs": [],
   "source": []
  }
 ],
 "metadata": {
  "kernelspec": {
   "display_name": "ccv1",
   "language": "python",
   "name": "ccv1"
  },
  "language_info": {
   "codemirror_mode": {
    "name": "ipython",
    "version": 3
   },
   "file_extension": ".py",
   "mimetype": "text/x-python",
   "name": "python",
   "nbconvert_exporter": "python",
   "pygments_lexer": "ipython3",
   "version": "3.9.4"
  }
 },
 "nbformat": 4,
 "nbformat_minor": 5
}
