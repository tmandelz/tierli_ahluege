{
 "cells": [
  {
   "cell_type": "code",
   "execution_count": 1,
   "id": "11ad09f0-812f-4a4a-9c0d-74389f396504",
   "metadata": {},
   "outputs": [
    {
     "name": "stdout",
     "output_type": "stream",
     "text": [
      "/users/tmandelz/ccv1/tierli_ahluege/modelling\n"
     ]
    },
    {
     "name": "stderr",
     "output_type": "stream",
     "text": [
      "/users/tmandelz/.local/share/virtualenvs/tierli_ahluege-KocqYYbw/lib/python3.9/site-packages/tqdm/auto.py:21: TqdmWarning: IProgress not found. Please update jupyter and ipywidgets. See https://ipywidgets.readthedocs.io/en/stable/user_install.html\n",
      "  from .autonotebook import tqdm as notebook_tqdm\n"
     ]
    },
    {
     "name": "stdout",
     "output_type": "stream",
     "text": [
      "env: \"WANDB_NOTEBOOK_NAME\"=\"ccv1_convnext\"\n",
      "env: WANDB_SILENT=True\n"
     ]
    }
   ],
   "source": [
    "#%% [markdown]\n",
    "\n",
    "#%%\n",
    "import os\n",
    "print(os.getcwd())\n",
    "if os.getcwd().endswith(\"modelling\"):\n",
    "    os.chdir(\"..\")\n",
    "\n",
    "#%%\n",
    "is_cscs_run = False\n",
    "\n",
    "if is_cscs_run:\n",
    "    os.chdir(\"ccv1/tierli_ahluege/\")\n",
    "    print(os.getcwd())\n",
    "\n",
    "#%%\n",
    "from src.modelling import CCV1_Trainer\n",
    "from src.augmentation import CCV1Transformer,None_Transform\n",
    "from src.data_modules import DataModule\n",
    "from torch import nn\n",
    "import torch\n",
    "from torchvision import transforms,models\n",
    "\n",
    "#%%\n",
    "# wandb Notebook Setup\n",
    "%env \"WANDB_NOTEBOOK_NAME\" \"ccv1_convnext\"\n",
    "%env WANDB_SILENT=True\n",
    "\n",
    "# %%\n",
    "def convnext_tiny_():\n",
    "    model = models.convnext_tiny(weights=True,)\n",
    "    model.classifier[2] = nn.Linear(in_features=768, out_features=8, bias=True)\n",
    "    return model\n",
    "\n"
   ]
  },
  {
   "cell_type": "code",
   "execution_count": 2,
   "id": "6f427d8d-adf4-4174-aade-224f8c91027a",
   "metadata": {},
   "outputs": [
    {
     "data": {
      "text/plain": [
       "Compose(\n",
       "    None_Transform()\n",
       "    Compose(\n",
       "    None_Transform()\n",
       ")\n",
       "    ToTensor()\n",
       "    Compose(\n",
       "    None_Transform()\n",
       ")\n",
       "    Compose(\n",
       "    Resize(size=(236, 236), interpolation=bilinear, max_size=None, antialias=True)\n",
       "    CenterCrop(size=(224, 224))\n",
       "    Normalize(mean=(0.485, 0.456, 0.406), std=(0.229, 0.224, 0.225))\n",
       ")\n",
       ")"
      ]
     },
     "execution_count": 2,
     "metadata": {},
     "output_type": "execute_result"
    }
   ],
   "source": [
    "#%%\n",
    "model_name = \"convnext_tiny_megadetector_beste\"\n",
    "pretrained_model = \"convnext\"\n",
    "#%%\n",
    "convnext_transformer = CCV1Transformer(\n",
    "    transforms.Compose([None_Transform()]), \"model_specific\", pretrained_model\n",
    ").getCompose(True)\n",
    "convnext_transformer\n"
   ]
  },
  {
   "cell_type": "code",
   "execution_count": 3,
   "id": "609221f2-f628-4090-99e2-71b6429296d6",
   "metadata": {},
   "outputs": [
    {
     "name": "stderr",
     "output_type": "stream",
     "text": [
      "Fold-Iteration:   0%|          | 0/1 [00:00<?, ?fold/s]/users/tmandelz/ccv1/tierli_ahluege/src/data_modules.py:142: UserWarning: Boolean Series key will be reindexed to match DataFrame index.\n",
      "  val_labels = val_labels[(val_features[\"conf\"]>self.max_threshhold_megadetector)==False]\n",
      "/users/tmandelz/ccv1/tierli_ahluege/src/data_modules.py:149: UserWarning: Boolean Series key will be reindexed to match DataFrame index.\n",
      "  train_labels = train_labels[(train_features[\"conf\"]>self.max_threshhold_megadetector)==False]\n",
      "/users/tmandelz/.local/share/virtualenvs/tierli_ahluege-KocqYYbw/lib/python3.9/site-packages/torchvision/models/_utils.py:223: UserWarning: Arguments other than a weight enum or `None` for 'weights' are deprecated since 0.13 and may be removed in the future. The current behavior is equivalent to passing `weights=ConvNeXt_Tiny_Weights.IMAGENET1K_V1`. You can also use `weights=ConvNeXt_Tiny_Weights.DEFAULT` to get the most up-to-date weights.\n",
      "  warnings.warn(msg)\n",
      "\n",
      "Epoch-Iteration:   0%|          | 0/10 [00:00<?, ?epoch/s]\u001b[A\n",
      "Epoch-Iteration:  10%|█         | 1/10 [01:07<10:10, 67.79s/epoch]\u001b[A\n",
      "Epoch-Iteration:  20%|██        | 2/10 [02:12<08:47, 65.91s/epoch]\u001b[A\n",
      "Epoch-Iteration:  30%|███       | 3/10 [03:16<07:36, 65.15s/epoch]\u001b[A\n",
      "Epoch-Iteration:  40%|████      | 4/10 [04:21<06:29, 64.91s/epoch]\u001b[A\n",
      "Epoch-Iteration:  50%|█████     | 5/10 [05:25<05:23, 64.72s/epoch]\u001b[A\n",
      "Epoch-Iteration:  60%|██████    | 6/10 [06:30<04:18, 64.68s/epoch]\u001b[A\n",
      "Epoch-Iteration:  70%|███████   | 7/10 [07:32<03:11, 63.90s/epoch]\u001b[A\n",
      "Epoch-Iteration:  80%|████████  | 8/10 [08:37<02:08, 64.15s/epoch]\u001b[A\n",
      "Epoch-Iteration:  90%|█████████ | 9/10 [09:41<01:04, 64.21s/epoch]\u001b[A\n",
      "Epoch-Iteration: 100%|██████████| 10/10 [10:45<00:00, 64.57s/epoch]\u001b[A\n",
      "Fold-Iteration: 100%|██████████| 1/1 [11:07<00:00, 667.25s/fold]\n"
     ]
    }
   ],
   "source": [
    "model_name = \"convnext_tiny_megadetector_ensemble_range_mid_lr_1e-4\"\n",
    "convnext = CCV1_Trainer(DataModule(basic_transform=convnext_transformer,include_megadetector_train=True,delete_unrecognized_mega=True,max_threshhold_megadetector=0.65,threshhold_megadetector=0.4,include_megadetector_test=True), convnext_tiny_,)\n",
    "convnext.train_model(model_name, pretrained_model, num_epochs=10, cross_validation=False,test_model=False,batchsize_train_data=128,lr = 1e-4)\n"
   ]
  },
  {
   "cell_type": "code",
   "execution_count": 4,
   "id": "0dcbb22c-0e42-465b-97a2-be9d3af639eb",
   "metadata": {},
   "outputs": [
    {
     "name": "stdout",
     "output_type": "stream",
     "text": [
      "Saved model: convnext_tiny_megadetector_ensemble_range_mid_lr_1e-4 to ./model_submit/convnext_tiny_megadetector_ensemble_range_mid_lr_1e-4.pth\n",
      "Saved submission: convnext_tiny_megadetector_ensemble_range_mid_lr_1e-4 to ./data_submit/convnext_tiny_megadetector_ensemble_range_mid_lr_1e-4.csv\n"
     ]
    }
   ],
   "source": [
    "convnext.submission(model_name,ensemble=True)"
   ]
  },
  {
   "cell_type": "code",
   "execution_count": 5,
   "id": "cd29422d-4567-4ed9-afa1-11189063b7e0",
   "metadata": {},
   "outputs": [
    {
     "name": "stderr",
     "output_type": "stream",
     "text": [
      "Fold-Iteration:   0%|          | 0/1 [00:00<?, ?fold/s]/users/tmandelz/ccv1/tierli_ahluege/src/data_modules.py:142: UserWarning: Boolean Series key will be reindexed to match DataFrame index.\n",
      "  val_labels = val_labels[(val_features[\"conf\"]>self.max_threshhold_megadetector)==False]\n",
      "/users/tmandelz/ccv1/tierli_ahluege/src/data_modules.py:149: UserWarning: Boolean Series key will be reindexed to match DataFrame index.\n",
      "  train_labels = train_labels[(train_features[\"conf\"]>self.max_threshhold_megadetector)==False]\n",
      "/users/tmandelz/.local/share/virtualenvs/tierli_ahluege-KocqYYbw/lib/python3.9/site-packages/torchvision/models/_utils.py:223: UserWarning: Arguments other than a weight enum or `None` for 'weights' are deprecated since 0.13 and may be removed in the future. The current behavior is equivalent to passing `weights=ConvNeXt_Tiny_Weights.IMAGENET1K_V1`. You can also use `weights=ConvNeXt_Tiny_Weights.DEFAULT` to get the most up-to-date weights.\n",
      "  warnings.warn(msg)\n",
      "\n",
      "Epoch-Iteration:   0%|          | 0/10 [00:00<?, ?epoch/s]\u001b[A\n",
      "Epoch-Iteration:  10%|█         | 1/10 [03:24<30:41, 204.60s/epoch]\u001b[A\n",
      "Epoch-Iteration:  20%|██        | 2/10 [06:54<27:39, 207.48s/epoch]\u001b[A\n",
      "Epoch-Iteration:  30%|███       | 3/10 [10:23<24:17, 208.26s/epoch]\u001b[A\n",
      "Epoch-Iteration:  40%|████      | 4/10 [13:44<20:33, 205.56s/epoch]\u001b[A\n",
      "Epoch-Iteration:  50%|█████     | 5/10 [17:14<17:15, 207.02s/epoch]\u001b[A\n",
      "Epoch-Iteration:  60%|██████    | 6/10 [20:35<13:40, 205.18s/epoch]\u001b[A\n",
      "Epoch-Iteration:  70%|███████   | 7/10 [24:06<10:21, 207.00s/epoch]\u001b[A\n",
      "Epoch-Iteration:  80%|████████  | 8/10 [27:27<06:50, 205.04s/epoch]\u001b[A\n",
      "Epoch-Iteration:  90%|█████████ | 9/10 [30:57<03:26, 206.54s/epoch]\u001b[A\n",
      "Epoch-Iteration: 100%|██████████| 10/10 [35:46<00:00, 214.69s/epoch]\u001b[A\n",
      "Fold-Iteration: 100%|██████████| 1/1 [36:02<00:00, 2162.78s/fold]\n"
     ]
    }
   ],
   "source": [
    "model_name = \"convnext_tiny_megadetector_ensemble_range_high_lr_1e-4\"\n",
    "convnext = CCV1_Trainer(DataModule(basic_transform=convnext_transformer,include_megadetector_train=True,delete_unrecognized_mega=True,max_threshhold_megadetector=1.01,threshhold_megadetector=0.65,include_megadetector_test=True), convnext_tiny_,)\n",
    "convnext.train_model(model_name, pretrained_model, num_epochs=10, cross_validation=False,test_model=False,batchsize_train_data=128,lr = 1e-4)\n"
   ]
  },
  {
   "cell_type": "code",
   "execution_count": 6,
   "id": "1b053e41-808c-47d6-8089-80531464c492",
   "metadata": {},
   "outputs": [
    {
     "name": "stdout",
     "output_type": "stream",
     "text": [
      "Saved model: convnext_tiny_megadetector_ensemble_range_high_lr_1e-4 to ./model_submit/convnext_tiny_megadetector_ensemble_range_high_lr_1e-4.pth\n",
      "Saved submission: convnext_tiny_megadetector_ensemble_range_high_lr_1e-4 to ./data_submit/convnext_tiny_megadetector_ensemble_range_high_lr_1e-4.csv\n"
     ]
    }
   ],
   "source": [
    "convnext.submission(model_name,ensemble=True)"
   ]
  },
  {
   "cell_type": "code",
   "execution_count": 7,
   "id": "a2f85ab2-a2bc-4aa8-b859-d57fb700bf2e",
   "metadata": {},
   "outputs": [
    {
     "name": "stderr",
     "output_type": "stream",
     "text": [
      "Fold-Iteration:   0%|          | 0/1 [00:00<?, ?fold/s]/users/tmandelz/.local/share/virtualenvs/tierli_ahluege-KocqYYbw/lib/python3.9/site-packages/torchvision/models/_utils.py:223: UserWarning: Arguments other than a weight enum or `None` for 'weights' are deprecated since 0.13 and may be removed in the future. The current behavior is equivalent to passing `weights=ConvNeXt_Tiny_Weights.IMAGENET1K_V1`. You can also use `weights=ConvNeXt_Tiny_Weights.DEFAULT` to get the most up-to-date weights.\n",
      "  warnings.warn(msg)\n",
      "\n",
      "Epoch-Iteration:   0%|          | 0/10 [00:00<?, ?epoch/s]\u001b[A\n",
      "Epoch-Iteration:  10%|█         | 1/10 [00:34<05:10, 34.55s/epoch]\u001b[A\n",
      "Epoch-Iteration:  20%|██        | 2/10 [01:00<03:55, 29.43s/epoch]\u001b[A\n",
      "Epoch-Iteration:  30%|███       | 3/10 [01:26<03:16, 28.01s/epoch]\u001b[A\n",
      "Epoch-Iteration:  40%|████      | 4/10 [02:20<03:49, 38.28s/epoch]\u001b[A\n",
      "Epoch-Iteration:  50%|█████     | 5/10 [03:24<03:58, 47.63s/epoch]\u001b[A\n",
      "Epoch-Iteration:  60%|██████    | 6/10 [04:50<04:01, 60.41s/epoch]\u001b[A\n",
      "Epoch-Iteration:  70%|███████   | 7/10 [05:52<03:03, 61.11s/epoch]\u001b[A\n",
      "Epoch-Iteration:  80%|████████  | 8/10 [06:49<01:59, 59.58s/epoch]\u001b[A\n",
      "Epoch-Iteration:  90%|█████████ | 9/10 [07:15<00:49, 49.24s/epoch]\u001b[A\n",
      "Epoch-Iteration: 100%|██████████| 10/10 [07:40<00:00, 46.09s/epoch]\u001b[A\n",
      "Fold-Iteration: 100%|██████████| 1/1 [07:54<00:00, 474.50s/fold]\n"
     ]
    }
   ],
   "source": [
    "model_name = \"convnext_tiny_megadetector_ensemble_range_low_lr_1e-4\"\n",
    "convnext = CCV1_Trainer(DataModule(basic_transform=convnext_transformer,include_megadetector_train=True,delete_recognized_mega=True,max_threshhold_megadetector=0.4,threshhold_megadetector=0,include_megadetector_test=True), convnext_tiny_,)\n",
    "convnext.train_model(model_name, pretrained_model, num_epochs=10, cross_validation=False,test_model=False,batchsize_train_data=128,lr = 1e-4)\n"
   ]
  },
  {
   "cell_type": "code",
   "execution_count": 8,
   "id": "e15e8622-5ec6-4444-8c41-b6956d386d65",
   "metadata": {},
   "outputs": [
    {
     "name": "stdout",
     "output_type": "stream",
     "text": [
      "Saved model: convnext_tiny_megadetector_ensemble_range_low_lr_1e-4 to ./model_submit/convnext_tiny_megadetector_ensemble_range_low_lr_1e-4.pth\n",
      "Saved submission: convnext_tiny_megadetector_ensemble_range_low_lr_1e-4 to ./data_submit/convnext_tiny_megadetector_ensemble_range_low_lr_1e-4.csv\n"
     ]
    }
   ],
   "source": [
    "convnext.submission(model_name,ensemble=True)"
   ]
  },
  {
   "cell_type": "code",
   "execution_count": 3,
   "id": "023513f3-1e03-44f6-ba3c-1cdc91f8dbc9",
   "metadata": {},
   "outputs": [
    {
     "name": "stderr",
     "output_type": "stream",
     "text": [
      "Fold-Iteration:   0%|          | 0/5 [00:00<?, ?fold/s]/users/tmandelz/ccv1/tierli_ahluege/src/data_modules.py:142: UserWarning: Boolean Series key will be reindexed to match DataFrame index.\n",
      "  val_labels = val_labels[(val_features[\"conf\"]>self.max_threshhold_megadetector)==False]\n",
      "/users/tmandelz/ccv1/tierli_ahluege/src/data_modules.py:149: UserWarning: Boolean Series key will be reindexed to match DataFrame index.\n",
      "  train_labels = train_labels[(train_features[\"conf\"]>self.max_threshhold_megadetector)==False]\n",
      "/users/tmandelz/.local/share/virtualenvs/tierli_ahluege-KocqYYbw/lib/python3.9/site-packages/torchvision/models/_utils.py:223: UserWarning: Arguments other than a weight enum or `None` for 'weights' are deprecated since 0.13 and may be removed in the future. The current behavior is equivalent to passing `weights=ConvNeXt_Tiny_Weights.IMAGENET1K_V1`. You can also use `weights=ConvNeXt_Tiny_Weights.DEFAULT` to get the most up-to-date weights.\n",
      "  warnings.warn(msg)\n",
      "\n",
      "Epoch-Iteration:   0%|          | 0/7 [00:00<?, ?epoch/s]\u001b[A\n",
      "Epoch-Iteration:  14%|█▍        | 1/7 [01:01<06:11, 61.86s/epoch]\u001b[A\n",
      "Epoch-Iteration:  29%|██▊       | 2/7 [01:59<04:57, 59.58s/epoch]\u001b[A\n",
      "Epoch-Iteration:  43%|████▎     | 3/7 [02:55<03:51, 57.88s/epoch]\u001b[A\n",
      "Epoch-Iteration:  57%|█████▋    | 4/7 [03:54<02:54, 58.07s/epoch]\u001b[A\n",
      "Epoch-Iteration:  71%|███████▏  | 5/7 [04:51<01:56, 58.02s/epoch]\u001b[A\n",
      "Epoch-Iteration:  86%|████████▌ | 6/7 [05:47<00:57, 57.15s/epoch]\u001b[A\n",
      "Epoch-Iteration: 100%|██████████| 7/7 [06:45<00:00, 57.95s/epoch]\u001b[A\n",
      "Fold-Iteration:  20%|██        | 1/5 [07:06<28:25, 426.45s/fold]/users/tmandelz/ccv1/tierli_ahluege/src/data_modules.py:142: UserWarning: Boolean Series key will be reindexed to match DataFrame index.\n",
      "  val_labels = val_labels[(val_features[\"conf\"]>self.max_threshhold_megadetector)==False]\n",
      "/users/tmandelz/ccv1/tierli_ahluege/src/data_modules.py:149: UserWarning: Boolean Series key will be reindexed to match DataFrame index.\n",
      "  train_labels = train_labels[(train_features[\"conf\"]>self.max_threshhold_megadetector)==False]\n",
      "/users/tmandelz/.local/share/virtualenvs/tierli_ahluege-KocqYYbw/lib/python3.9/site-packages/torchvision/models/_utils.py:223: UserWarning: Arguments other than a weight enum or `None` for 'weights' are deprecated since 0.13 and may be removed in the future. The current behavior is equivalent to passing `weights=ConvNeXt_Tiny_Weights.IMAGENET1K_V1`. You can also use `weights=ConvNeXt_Tiny_Weights.DEFAULT` to get the most up-to-date weights.\n",
      "  warnings.warn(msg)\n",
      "\n",
      "Epoch-Iteration:   0%|          | 0/7 [00:00<?, ?epoch/s]\u001b[A\n",
      "Epoch-Iteration:  14%|█▍        | 1/7 [00:56<05:39, 56.51s/epoch]\u001b[A\n",
      "Epoch-Iteration:  29%|██▊       | 2/7 [01:56<04:51, 58.27s/epoch]\u001b[A\n",
      "Epoch-Iteration:  43%|████▎     | 3/7 [02:52<03:49, 57.47s/epoch]\u001b[A\n",
      "Epoch-Iteration:  57%|█████▋    | 4/7 [03:52<02:55, 58.46s/epoch]\u001b[A\n",
      "Epoch-Iteration:  71%|███████▏  | 5/7 [04:52<01:57, 58.85s/epoch]\u001b[A\n",
      "Epoch-Iteration:  86%|████████▌ | 6/7 [05:48<00:58, 58.02s/epoch]\u001b[A\n",
      "Epoch-Iteration: 100%|██████████| 7/7 [06:48<00:00, 58.29s/epoch]\u001b[A\n",
      "Fold-Iteration:  40%|████      | 2/5 [14:08<21:11, 423.67s/fold]/users/tmandelz/ccv1/tierli_ahluege/src/data_modules.py:142: UserWarning: Boolean Series key will be reindexed to match DataFrame index.\n",
      "  val_labels = val_labels[(val_features[\"conf\"]>self.max_threshhold_megadetector)==False]\n",
      "/users/tmandelz/ccv1/tierli_ahluege/src/data_modules.py:149: UserWarning: Boolean Series key will be reindexed to match DataFrame index.\n",
      "  train_labels = train_labels[(train_features[\"conf\"]>self.max_threshhold_megadetector)==False]\n",
      "/users/tmandelz/.local/share/virtualenvs/tierli_ahluege-KocqYYbw/lib/python3.9/site-packages/torchvision/models/_utils.py:223: UserWarning: Arguments other than a weight enum or `None` for 'weights' are deprecated since 0.13 and may be removed in the future. The current behavior is equivalent to passing `weights=ConvNeXt_Tiny_Weights.IMAGENET1K_V1`. You can also use `weights=ConvNeXt_Tiny_Weights.DEFAULT` to get the most up-to-date weights.\n",
      "  warnings.warn(msg)\n",
      "\n",
      "Epoch-Iteration:   0%|          | 0/7 [00:00<?, ?epoch/s]\u001b[A\n",
      "Epoch-Iteration:  14%|█▍        | 1/7 [00:55<05:30, 55.03s/epoch]\u001b[A\n",
      "Epoch-Iteration:  29%|██▊       | 2/7 [01:54<04:49, 57.82s/epoch]\u001b[A\n",
      "Epoch-Iteration:  43%|████▎     | 3/7 [02:49<03:46, 56.58s/epoch]\u001b[A\n",
      "Epoch-Iteration:  57%|█████▋    | 4/7 [03:49<02:53, 57.83s/epoch]\u001b[A\n",
      "Epoch-Iteration:  71%|███████▏  | 5/7 [04:44<01:53, 56.75s/epoch]\u001b[A\n",
      "Epoch-Iteration:  86%|████████▌ | 6/7 [05:44<00:57, 57.78s/epoch]\u001b[A\n",
      "Epoch-Iteration: 100%|██████████| 7/7 [06:39<00:00, 57.09s/epoch]\u001b[A\n",
      "Fold-Iteration:  60%|██████    | 3/5 [21:01<13:58, 419.10s/fold]/users/tmandelz/ccv1/tierli_ahluege/src/data_modules.py:142: UserWarning: Boolean Series key will be reindexed to match DataFrame index.\n",
      "  val_labels = val_labels[(val_features[\"conf\"]>self.max_threshhold_megadetector)==False]\n",
      "/users/tmandelz/ccv1/tierli_ahluege/src/data_modules.py:149: UserWarning: Boolean Series key will be reindexed to match DataFrame index.\n",
      "  train_labels = train_labels[(train_features[\"conf\"]>self.max_threshhold_megadetector)==False]\n",
      "/users/tmandelz/.local/share/virtualenvs/tierli_ahluege-KocqYYbw/lib/python3.9/site-packages/torchvision/models/_utils.py:223: UserWarning: Arguments other than a weight enum or `None` for 'weights' are deprecated since 0.13 and may be removed in the future. The current behavior is equivalent to passing `weights=ConvNeXt_Tiny_Weights.IMAGENET1K_V1`. You can also use `weights=ConvNeXt_Tiny_Weights.DEFAULT` to get the most up-to-date weights.\n",
      "  warnings.warn(msg)\n",
      "\n",
      "Epoch-Iteration:   0%|          | 0/7 [00:00<?, ?epoch/s]\u001b[A\n",
      "Epoch-Iteration:  14%|█▍        | 1/7 [00:56<05:37, 56.20s/epoch]\u001b[A\n",
      "Epoch-Iteration:  29%|██▊       | 2/7 [01:54<04:46, 57.33s/epoch]\u001b[A\n",
      "Epoch-Iteration:  43%|████▎     | 3/7 [02:49<03:46, 56.56s/epoch]\u001b[A\n",
      "Epoch-Iteration:  57%|█████▋    | 4/7 [03:48<02:52, 57.34s/epoch]\u001b[A\n",
      "Epoch-Iteration:  71%|███████▏  | 5/7 [04:46<01:55, 57.62s/epoch]\u001b[A\n",
      "Epoch-Iteration:  86%|████████▌ | 6/7 [05:42<00:56, 57.00s/epoch]\u001b[A\n",
      "Epoch-Iteration: 100%|██████████| 7/7 [06:40<00:00, 57.18s/epoch]\u001b[A\n",
      "Fold-Iteration:  80%|████████  | 4/5 [27:57<06:57, 417.86s/fold]/users/tmandelz/ccv1/tierli_ahluege/src/data_modules.py:142: UserWarning: Boolean Series key will be reindexed to match DataFrame index.\n",
      "  val_labels = val_labels[(val_features[\"conf\"]>self.max_threshhold_megadetector)==False]\n",
      "/users/tmandelz/ccv1/tierli_ahluege/src/data_modules.py:149: UserWarning: Boolean Series key will be reindexed to match DataFrame index.\n",
      "  train_labels = train_labels[(train_features[\"conf\"]>self.max_threshhold_megadetector)==False]\n",
      "/users/tmandelz/.local/share/virtualenvs/tierli_ahluege-KocqYYbw/lib/python3.9/site-packages/torchvision/models/_utils.py:223: UserWarning: Arguments other than a weight enum or `None` for 'weights' are deprecated since 0.13 and may be removed in the future. The current behavior is equivalent to passing `weights=ConvNeXt_Tiny_Weights.IMAGENET1K_V1`. You can also use `weights=ConvNeXt_Tiny_Weights.DEFAULT` to get the most up-to-date weights.\n",
      "  warnings.warn(msg)\n",
      "\n",
      "Epoch-Iteration:   0%|          | 0/7 [00:00<?, ?epoch/s]\u001b[A\n",
      "Epoch-Iteration:  14%|█▍        | 1/7 [00:55<05:35, 55.83s/epoch]\u001b[A\n",
      "Epoch-Iteration:  29%|██▊       | 2/7 [01:54<04:46, 57.28s/epoch]\u001b[A\n",
      "Epoch-Iteration:  43%|████▎     | 3/7 [02:49<03:45, 56.49s/epoch]\u001b[A\n",
      "Epoch-Iteration:  57%|█████▋    | 4/7 [03:47<02:51, 57.13s/epoch]\u001b[A\n",
      "Epoch-Iteration:  71%|███████▏  | 5/7 [04:46<01:55, 57.55s/epoch]\u001b[A\n",
      "Epoch-Iteration:  86%|████████▌ | 6/7 [05:41<00:56, 56.93s/epoch]\u001b[A\n",
      "Epoch-Iteration: 100%|██████████| 7/7 [06:39<00:00, 57.13s/epoch]\u001b[A\n",
      "Fold-Iteration: 100%|██████████| 5/5 [34:55<00:00, 419.06s/fold]\n"
     ]
    }
   ],
   "source": [
    "model_name = \"convnext_tiny_megadetector_ensemble_range_mid_lr_1e-4_cv\"\n",
    "convnext = CCV1_Trainer(DataModule(basic_transform=convnext_transformer,include_megadetector_train=True,delete_unrecognized_mega=True,max_threshhold_megadetector=0.65,threshhold_megadetector=0.4,include_megadetector_test=True), convnext_tiny_,)\n",
    "convnext.train_model(model_name, pretrained_model, num_epochs=7, cross_validation=True,test_model=False,batchsize_train_data=64,lr = 1e-4)\n"
   ]
  },
  {
   "cell_type": "code",
   "execution_count": 4,
   "id": "ee427491-c960-4e74-a93f-aa37217efb10",
   "metadata": {},
   "outputs": [
    {
     "name": "stdout",
     "output_type": "stream",
     "text": [
      "Saved model: convnext_tiny_megadetector_ensemble_range_mid_lr_1e-4_cv to ./model_submit/convnext_tiny_megadetector_ensemble_range_mid_lr_1e-4_cv.pth\n",
      "Saved submission: convnext_tiny_megadetector_ensemble_range_mid_lr_1e-4_cv to ./data_submit/convnext_tiny_megadetector_ensemble_range_mid_lr_1e-4_cv.csv\n"
     ]
    }
   ],
   "source": [
    "convnext.submission(model_name,ensemble=True)"
   ]
  },
  {
   "cell_type": "code",
   "execution_count": 5,
   "id": "255c069b-65c4-42af-8d48-4c20486ee730",
   "metadata": {},
   "outputs": [
    {
     "name": "stderr",
     "output_type": "stream",
     "text": [
      "Fold-Iteration:   0%|          | 0/5 [00:00<?, ?fold/s]/users/tmandelz/ccv1/tierli_ahluege/src/data_modules.py:142: UserWarning: Boolean Series key will be reindexed to match DataFrame index.\n",
      "  val_labels = val_labels[(val_features[\"conf\"]>self.max_threshhold_megadetector)==False]\n",
      "/users/tmandelz/ccv1/tierli_ahluege/src/data_modules.py:149: UserWarning: Boolean Series key will be reindexed to match DataFrame index.\n",
      "  train_labels = train_labels[(train_features[\"conf\"]>self.max_threshhold_megadetector)==False]\n",
      "/users/tmandelz/.local/share/virtualenvs/tierli_ahluege-KocqYYbw/lib/python3.9/site-packages/torchvision/models/_utils.py:223: UserWarning: Arguments other than a weight enum or `None` for 'weights' are deprecated since 0.13 and may be removed in the future. The current behavior is equivalent to passing `weights=ConvNeXt_Tiny_Weights.IMAGENET1K_V1`. You can also use `weights=ConvNeXt_Tiny_Weights.DEFAULT` to get the most up-to-date weights.\n",
      "  warnings.warn(msg)\n",
      "\n",
      "Epoch-Iteration:   0%|          | 0/2 [00:00<?, ?epoch/s]\u001b[A\n",
      "Epoch-Iteration:  50%|█████     | 1/2 [03:20<03:19, 200.00s/epoch]\u001b[A\n",
      "Epoch-Iteration: 100%|██████████| 2/2 [06:42<00:00, 201.50s/epoch]\u001b[A\n",
      "Fold-Iteration:  20%|██        | 1/5 [06:57<27:50, 417.61s/fold]/users/tmandelz/ccv1/tierli_ahluege/src/data_modules.py:142: UserWarning: Boolean Series key will be reindexed to match DataFrame index.\n",
      "  val_labels = val_labels[(val_features[\"conf\"]>self.max_threshhold_megadetector)==False]\n",
      "/users/tmandelz/ccv1/tierli_ahluege/src/data_modules.py:149: UserWarning: Boolean Series key will be reindexed to match DataFrame index.\n",
      "  train_labels = train_labels[(train_features[\"conf\"]>self.max_threshhold_megadetector)==False]\n",
      "/users/tmandelz/.local/share/virtualenvs/tierli_ahluege-KocqYYbw/lib/python3.9/site-packages/torchvision/models/_utils.py:223: UserWarning: Arguments other than a weight enum or `None` for 'weights' are deprecated since 0.13 and may be removed in the future. The current behavior is equivalent to passing `weights=ConvNeXt_Tiny_Weights.IMAGENET1K_V1`. You can also use `weights=ConvNeXt_Tiny_Weights.DEFAULT` to get the most up-to-date weights.\n",
      "  warnings.warn(msg)\n",
      "\n",
      "Epoch-Iteration:   0%|          | 0/2 [00:00<?, ?epoch/s]\u001b[A\n",
      "Epoch-Iteration:  50%|█████     | 1/2 [03:31<03:31, 211.35s/epoch]\u001b[A\n",
      "Epoch-Iteration: 100%|██████████| 2/2 [07:09<00:00, 214.57s/epoch]\u001b[A\n",
      "Fold-Iteration:  40%|████      | 2/5 [14:21<21:39, 433.09s/fold]/users/tmandelz/ccv1/tierli_ahluege/src/data_modules.py:142: UserWarning: Boolean Series key will be reindexed to match DataFrame index.\n",
      "  val_labels = val_labels[(val_features[\"conf\"]>self.max_threshhold_megadetector)==False]\n",
      "/users/tmandelz/ccv1/tierli_ahluege/src/data_modules.py:149: UserWarning: Boolean Series key will be reindexed to match DataFrame index.\n",
      "  train_labels = train_labels[(train_features[\"conf\"]>self.max_threshhold_megadetector)==False]\n",
      "/users/tmandelz/.local/share/virtualenvs/tierli_ahluege-KocqYYbw/lib/python3.9/site-packages/torchvision/models/_utils.py:223: UserWarning: Arguments other than a weight enum or `None` for 'weights' are deprecated since 0.13 and may be removed in the future. The current behavior is equivalent to passing `weights=ConvNeXt_Tiny_Weights.IMAGENET1K_V1`. You can also use `weights=ConvNeXt_Tiny_Weights.DEFAULT` to get the most up-to-date weights.\n",
      "  warnings.warn(msg)\n",
      "\n",
      "Epoch-Iteration:   0%|          | 0/2 [00:00<?, ?epoch/s]\u001b[A\n",
      "Epoch-Iteration:  50%|█████     | 1/2 [03:39<03:39, 219.52s/epoch]\u001b[A\n",
      "Epoch-Iteration: 100%|██████████| 2/2 [07:10<00:00, 215.11s/epoch]\u001b[A\n",
      "Fold-Iteration:  60%|██████    | 3/5 [21:47<14:37, 438.93s/fold]/users/tmandelz/ccv1/tierli_ahluege/src/data_modules.py:142: UserWarning: Boolean Series key will be reindexed to match DataFrame index.\n",
      "  val_labels = val_labels[(val_features[\"conf\"]>self.max_threshhold_megadetector)==False]\n",
      "/users/tmandelz/ccv1/tierli_ahluege/src/data_modules.py:149: UserWarning: Boolean Series key will be reindexed to match DataFrame index.\n",
      "  train_labels = train_labels[(train_features[\"conf\"]>self.max_threshhold_megadetector)==False]\n",
      "/users/tmandelz/.local/share/virtualenvs/tierli_ahluege-KocqYYbw/lib/python3.9/site-packages/torchvision/models/_utils.py:223: UserWarning: Arguments other than a weight enum or `None` for 'weights' are deprecated since 0.13 and may be removed in the future. The current behavior is equivalent to passing `weights=ConvNeXt_Tiny_Weights.IMAGENET1K_V1`. You can also use `weights=ConvNeXt_Tiny_Weights.DEFAULT` to get the most up-to-date weights.\n",
      "  warnings.warn(msg)\n",
      "\n",
      "Epoch-Iteration:   0%|          | 0/2 [00:00<?, ?epoch/s]\u001b[A\n",
      "Epoch-Iteration:  50%|█████     | 1/2 [03:12<03:12, 192.40s/epoch]\u001b[A\n",
      "Epoch-Iteration: 100%|██████████| 2/2 [06:33<00:00, 196.78s/epoch]\u001b[A\n",
      "Fold-Iteration:  80%|████████  | 4/5 [28:35<07:06, 426.60s/fold]/users/tmandelz/ccv1/tierli_ahluege/src/data_modules.py:142: UserWarning: Boolean Series key will be reindexed to match DataFrame index.\n",
      "  val_labels = val_labels[(val_features[\"conf\"]>self.max_threshhold_megadetector)==False]\n",
      "/users/tmandelz/ccv1/tierli_ahluege/src/data_modules.py:149: UserWarning: Boolean Series key will be reindexed to match DataFrame index.\n",
      "  train_labels = train_labels[(train_features[\"conf\"]>self.max_threshhold_megadetector)==False]\n",
      "/users/tmandelz/.local/share/virtualenvs/tierli_ahluege-KocqYYbw/lib/python3.9/site-packages/torchvision/models/_utils.py:223: UserWarning: Arguments other than a weight enum or `None` for 'weights' are deprecated since 0.13 and may be removed in the future. The current behavior is equivalent to passing `weights=ConvNeXt_Tiny_Weights.IMAGENET1K_V1`. You can also use `weights=ConvNeXt_Tiny_Weights.DEFAULT` to get the most up-to-date weights.\n",
      "  warnings.warn(msg)\n",
      "\n",
      "Epoch-Iteration:   0%|          | 0/2 [00:00<?, ?epoch/s]\u001b[A\n",
      "Epoch-Iteration:  50%|█████     | 1/2 [03:22<03:22, 202.16s/epoch]\u001b[A\n",
      "Epoch-Iteration: 100%|██████████| 2/2 [06:50<00:00, 205.21s/epoch]\u001b[A\n",
      "Fold-Iteration: 100%|██████████| 5/5 [35:39<00:00, 427.82s/fold]\n"
     ]
    }
   ],
   "source": [
    "model_name = \"convnext_tiny_megadetector_ensemble_range_high_lr_1e-4_cv\"\n",
    "convnext = CCV1_Trainer(DataModule(basic_transform=convnext_transformer,include_megadetector_train=True,delete_unrecognized_mega=True,max_threshhold_megadetector=1.01,threshhold_megadetector=0.65,include_megadetector_test=True), convnext_tiny_,)\n",
    "convnext.train_model(model_name, pretrained_model, num_epochs=2, cross_validation=True,test_model=False,batchsize_train_data=64,lr = 1e-4)\n"
   ]
  },
  {
   "cell_type": "code",
   "execution_count": 6,
   "id": "1e7c81d1-7789-43a9-8cef-155c52a40b56",
   "metadata": {},
   "outputs": [
    {
     "name": "stdout",
     "output_type": "stream",
     "text": [
      "Saved model: convnext_tiny_megadetector_ensemble_range_high_lr_1e-4_cv to ./model_submit/convnext_tiny_megadetector_ensemble_range_high_lr_1e-4_cv.pth\n",
      "Saved submission: convnext_tiny_megadetector_ensemble_range_high_lr_1e-4_cv to ./data_submit/convnext_tiny_megadetector_ensemble_range_high_lr_1e-4_cv.csv\n"
     ]
    }
   ],
   "source": [
    "convnext.submission(model_name,ensemble=True)"
   ]
  },
  {
   "cell_type": "code",
   "execution_count": null,
   "id": "3fb18c04-3a1e-4bf2-8866-5cb91e1f24c4",
   "metadata": {},
   "outputs": [
    {
     "name": "stderr",
     "output_type": "stream",
     "text": [
      "Fold-Iteration:   0%|          | 0/5 [00:00<?, ?fold/s]/users/tmandelz/.local/share/virtualenvs/tierli_ahluege-KocqYYbw/lib/python3.9/site-packages/torchvision/models/_utils.py:223: UserWarning: Arguments other than a weight enum or `None` for 'weights' are deprecated since 0.13 and may be removed in the future. The current behavior is equivalent to passing `weights=ConvNeXt_Tiny_Weights.IMAGENET1K_V1`. You can also use `weights=ConvNeXt_Tiny_Weights.DEFAULT` to get the most up-to-date weights.\n",
      "  warnings.warn(msg)\n",
      "\n",
      "Epoch-Iteration:   0%|          | 0/7 [00:00<?, ?epoch/s]\u001b[A\n",
      "Epoch-Iteration:  14%|█▍        | 1/7 [00:23<02:20, 23.48s/epoch]\u001b[A\n",
      "Epoch-Iteration:  29%|██▊       | 2/7 [00:51<02:10, 26.17s/epoch]\u001b[A\n",
      "Epoch-Iteration:  43%|████▎     | 3/7 [01:13<01:37, 24.27s/epoch]\u001b[A\n",
      "Epoch-Iteration:  57%|█████▋    | 4/7 [01:36<01:11, 23.82s/epoch]\u001b[A\n",
      "Epoch-Iteration:  71%|███████▏  | 5/7 [01:59<00:47, 23.59s/epoch]\u001b[A\n",
      "Epoch-Iteration:  86%|████████▌ | 6/7 [02:21<00:23, 23.06s/epoch]\u001b[A\n",
      "Epoch-Iteration: 100%|██████████| 7/7 [02:45<00:00, 23.58s/epoch]\u001b[A\n",
      "Fold-Iteration:  20%|██        | 1/5 [02:58<11:53, 178.27s/fold]/users/tmandelz/.local/share/virtualenvs/tierli_ahluege-KocqYYbw/lib/python3.9/site-packages/torchvision/models/_utils.py:223: UserWarning: Arguments other than a weight enum or `None` for 'weights' are deprecated since 0.13 and may be removed in the future. The current behavior is equivalent to passing `weights=ConvNeXt_Tiny_Weights.IMAGENET1K_V1`. You can also use `weights=ConvNeXt_Tiny_Weights.DEFAULT` to get the most up-to-date weights.\n",
      "  warnings.warn(msg)\n",
      "\n",
      "Epoch-Iteration:   0%|          | 0/7 [00:00<?, ?epoch/s]\u001b[A/users/tmandelz/.local/share/virtualenvs/tierli_ahluege-KocqYYbw/lib/python3.9/site-packages/sklearn/metrics/_classification.py:1609: UndefinedMetricWarning: F-score is ill-defined and being set to 0.0 due to no true nor predicted samples. Use `zero_division` parameter to control this behavior.\n",
      "  _warn_prf(average, \"true nor predicted\", \"F-score is\", len(true_sum))\n",
      "\n",
      "Epoch-Iteration:  14%|█▍        | 1/7 [00:23<02:19, 23.29s/epoch]\u001b[A/users/tmandelz/.local/share/virtualenvs/tierli_ahluege-KocqYYbw/lib/python3.9/site-packages/sklearn/metrics/_classification.py:1609: UndefinedMetricWarning: F-score is ill-defined and being set to 0.0 due to no true nor predicted samples. Use `zero_division` parameter to control this behavior.\n",
      "  _warn_prf(average, \"true nor predicted\", \"F-score is\", len(true_sum))\n",
      "\n",
      "Epoch-Iteration:  29%|██▊       | 2/7 [00:47<01:59, 23.93s/epoch]\u001b[A/users/tmandelz/.local/share/virtualenvs/tierli_ahluege-KocqYYbw/lib/python3.9/site-packages/sklearn/metrics/_classification.py:1609: UndefinedMetricWarning: F-score is ill-defined and being set to 0.0 due to no true nor predicted samples. Use `zero_division` parameter to control this behavior.\n",
      "  _warn_prf(average, \"true nor predicted\", \"F-score is\", len(true_sum))\n",
      "\n",
      "Epoch-Iteration:  43%|████▎     | 3/7 [01:12<01:36, 24.12s/epoch]\u001b[A\n",
      "Epoch-Iteration:  57%|█████▋    | 4/7 [01:35<01:11, 23.81s/epoch]\u001b[A/users/tmandelz/.local/share/virtualenvs/tierli_ahluege-KocqYYbw/lib/python3.9/site-packages/sklearn/metrics/_classification.py:1609: UndefinedMetricWarning: F-score is ill-defined and being set to 0.0 due to no true nor predicted samples. Use `zero_division` parameter to control this behavior.\n",
      "  _warn_prf(average, \"true nor predicted\", \"F-score is\", len(true_sum))\n",
      "\n",
      "Epoch-Iteration:  71%|███████▏  | 5/7 [01:59<00:47, 23.98s/epoch]\u001b[A\n",
      "Epoch-Iteration:  86%|████████▌ | 6/7 [02:23<00:24, 24.07s/epoch]\u001b[A"
     ]
    }
   ],
   "source": [
    "model_name = \"convnext_tiny_megadetector_ensemble_range_low_lr_1e-4_cv\"\n",
    "convnext = CCV1_Trainer(DataModule(basic_transform=convnext_transformer,include_megadetector_train=True,delete_recognized_mega=True,max_threshhold_megadetector=0.4,threshhold_megadetector=0,include_megadetector_test=True), convnext_tiny_,)\n",
    "convnext.train_model(model_name, pretrained_model, num_epochs=7, cross_validation=True,test_model=False,batchsize_train_data=64,lr = 1e-4)\n"
   ]
  },
  {
   "cell_type": "code",
   "execution_count": null,
   "id": "54680920-b897-4f86-9acb-acdded152ed7",
   "metadata": {},
   "outputs": [],
   "source": [
    "convnext.submission(model_name,ensemble=True)"
   ]
  },
  {
   "cell_type": "code",
   "execution_count": 5,
   "id": "f91fe2c6-3383-4cdd-b2f7-b659dcd74001",
   "metadata": {},
   "outputs": [
    {
     "name": "stderr",
     "output_type": "stream",
     "text": [
      "Fold-Iteration:   0%|          | 0/5 [00:00<?, ?fold/s]/users/tmandelz/ccv1/tierli_ahluege/src/data_modules.py:142: UserWarning: Boolean Series key will be reindexed to match DataFrame index.\n",
      "  val_labels = val_labels[(val_features[\"conf\"]>self.max_threshhold_megadetector)==False]\n",
      "/users/tmandelz/ccv1/tierli_ahluege/src/data_modules.py:149: UserWarning: Boolean Series key will be reindexed to match DataFrame index.\n",
      "  train_labels = train_labels[(train_features[\"conf\"]>self.max_threshhold_megadetector)==False]\n",
      "/users/tmandelz/.local/share/virtualenvs/tierli_ahluege-KocqYYbw/lib/python3.9/site-packages/torchvision/models/_utils.py:223: UserWarning: Arguments other than a weight enum or `None` for 'weights' are deprecated since 0.13 and may be removed in the future. The current behavior is equivalent to passing `weights=ConvNeXt_Tiny_Weights.IMAGENET1K_V1`. You can also use `weights=ConvNeXt_Tiny_Weights.DEFAULT` to get the most up-to-date weights.\n",
      "  warnings.warn(msg)\n",
      "\n",
      "Epoch-Iteration:   0%|          | 0/3 [00:00<?, ?epoch/s]\u001b[A\n",
      "Epoch-Iteration:  33%|███▎      | 1/3 [00:59<01:58, 59.25s/epoch]\u001b[A\n",
      "Epoch-Iteration:  67%|██████▋   | 2/3 [01:57<00:58, 58.62s/epoch]\u001b[A\n",
      "Epoch-Iteration: 100%|██████████| 3/3 [02:53<00:00, 57.80s/epoch]\u001b[A\n",
      "Fold-Iteration:  20%|██        | 1/5 [03:08<12:33, 188.38s/fold]/users/tmandelz/ccv1/tierli_ahluege/src/data_modules.py:142: UserWarning: Boolean Series key will be reindexed to match DataFrame index.\n",
      "  val_labels = val_labels[(val_features[\"conf\"]>self.max_threshhold_megadetector)==False]\n",
      "/users/tmandelz/ccv1/tierli_ahluege/src/data_modules.py:149: UserWarning: Boolean Series key will be reindexed to match DataFrame index.\n",
      "  train_labels = train_labels[(train_features[\"conf\"]>self.max_threshhold_megadetector)==False]\n",
      "/users/tmandelz/.local/share/virtualenvs/tierli_ahluege-KocqYYbw/lib/python3.9/site-packages/torchvision/models/_utils.py:223: UserWarning: Arguments other than a weight enum or `None` for 'weights' are deprecated since 0.13 and may be removed in the future. The current behavior is equivalent to passing `weights=ConvNeXt_Tiny_Weights.IMAGENET1K_V1`. You can also use `weights=ConvNeXt_Tiny_Weights.DEFAULT` to get the most up-to-date weights.\n",
      "  warnings.warn(msg)\n",
      "\n",
      "Epoch-Iteration:   0%|          | 0/3 [00:00<?, ?epoch/s]\u001b[A\n",
      "Epoch-Iteration:  33%|███▎      | 1/3 [00:56<01:53, 56.66s/epoch]\u001b[A\n",
      "Epoch-Iteration:  67%|██████▋   | 2/3 [01:56<00:58, 58.44s/epoch]\u001b[A\n",
      "Epoch-Iteration: 100%|██████████| 3/3 [02:53<00:00, 57.77s/epoch]\u001b[A\n",
      "Fold-Iteration:  40%|████      | 2/5 [06:18<09:27, 189.31s/fold]/users/tmandelz/ccv1/tierli_ahluege/src/data_modules.py:142: UserWarning: Boolean Series key will be reindexed to match DataFrame index.\n",
      "  val_labels = val_labels[(val_features[\"conf\"]>self.max_threshhold_megadetector)==False]\n",
      "/users/tmandelz/ccv1/tierli_ahluege/src/data_modules.py:149: UserWarning: Boolean Series key will be reindexed to match DataFrame index.\n",
      "  train_labels = train_labels[(train_features[\"conf\"]>self.max_threshhold_megadetector)==False]\n",
      "/users/tmandelz/.local/share/virtualenvs/tierli_ahluege-KocqYYbw/lib/python3.9/site-packages/torchvision/models/_utils.py:223: UserWarning: Arguments other than a weight enum or `None` for 'weights' are deprecated since 0.13 and may be removed in the future. The current behavior is equivalent to passing `weights=ConvNeXt_Tiny_Weights.IMAGENET1K_V1`. You can also use `weights=ConvNeXt_Tiny_Weights.DEFAULT` to get the most up-to-date weights.\n",
      "  warnings.warn(msg)\n",
      "\n",
      "Epoch-Iteration:   0%|          | 0/3 [00:00<?, ?epoch/s]\u001b[A\n",
      "Epoch-Iteration:  33%|███▎      | 1/3 [00:55<01:51, 55.52s/epoch]\u001b[A\n",
      "Epoch-Iteration:  67%|██████▋   | 2/3 [01:55<00:58, 58.43s/epoch]\u001b[A\n",
      "Epoch-Iteration: 100%|██████████| 3/3 [02:51<00:00, 57.08s/epoch]\u001b[A\n",
      "Fold-Iteration:  60%|██████    | 3/5 [09:26<06:17, 188.73s/fold]/users/tmandelz/ccv1/tierli_ahluege/src/data_modules.py:142: UserWarning: Boolean Series key will be reindexed to match DataFrame index.\n",
      "  val_labels = val_labels[(val_features[\"conf\"]>self.max_threshhold_megadetector)==False]\n",
      "/users/tmandelz/ccv1/tierli_ahluege/src/data_modules.py:149: UserWarning: Boolean Series key will be reindexed to match DataFrame index.\n",
      "  train_labels = train_labels[(train_features[\"conf\"]>self.max_threshhold_megadetector)==False]\n",
      "/users/tmandelz/.local/share/virtualenvs/tierli_ahluege-KocqYYbw/lib/python3.9/site-packages/torchvision/models/_utils.py:223: UserWarning: Arguments other than a weight enum or `None` for 'weights' are deprecated since 0.13 and may be removed in the future. The current behavior is equivalent to passing `weights=ConvNeXt_Tiny_Weights.IMAGENET1K_V1`. You can also use `weights=ConvNeXt_Tiny_Weights.DEFAULT` to get the most up-to-date weights.\n",
      "  warnings.warn(msg)\n",
      "\n",
      "Epoch-Iteration:   0%|          | 0/3 [00:00<?, ?epoch/s]\u001b[A\n",
      "Epoch-Iteration:  33%|███▎      | 1/3 [00:55<01:51, 55.80s/epoch]\u001b[A\n",
      "Epoch-Iteration:  67%|██████▋   | 2/3 [01:54<00:57, 57.31s/epoch]\u001b[A\n",
      "Epoch-Iteration: 100%|██████████| 3/3 [02:49<00:00, 56.66s/epoch]\u001b[A\n",
      "Fold-Iteration:  80%|████████  | 4/5 [12:31<03:07, 187.49s/fold]/users/tmandelz/ccv1/tierli_ahluege/src/data_modules.py:142: UserWarning: Boolean Series key will be reindexed to match DataFrame index.\n",
      "  val_labels = val_labels[(val_features[\"conf\"]>self.max_threshhold_megadetector)==False]\n",
      "/users/tmandelz/ccv1/tierli_ahluege/src/data_modules.py:149: UserWarning: Boolean Series key will be reindexed to match DataFrame index.\n",
      "  train_labels = train_labels[(train_features[\"conf\"]>self.max_threshhold_megadetector)==False]\n",
      "/users/tmandelz/.local/share/virtualenvs/tierli_ahluege-KocqYYbw/lib/python3.9/site-packages/torchvision/models/_utils.py:223: UserWarning: Arguments other than a weight enum or `None` for 'weights' are deprecated since 0.13 and may be removed in the future. The current behavior is equivalent to passing `weights=ConvNeXt_Tiny_Weights.IMAGENET1K_V1`. You can also use `weights=ConvNeXt_Tiny_Weights.DEFAULT` to get the most up-to-date weights.\n",
      "  warnings.warn(msg)\n",
      "\n",
      "Epoch-Iteration:   0%|          | 0/3 [00:00<?, ?epoch/s]\u001b[A\n",
      "Epoch-Iteration:  33%|███▎      | 1/3 [00:55<01:51, 55.51s/epoch]\u001b[A\n",
      "Epoch-Iteration:  67%|██████▋   | 2/3 [01:54<00:57, 57.52s/epoch]\u001b[A\n",
      "Epoch-Iteration: 100%|██████████| 3/3 [02:50<00:00, 56.67s/epoch]\u001b[A\n",
      "Fold-Iteration: 100%|██████████| 5/5 [15:37<00:00, 187.46s/fold]\n"
     ]
    }
   ],
   "source": [
    "model_name = \"convnext_tiny_megadetector_ensemble_range_mid_lr_1e-4_cv_3_epochs\"\n",
    "convnext = CCV1_Trainer(DataModule(basic_transform=convnext_transformer,include_megadetector_train=True,delete_unrecognized_mega=True,max_threshhold_megadetector=0.65,threshhold_megadetector=0.4,include_megadetector_test=True), convnext_tiny_,)\n",
    "convnext.train_model(model_name, pretrained_model, num_epochs=3, cross_validation=True,test_model=False,batchsize_train_data=64,lr = 1e-4)\n"
   ]
  },
  {
   "cell_type": "code",
   "execution_count": 6,
   "id": "e8d4a43b-f654-4411-87cf-bad486a5aa21",
   "metadata": {},
   "outputs": [
    {
     "name": "stdout",
     "output_type": "stream",
     "text": [
      "Saved model: convnext_tiny_megadetector_ensemble_range_mid_lr_1e-4_cv_3_epochs to ./model_submit/convnext_tiny_megadetector_ensemble_range_mid_lr_1e-4_cv_3_epochs.pth\n",
      "Saved submission: convnext_tiny_megadetector_ensemble_range_mid_lr_1e-4_cv_3_epochs to ./data_submit/convnext_tiny_megadetector_ensemble_range_mid_lr_1e-4_cv_3_epochs.csv\n"
     ]
    }
   ],
   "source": [
    "convnext.submission(model_name,ensemble=True)"
   ]
  },
  {
   "cell_type": "code",
   "execution_count": 4,
   "id": "7e0fb78a-7e30-4c41-a62e-db08a2799647",
   "metadata": {},
   "outputs": [
    {
     "name": "stderr",
     "output_type": "stream",
     "text": [
      "Fold-Iteration:   0%|          | 0/1 [00:00<?, ?fold/s]/users/tmandelz/.local/share/virtualenvs/tierli_ahluege-KocqYYbw/lib/python3.9/site-packages/torchvision/models/_utils.py:223: UserWarning: Arguments other than a weight enum or `None` for 'weights' are deprecated since 0.13 and may be removed in the future. The current behavior is equivalent to passing `weights=ConvNeXt_Tiny_Weights.IMAGENET1K_V1`. You can also use `weights=ConvNeXt_Tiny_Weights.DEFAULT` to get the most up-to-date weights.\n",
      "  warnings.warn(msg)\n",
      "\n",
      "Epoch-Iteration:   0%|          | 0/2 [00:00<?, ?epoch/s]\u001b[A\n",
      "Epoch-Iteration:  50%|█████     | 1/2 [02:41<02:41, 161.30s/epoch]\u001b[A\n",
      "Epoch-Iteration: 100%|██████████| 2/2 [05:27<00:00, 163.95s/epoch]\u001b[A\n",
      "Fold-Iteration: 100%|██████████| 1/1 [05:52<00:00, 352.63s/fold]\n"
     ]
    }
   ],
   "source": [
    "model_name = \"convnext_tiny_megadetector_ensemble_range_low_lr_1e-4_2_epochs\"\n",
    "convnext = CCV1_Trainer(DataModule(basic_transform=convnext_transformer,delete_recognized_mega=True,threshhold_megadetector=0.4), convnext_tiny_,)\n",
    "convnext.train_model(model_name, pretrained_model, num_epochs=2, cross_validation=False,test_model=False,batchsize_train_data=64,lr = 1e-4)\n"
   ]
  },
  {
   "cell_type": "code",
   "execution_count": 5,
   "id": "7554f79c-6aca-4a94-9f57-ad1b6bf8bfc7",
   "metadata": {},
   "outputs": [
    {
     "name": "stdout",
     "output_type": "stream",
     "text": [
      "Saved model: convnext_tiny_megadetector_ensemble_range_low_lr_1e-4_2_epochs to ./model_submit/convnext_tiny_megadetector_ensemble_range_low_lr_1e-4_2_epochs.pth\n",
      "Saved submission: convnext_tiny_megadetector_ensemble_range_low_lr_1e-4_2_epochs to ./data_submit/convnext_tiny_megadetector_ensemble_range_low_lr_1e-4_2_epochs.csv\n"
     ]
    }
   ],
   "source": [
    "convnext.submission(model_name,ensemble=True)"
   ]
  },
  {
   "cell_type": "code",
   "execution_count": 6,
   "id": "520c3d42-5dbf-4dfa-ae8b-855847a57521",
   "metadata": {},
   "outputs": [
    {
     "name": "stderr",
     "output_type": "stream",
     "text": [
      "Fold-Iteration:   0%|          | 0/5 [00:00<?, ?fold/s]/users/tmandelz/.local/share/virtualenvs/tierli_ahluege-KocqYYbw/lib/python3.9/site-packages/torchvision/models/_utils.py:223: UserWarning: Arguments other than a weight enum or `None` for 'weights' are deprecated since 0.13 and may be removed in the future. The current behavior is equivalent to passing `weights=ConvNeXt_Tiny_Weights.IMAGENET1K_V1`. You can also use `weights=ConvNeXt_Tiny_Weights.DEFAULT` to get the most up-to-date weights.\n",
      "  warnings.warn(msg)\n",
      "\n",
      "Epoch-Iteration:   0%|          | 0/2 [00:00<?, ?epoch/s]\u001b[A\n",
      "Epoch-Iteration:  50%|█████     | 1/2 [02:33<02:33, 153.99s/epoch]\u001b[A\n",
      "Epoch-Iteration: 100%|██████████| 2/2 [05:13<00:00, 156.85s/epoch]\u001b[A\n",
      "Fold-Iteration:  20%|██        | 1/5 [05:28<21:53, 328.47s/fold]/users/tmandelz/.local/share/virtualenvs/tierli_ahluege-KocqYYbw/lib/python3.9/site-packages/torchvision/models/_utils.py:223: UserWarning: Arguments other than a weight enum or `None` for 'weights' are deprecated since 0.13 and may be removed in the future. The current behavior is equivalent to passing `weights=ConvNeXt_Tiny_Weights.IMAGENET1K_V1`. You can also use `weights=ConvNeXt_Tiny_Weights.DEFAULT` to get the most up-to-date weights.\n",
      "  warnings.warn(msg)\n",
      "\n",
      "Epoch-Iteration:   0%|          | 0/2 [00:00<?, ?epoch/s]\u001b[A\n",
      "Epoch-Iteration:  50%|█████     | 1/2 [02:43<02:43, 163.93s/epoch]\u001b[A\n",
      "Epoch-Iteration: 100%|██████████| 2/2 [05:41<00:00, 170.62s/epoch]\u001b[A\n",
      "Fold-Iteration:  40%|████      | 2/5 [11:25<17:16, 345.53s/fold]/users/tmandelz/.local/share/virtualenvs/tierli_ahluege-KocqYYbw/lib/python3.9/site-packages/torchvision/models/_utils.py:223: UserWarning: Arguments other than a weight enum or `None` for 'weights' are deprecated since 0.13 and may be removed in the future. The current behavior is equivalent to passing `weights=ConvNeXt_Tiny_Weights.IMAGENET1K_V1`. You can also use `weights=ConvNeXt_Tiny_Weights.DEFAULT` to get the most up-to-date weights.\n",
      "  warnings.warn(msg)\n",
      "\n",
      "Epoch-Iteration:   0%|          | 0/2 [00:00<?, ?epoch/s]\u001b[A\n",
      "Epoch-Iteration:  50%|█████     | 1/2 [02:45<02:45, 165.22s/epoch]\u001b[A\n",
      "Epoch-Iteration: 100%|██████████| 2/2 [05:29<00:00, 164.77s/epoch]\u001b[A\n",
      "Fold-Iteration:  60%|██████    | 3/5 [17:13<11:33, 346.63s/fold]/users/tmandelz/.local/share/virtualenvs/tierli_ahluege-KocqYYbw/lib/python3.9/site-packages/torchvision/models/_utils.py:223: UserWarning: Arguments other than a weight enum or `None` for 'weights' are deprecated since 0.13 and may be removed in the future. The current behavior is equivalent to passing `weights=ConvNeXt_Tiny_Weights.IMAGENET1K_V1`. You can also use `weights=ConvNeXt_Tiny_Weights.DEFAULT` to get the most up-to-date weights.\n",
      "  warnings.warn(msg)\n",
      "\n",
      "Epoch-Iteration:   0%|          | 0/2 [00:00<?, ?epoch/s]\u001b[A\n",
      "Epoch-Iteration:  50%|█████     | 1/2 [02:36<02:36, 156.60s/epoch]\u001b[A\n",
      "Epoch-Iteration: 100%|██████████| 2/2 [05:13<00:00, 156.78s/epoch]\u001b[A\n",
      "Fold-Iteration:  80%|████████  | 4/5 [22:43<05:40, 340.05s/fold]/users/tmandelz/.local/share/virtualenvs/tierli_ahluege-KocqYYbw/lib/python3.9/site-packages/torchvision/models/_utils.py:223: UserWarning: Arguments other than a weight enum or `None` for 'weights' are deprecated since 0.13 and may be removed in the future. The current behavior is equivalent to passing `weights=ConvNeXt_Tiny_Weights.IMAGENET1K_V1`. You can also use `weights=ConvNeXt_Tiny_Weights.DEFAULT` to get the most up-to-date weights.\n",
      "  warnings.warn(msg)\n",
      "\n",
      "Epoch-Iteration:   0%|          | 0/2 [00:00<?, ?epoch/s]\u001b[A\n",
      "Epoch-Iteration:  50%|█████     | 1/2 [02:40<02:40, 160.23s/epoch]\u001b[A\n",
      "Epoch-Iteration: 100%|██████████| 2/2 [05:20<00:00, 160.47s/epoch]\u001b[A\n",
      "Fold-Iteration: 100%|██████████| 5/5 [28:18<00:00, 339.74s/fold]\n"
     ]
    }
   ],
   "source": [
    "model_name = \"convnext_tiny_megadetector_ensemble_range_low_cv_lr_1e-4_2_epochs\"\n",
    "convnext = CCV1_Trainer(DataModule(basic_transform=convnext_transformer,delete_recognized_mega=True,threshhold_megadetector=0.4), convnext_tiny_,)\n",
    "convnext.train_model(model_name, pretrained_model, num_epochs=2, cross_validation=True,test_model=False,batchsize_train_data=64,lr = 1e-4)\n"
   ]
  },
  {
   "cell_type": "code",
   "execution_count": null,
   "id": "aad51cab-f7bd-45c7-9565-4808b04b2144",
   "metadata": {},
   "outputs": [
    {
     "name": "stdout",
     "output_type": "stream",
     "text": [
      "Saved model: convnext_tiny_megadetector_ensemble_range_low_cv_lr_1e-4_2_epochs to ./model_submit/convnext_tiny_megadetector_ensemble_range_low_cv_lr_1e-4_2_epochs.pth\n"
     ]
    }
   ],
   "source": [
    "convnext.submission(model_name,ensemble=True)"
   ]
  },
  {
   "cell_type": "code",
   "execution_count": null,
   "id": "b196a351-ca28-4d13-a16b-7dba726468c1",
   "metadata": {},
   "outputs": [],
   "source": []
  }
 ],
 "metadata": {
  "kernelspec": {
   "display_name": "ccv1",
   "language": "python",
   "name": "ccv1"
  },
  "language_info": {
   "codemirror_mode": {
    "name": "ipython",
    "version": 3
   },
   "file_extension": ".py",
   "mimetype": "text/x-python",
   "name": "python",
   "nbconvert_exporter": "python",
   "pygments_lexer": "ipython3",
   "version": "3.9.4"
  }
 },
 "nbformat": 4,
 "nbformat_minor": 5
}
