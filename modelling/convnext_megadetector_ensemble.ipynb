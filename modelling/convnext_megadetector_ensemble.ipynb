{
 "cells": [
  {
   "cell_type": "code",
   "execution_count": 1,
   "id": "11ad09f0-812f-4a4a-9c0d-74389f396504",
   "metadata": {},
   "outputs": [
    {
     "name": "stdout",
     "output_type": "stream",
     "text": [
      "/users/tmandelz/ccv1/tierli_ahluege/modelling\n"
     ]
    },
    {
     "name": "stderr",
     "output_type": "stream",
     "text": [
      "/users/tmandelz/.local/share/virtualenvs/tierli_ahluege-KocqYYbw/lib/python3.9/site-packages/tqdm/auto.py:21: TqdmWarning: IProgress not found. Please update jupyter and ipywidgets. See https://ipywidgets.readthedocs.io/en/stable/user_install.html\n",
      "  from .autonotebook import tqdm as notebook_tqdm\n"
     ]
    },
    {
     "name": "stdout",
     "output_type": "stream",
     "text": [
      "env: \"WANDB_NOTEBOOK_NAME\"=\"ccv1_convnext\"\n",
      "env: WANDB_SILENT=True\n"
     ]
    }
   ],
   "source": [
    "\n",
    "#%%\n",
    "import os\n",
    "print(os.getcwd())\n",
    "if os.getcwd().endswith(\"modelling\"):\n",
    "    os.chdir(\"..\")\n",
    "\n",
    "#%%\n",
    "is_cscs_run = False\n",
    "\n",
    "if is_cscs_run:\n",
    "    os.chdir(\"ccv1/tierli_ahluege/\")\n",
    "    print(os.getcwd())\n",
    "\n",
    "#%%\n",
    "from src.modelling import CCV1_Trainer\n",
    "from src.augmentation import CCV1Transformer,None_Transform\n",
    "from src.data_modules import DataModule\n",
    "from torch import nn\n",
    "import torch\n",
    "from torchvision import transforms,models\n",
    "\n",
    "#%%\n",
    "# wandb Notebook Setup\n",
    "%env \"WANDB_NOTEBOOK_NAME\" \"ccv1_convnext\"\n",
    "%env WANDB_SILENT=True\n",
    "\n",
    "# %%\n",
    "def convnext_tiny_():\n",
    "    model = models.convnext_tiny(weights=True,)\n",
    "    model.classifier[2] = nn.Linear(in_features=768, out_features=8, bias=True)\n",
    "    return model"
   ]
  },
  {
   "cell_type": "code",
   "execution_count": 2,
   "id": "6f427d8d-adf4-4174-aade-224f8c91027a",
   "metadata": {},
   "outputs": [
    {
     "data": {
      "text/plain": [
       "Compose(\n",
       "    None_Transform()\n",
       "    Compose(\n",
       "    None_Transform()\n",
       ")\n",
       "    ToTensor()\n",
       "    Compose(\n",
       "    None_Transform()\n",
       ")\n",
       "    Compose(\n",
       "    Resize(size=(236, 236), interpolation=bilinear, max_size=None, antialias=True)\n",
       "    CenterCrop(size=(224, 224))\n",
       "    Normalize(mean=(0.485, 0.456, 0.406), std=(0.229, 0.224, 0.225))\n",
       ")\n",
       ")"
      ]
     },
     "execution_count": 2,
     "metadata": {},
     "output_type": "execute_result"
    }
   ],
   "source": [
    "#%%\n",
    "model_name = \"convnext_tiny_megadetector_beste\"\n",
    "pretrained_model = \"convnext\"\n",
    "#%%\n",
    "convnext_transformer = CCV1Transformer(\n",
    "    transforms.Compose([None_Transform()]), \"model_specific\", pretrained_model\n",
    ").getCompose(True)\n",
    "convnext_transformer\n"
   ]
  },
  {
   "cell_type": "code",
   "execution_count": 3,
   "id": "255c069b-65c4-42af-8d48-4c20486ee730",
   "metadata": {},
   "outputs": [
    {
     "name": "stderr",
     "output_type": "stream",
     "text": [
      "Fold-Iteration:   0%|          | 0/5 [00:00<?, ?fold/s]/users/tmandelz/ccv1/tierli_ahluege/src/data_modules.py:142: UserWarning: Boolean Series key will be reindexed to match DataFrame index.\n",
      "  val_labels = val_labels[(val_features[\"conf\"]>self.max_threshhold_megadetector)==False]\n",
      "/users/tmandelz/ccv1/tierli_ahluege/src/data_modules.py:149: UserWarning: Boolean Series key will be reindexed to match DataFrame index.\n",
      "  train_labels = train_labels[(train_features[\"conf\"]>self.max_threshhold_megadetector)==False]\n",
      "/users/tmandelz/.local/share/virtualenvs/tierli_ahluege-KocqYYbw/lib/python3.9/site-packages/torchvision/models/_utils.py:223: UserWarning: Arguments other than a weight enum or `None` for 'weights' are deprecated since 0.13 and may be removed in the future. The current behavior is equivalent to passing `weights=ConvNeXt_Tiny_Weights.IMAGENET1K_V1`. You can also use `weights=ConvNeXt_Tiny_Weights.DEFAULT` to get the most up-to-date weights.\n",
      "  warnings.warn(msg)\n",
      "\n",
      "Epoch-Iteration:   0%|          | 0/2 [00:00<?, ?epoch/s]\u001b[A\n",
      "Epoch-Iteration:  50%|█████     | 1/2 [04:19<04:19, 259.53s/epoch]\u001b[A\n",
      "Epoch-Iteration: 100%|██████████| 2/2 [08:32<00:00, 256.21s/epoch]\u001b[A\n",
      "Fold-Iteration:  20%|██        | 1/5 [08:58<35:53, 538.30s/fold]/users/tmandelz/ccv1/tierli_ahluege/src/data_modules.py:142: UserWarning: Boolean Series key will be reindexed to match DataFrame index.\n",
      "  val_labels = val_labels[(val_features[\"conf\"]>self.max_threshhold_megadetector)==False]\n",
      "/users/tmandelz/ccv1/tierli_ahluege/src/data_modules.py:149: UserWarning: Boolean Series key will be reindexed to match DataFrame index.\n",
      "  train_labels = train_labels[(train_features[\"conf\"]>self.max_threshhold_megadetector)==False]\n",
      "/users/tmandelz/.local/share/virtualenvs/tierli_ahluege-KocqYYbw/lib/python3.9/site-packages/torchvision/models/_utils.py:223: UserWarning: Arguments other than a weight enum or `None` for 'weights' are deprecated since 0.13 and may be removed in the future. The current behavior is equivalent to passing `weights=ConvNeXt_Tiny_Weights.IMAGENET1K_V1`. You can also use `weights=ConvNeXt_Tiny_Weights.DEFAULT` to get the most up-to-date weights.\n",
      "  warnings.warn(msg)\n",
      "\n",
      "Epoch-Iteration:   0%|          | 0/2 [00:00<?, ?epoch/s]\u001b[A\n",
      "Epoch-Iteration:  50%|█████     | 1/2 [04:34<04:34, 274.44s/epoch]\u001b[A\n",
      "Epoch-Iteration: 100%|██████████| 2/2 [09:22<00:00, 281.06s/epoch]\u001b[A\n",
      "Fold-Iteration:  40%|████      | 2/5 [18:36<28:04, 561.49s/fold]/users/tmandelz/ccv1/tierli_ahluege/src/data_modules.py:142: UserWarning: Boolean Series key will be reindexed to match DataFrame index.\n",
      "  val_labels = val_labels[(val_features[\"conf\"]>self.max_threshhold_megadetector)==False]\n",
      "/users/tmandelz/ccv1/tierli_ahluege/src/data_modules.py:149: UserWarning: Boolean Series key will be reindexed to match DataFrame index.\n",
      "  train_labels = train_labels[(train_features[\"conf\"]>self.max_threshhold_megadetector)==False]\n",
      "/users/tmandelz/.local/share/virtualenvs/tierli_ahluege-KocqYYbw/lib/python3.9/site-packages/torchvision/models/_utils.py:223: UserWarning: Arguments other than a weight enum or `None` for 'weights' are deprecated since 0.13 and may be removed in the future. The current behavior is equivalent to passing `weights=ConvNeXt_Tiny_Weights.IMAGENET1K_V1`. You can also use `weights=ConvNeXt_Tiny_Weights.DEFAULT` to get the most up-to-date weights.\n",
      "  warnings.warn(msg)\n",
      "\n",
      "Epoch-Iteration:   0%|          | 0/2 [00:00<?, ?epoch/s]\u001b[A\n",
      "Epoch-Iteration:  50%|█████     | 1/2 [04:36<04:36, 276.74s/epoch]\u001b[A\n",
      "Epoch-Iteration: 100%|██████████| 2/2 [13:27<00:00, 403.63s/epoch]\u001b[A\n",
      "Fold-Iteration:  60%|██████    | 3/5 [32:20<22:43, 681.50s/fold]/users/tmandelz/ccv1/tierli_ahluege/src/data_modules.py:142: UserWarning: Boolean Series key will be reindexed to match DataFrame index.\n",
      "  val_labels = val_labels[(val_features[\"conf\"]>self.max_threshhold_megadetector)==False]\n",
      "/users/tmandelz/ccv1/tierli_ahluege/src/data_modules.py:149: UserWarning: Boolean Series key will be reindexed to match DataFrame index.\n",
      "  train_labels = train_labels[(train_features[\"conf\"]>self.max_threshhold_megadetector)==False]\n",
      "/users/tmandelz/.local/share/virtualenvs/tierli_ahluege-KocqYYbw/lib/python3.9/site-packages/torchvision/models/_utils.py:223: UserWarning: Arguments other than a weight enum or `None` for 'weights' are deprecated since 0.13 and may be removed in the future. The current behavior is equivalent to passing `weights=ConvNeXt_Tiny_Weights.IMAGENET1K_V1`. You can also use `weights=ConvNeXt_Tiny_Weights.DEFAULT` to get the most up-to-date weights.\n",
      "  warnings.warn(msg)\n",
      "\n",
      "Epoch-Iteration:   0%|          | 0/2 [00:00<?, ?epoch/s]\u001b[A\n",
      "Epoch-Iteration:  50%|█████     | 1/2 [03:54<03:54, 234.38s/epoch]\u001b[A\n",
      "Epoch-Iteration: 100%|██████████| 2/2 [07:57<00:00, 238.93s/epoch]\u001b[A\n",
      "Fold-Iteration:  80%|████████  | 4/5 [40:35<10:07, 607.93s/fold]/users/tmandelz/ccv1/tierli_ahluege/src/data_modules.py:142: UserWarning: Boolean Series key will be reindexed to match DataFrame index.\n",
      "  val_labels = val_labels[(val_features[\"conf\"]>self.max_threshhold_megadetector)==False]\n",
      "/users/tmandelz/ccv1/tierli_ahluege/src/data_modules.py:149: UserWarning: Boolean Series key will be reindexed to match DataFrame index.\n",
      "  train_labels = train_labels[(train_features[\"conf\"]>self.max_threshhold_megadetector)==False]\n",
      "/users/tmandelz/.local/share/virtualenvs/tierli_ahluege-KocqYYbw/lib/python3.9/site-packages/torchvision/models/_utils.py:223: UserWarning: Arguments other than a weight enum or `None` for 'weights' are deprecated since 0.13 and may be removed in the future. The current behavior is equivalent to passing `weights=ConvNeXt_Tiny_Weights.IMAGENET1K_V1`. You can also use `weights=ConvNeXt_Tiny_Weights.DEFAULT` to get the most up-to-date weights.\n",
      "  warnings.warn(msg)\n",
      "\n",
      "Epoch-Iteration:   0%|          | 0/2 [00:00<?, ?epoch/s]\u001b[A\n",
      "Epoch-Iteration:  50%|█████     | 1/2 [04:16<04:16, 256.28s/epoch]\u001b[A\n",
      "Epoch-Iteration: 100%|██████████| 2/2 [13:28<00:00, 404.08s/epoch]\u001b[A\n",
      "Fold-Iteration: 100%|██████████| 5/5 [54:17<00:00, 651.52s/fold]\n"
     ]
    }
   ],
   "source": [
    "model_name = \"convnext_tiny_megadetector_ensemble_range_high_lr_1e-4_cv_bs_32\"\n",
    "convnext = CCV1_Trainer(DataModule(basic_transform=convnext_transformer,include_megadetector_train=True,delete_unrecognized_mega=True,max_threshhold_megadetector=1.01,threshhold_megadetector=0.65,include_megadetector_test=True), convnext_tiny_,)\n",
    "convnext.train_model(model_name, pretrained_model, num_epochs=2, cross_validation=True,test_model=False,batchsize_train_data=32,lr = 1e-4)\n"
   ]
  },
  {
   "cell_type": "code",
   "execution_count": 4,
   "id": "1e7c81d1-7789-43a9-8cef-155c52a40b56",
   "metadata": {},
   "outputs": [
    {
     "name": "stdout",
     "output_type": "stream",
     "text": [
      "Saved model: convnext_tiny_megadetector_ensemble_range_high_lr_1e-4_cv_bs_32 to ./model_submit/convnext_tiny_megadetector_ensemble_range_high_lr_1e-4_cv_bs_32.pth\n",
      "Saved submission: convnext_tiny_megadetector_ensemble_range_high_lr_1e-4_cv_bs_32 to ./data_submit/convnext_tiny_megadetector_ensemble_range_high_lr_1e-4_cv_bs_32.csv\n"
     ]
    }
   ],
   "source": [
    "convnext.submission(model_name,ensemble=True)"
   ]
  },
  {
   "cell_type": "code",
   "execution_count": 5,
   "id": "f91fe2c6-3383-4cdd-b2f7-b659dcd74001",
   "metadata": {},
   "outputs": [
    {
     "name": "stderr",
     "output_type": "stream",
     "text": [
      "Fold-Iteration:   0%|          | 0/5 [00:00<?, ?fold/s]/users/tmandelz/ccv1/tierli_ahluege/src/data_modules.py:142: UserWarning: Boolean Series key will be reindexed to match DataFrame index.\n",
      "  val_labels = val_labels[(val_features[\"conf\"]>self.max_threshhold_megadetector)==False]\n",
      "/users/tmandelz/ccv1/tierli_ahluege/src/data_modules.py:149: UserWarning: Boolean Series key will be reindexed to match DataFrame index.\n",
      "  train_labels = train_labels[(train_features[\"conf\"]>self.max_threshhold_megadetector)==False]\n",
      "/users/tmandelz/.local/share/virtualenvs/tierli_ahluege-KocqYYbw/lib/python3.9/site-packages/torchvision/models/_utils.py:223: UserWarning: Arguments other than a weight enum or `None` for 'weights' are deprecated since 0.13 and may be removed in the future. The current behavior is equivalent to passing `weights=ConvNeXt_Tiny_Weights.IMAGENET1K_V1`. You can also use `weights=ConvNeXt_Tiny_Weights.DEFAULT` to get the most up-to-date weights.\n",
      "  warnings.warn(msg)\n",
      "\n",
      "Epoch-Iteration:   0%|          | 0/3 [00:00<?, ?epoch/s]\u001b[A\n",
      "Epoch-Iteration:  33%|███▎      | 1/3 [01:04<02:08, 64.22s/epoch]\u001b[A\n",
      "Epoch-Iteration:  67%|██████▋   | 2/3 [02:04<01:01, 61.78s/epoch]\u001b[A\n",
      "Epoch-Iteration: 100%|██████████| 3/3 [03:03<00:00, 61.31s/epoch]\u001b[A\n",
      "Fold-Iteration:  20%|██        | 1/5 [03:17<13:10, 197.56s/fold]/users/tmandelz/ccv1/tierli_ahluege/src/data_modules.py:142: UserWarning: Boolean Series key will be reindexed to match DataFrame index.\n",
      "  val_labels = val_labels[(val_features[\"conf\"]>self.max_threshhold_megadetector)==False]\n",
      "/users/tmandelz/ccv1/tierli_ahluege/src/data_modules.py:149: UserWarning: Boolean Series key will be reindexed to match DataFrame index.\n",
      "  train_labels = train_labels[(train_features[\"conf\"]>self.max_threshhold_megadetector)==False]\n",
      "/users/tmandelz/.local/share/virtualenvs/tierli_ahluege-KocqYYbw/lib/python3.9/site-packages/torchvision/models/_utils.py:223: UserWarning: Arguments other than a weight enum or `None` for 'weights' are deprecated since 0.13 and may be removed in the future. The current behavior is equivalent to passing `weights=ConvNeXt_Tiny_Weights.IMAGENET1K_V1`. You can also use `weights=ConvNeXt_Tiny_Weights.DEFAULT` to get the most up-to-date weights.\n",
      "  warnings.warn(msg)\n",
      "\n",
      "Epoch-Iteration:   0%|          | 0/3 [00:00<?, ?epoch/s]\u001b[A\n",
      "Epoch-Iteration:  33%|███▎      | 1/3 [01:02<02:05, 62.60s/epoch]\u001b[A\n",
      "Epoch-Iteration:  67%|██████▋   | 2/3 [02:04<01:02, 62.18s/epoch]\u001b[A\n",
      "Epoch-Iteration: 100%|██████████| 3/3 [03:06<00:00, 62.21s/epoch]\u001b[A\n",
      "Fold-Iteration:  40%|████      | 2/5 [06:39<09:59, 199.97s/fold]/users/tmandelz/ccv1/tierli_ahluege/src/data_modules.py:142: UserWarning: Boolean Series key will be reindexed to match DataFrame index.\n",
      "  val_labels = val_labels[(val_features[\"conf\"]>self.max_threshhold_megadetector)==False]\n",
      "/users/tmandelz/ccv1/tierli_ahluege/src/data_modules.py:149: UserWarning: Boolean Series key will be reindexed to match DataFrame index.\n",
      "  train_labels = train_labels[(train_features[\"conf\"]>self.max_threshhold_megadetector)==False]\n",
      "/users/tmandelz/.local/share/virtualenvs/tierli_ahluege-KocqYYbw/lib/python3.9/site-packages/torchvision/models/_utils.py:223: UserWarning: Arguments other than a weight enum or `None` for 'weights' are deprecated since 0.13 and may be removed in the future. The current behavior is equivalent to passing `weights=ConvNeXt_Tiny_Weights.IMAGENET1K_V1`. You can also use `weights=ConvNeXt_Tiny_Weights.DEFAULT` to get the most up-to-date weights.\n",
      "  warnings.warn(msg)\n",
      "\n",
      "Epoch-Iteration:   0%|          | 0/3 [00:00<?, ?epoch/s]\u001b[A\n",
      "Epoch-Iteration:  33%|███▎      | 1/3 [01:03<02:07, 63.58s/epoch]\u001b[A\n",
      "Epoch-Iteration:  67%|██████▋   | 2/3 [02:07<01:03, 63.60s/epoch]\u001b[A\n",
      "Epoch-Iteration: 100%|██████████| 3/3 [03:10<00:00, 63.46s/epoch]\u001b[A\n",
      "Fold-Iteration:  60%|██████    | 3/5 [10:04<06:45, 202.52s/fold]/users/tmandelz/ccv1/tierli_ahluege/src/data_modules.py:142: UserWarning: Boolean Series key will be reindexed to match DataFrame index.\n",
      "  val_labels = val_labels[(val_features[\"conf\"]>self.max_threshhold_megadetector)==False]\n",
      "/users/tmandelz/ccv1/tierli_ahluege/src/data_modules.py:149: UserWarning: Boolean Series key will be reindexed to match DataFrame index.\n",
      "  train_labels = train_labels[(train_features[\"conf\"]>self.max_threshhold_megadetector)==False]\n",
      "/users/tmandelz/.local/share/virtualenvs/tierli_ahluege-KocqYYbw/lib/python3.9/site-packages/torchvision/models/_utils.py:223: UserWarning: Arguments other than a weight enum or `None` for 'weights' are deprecated since 0.13 and may be removed in the future. The current behavior is equivalent to passing `weights=ConvNeXt_Tiny_Weights.IMAGENET1K_V1`. You can also use `weights=ConvNeXt_Tiny_Weights.DEFAULT` to get the most up-to-date weights.\n",
      "  warnings.warn(msg)\n",
      "\n",
      "Epoch-Iteration:   0%|          | 0/3 [00:00<?, ?epoch/s]\u001b[A\n",
      "Epoch-Iteration:  33%|███▎      | 1/3 [00:59<01:59, 59.72s/epoch]\u001b[A\n",
      "Epoch-Iteration:  67%|██████▋   | 2/3 [01:59<00:59, 59.72s/epoch]\u001b[A\n",
      "Epoch-Iteration: 100%|██████████| 3/3 [02:59<00:00, 59.67s/epoch]\u001b[A\n",
      "Fold-Iteration:  80%|████████  | 4/5 [13:18<03:18, 198.89s/fold]/users/tmandelz/ccv1/tierli_ahluege/src/data_modules.py:142: UserWarning: Boolean Series key will be reindexed to match DataFrame index.\n",
      "  val_labels = val_labels[(val_features[\"conf\"]>self.max_threshhold_megadetector)==False]\n",
      "/users/tmandelz/ccv1/tierli_ahluege/src/data_modules.py:149: UserWarning: Boolean Series key will be reindexed to match DataFrame index.\n",
      "  train_labels = train_labels[(train_features[\"conf\"]>self.max_threshhold_megadetector)==False]\n",
      "/users/tmandelz/.local/share/virtualenvs/tierli_ahluege-KocqYYbw/lib/python3.9/site-packages/torchvision/models/_utils.py:223: UserWarning: Arguments other than a weight enum or `None` for 'weights' are deprecated since 0.13 and may be removed in the future. The current behavior is equivalent to passing `weights=ConvNeXt_Tiny_Weights.IMAGENET1K_V1`. You can also use `weights=ConvNeXt_Tiny_Weights.DEFAULT` to get the most up-to-date weights.\n",
      "  warnings.warn(msg)\n",
      "\n",
      "Epoch-Iteration:   0%|          | 0/3 [00:00<?, ?epoch/s]\u001b[A\n",
      "Epoch-Iteration:  33%|███▎      | 1/3 [00:59<01:59, 59.62s/epoch]\u001b[A\n",
      "Epoch-Iteration:  67%|██████▋   | 2/3 [01:59<00:59, 59.71s/epoch]\u001b[A\n",
      "Epoch-Iteration: 100%|██████████| 3/3 [02:59<00:00, 59.82s/epoch]\u001b[A\n",
      "Fold-Iteration: 100%|██████████| 5/5 [16:31<00:00, 198.37s/fold]\n"
     ]
    }
   ],
   "source": [
    "model_name = \"convnext_tiny_megadetector_ensemble_range_mid_lr_1e-4_cv_bs_32\"\n",
    "convnext = CCV1_Trainer(DataModule(basic_transform=convnext_transformer,include_megadetector_train=True,delete_unrecognized_mega=True,max_threshhold_megadetector=0.65,threshhold_megadetector=0.4,include_megadetector_test=True), convnext_tiny_,)\n",
    "convnext.train_model(model_name, pretrained_model, num_epochs=3, cross_validation=True,test_model=False,batchsize_train_data=32,lr = 1e-4)\n"
   ]
  },
  {
   "cell_type": "code",
   "execution_count": 6,
   "id": "e8d4a43b-f654-4411-87cf-bad486a5aa21",
   "metadata": {},
   "outputs": [
    {
     "name": "stdout",
     "output_type": "stream",
     "text": [
      "Saved model: convnext_tiny_megadetector_ensemble_range_mid_lr_1e-4_cv_bs_32 to ./model_submit/convnext_tiny_megadetector_ensemble_range_mid_lr_1e-4_cv_bs_32.pth\n",
      "Saved submission: convnext_tiny_megadetector_ensemble_range_mid_lr_1e-4_cv_bs_32 to ./data_submit/convnext_tiny_megadetector_ensemble_range_mid_lr_1e-4_cv_bs_32.csv\n"
     ]
    }
   ],
   "source": [
    "convnext.submission(model_name,ensemble=True)"
   ]
  },
  {
   "cell_type": "code",
   "execution_count": 7,
   "id": "520c3d42-5dbf-4dfa-ae8b-855847a57521",
   "metadata": {},
   "outputs": [
    {
     "name": "stderr",
     "output_type": "stream",
     "text": [
      "Fold-Iteration:   0%|          | 0/5 [00:00<?, ?fold/s]/users/tmandelz/.local/share/virtualenvs/tierli_ahluege-KocqYYbw/lib/python3.9/site-packages/torchvision/models/_utils.py:223: UserWarning: Arguments other than a weight enum or `None` for 'weights' are deprecated since 0.13 and may be removed in the future. The current behavior is equivalent to passing `weights=ConvNeXt_Tiny_Weights.IMAGENET1K_V1`. You can also use `weights=ConvNeXt_Tiny_Weights.DEFAULT` to get the most up-to-date weights.\n",
      "  warnings.warn(msg)\n",
      "\n",
      "Epoch-Iteration:   0%|          | 0/2 [00:00<?, ?epoch/s]\u001b[A\n",
      "Epoch-Iteration:  50%|█████     | 1/2 [03:17<03:17, 197.41s/epoch]\u001b[A\n",
      "Epoch-Iteration: 100%|██████████| 2/2 [06:29<00:00, 194.67s/epoch]\u001b[A\n",
      "Fold-Iteration:  20%|██        | 1/5 [06:42<26:50, 402.69s/fold]/users/tmandelz/.local/share/virtualenvs/tierli_ahluege-KocqYYbw/lib/python3.9/site-packages/torchvision/models/_utils.py:223: UserWarning: Arguments other than a weight enum or `None` for 'weights' are deprecated since 0.13 and may be removed in the future. The current behavior is equivalent to passing `weights=ConvNeXt_Tiny_Weights.IMAGENET1K_V1`. You can also use `weights=ConvNeXt_Tiny_Weights.DEFAULT` to get the most up-to-date weights.\n",
      "  warnings.warn(msg)\n",
      "\n",
      "Epoch-Iteration:   0%|          | 0/2 [00:00<?, ?epoch/s]\u001b[A\n",
      "Epoch-Iteration:  50%|█████     | 1/2 [03:12<03:12, 192.83s/epoch]\u001b[A\n",
      "Epoch-Iteration: 100%|██████████| 2/2 [06:26<00:00, 193.25s/epoch]\u001b[A\n",
      "Fold-Iteration:  40%|████      | 2/5 [13:24<20:06, 402.14s/fold]/users/tmandelz/.local/share/virtualenvs/tierli_ahluege-KocqYYbw/lib/python3.9/site-packages/torchvision/models/_utils.py:223: UserWarning: Arguments other than a weight enum or `None` for 'weights' are deprecated since 0.13 and may be removed in the future. The current behavior is equivalent to passing `weights=ConvNeXt_Tiny_Weights.IMAGENET1K_V1`. You can also use `weights=ConvNeXt_Tiny_Weights.DEFAULT` to get the most up-to-date weights.\n",
      "  warnings.warn(msg)\n",
      "\n",
      "Epoch-Iteration:   0%|          | 0/2 [00:00<?, ?epoch/s]\u001b[A\n",
      "Epoch-Iteration:  50%|█████     | 1/2 [03:08<03:08, 188.34s/epoch]\u001b[A\n",
      "Epoch-Iteration: 100%|██████████| 2/2 [06:16<00:00, 188.42s/epoch]\u001b[A\n",
      "Fold-Iteration:  60%|██████    | 3/5 [19:56<13:14, 397.43s/fold]/users/tmandelz/.local/share/virtualenvs/tierli_ahluege-KocqYYbw/lib/python3.9/site-packages/torchvision/models/_utils.py:223: UserWarning: Arguments other than a weight enum or `None` for 'weights' are deprecated since 0.13 and may be removed in the future. The current behavior is equivalent to passing `weights=ConvNeXt_Tiny_Weights.IMAGENET1K_V1`. You can also use `weights=ConvNeXt_Tiny_Weights.DEFAULT` to get the most up-to-date weights.\n",
      "  warnings.warn(msg)\n",
      "\n",
      "Epoch-Iteration:   0%|          | 0/2 [00:00<?, ?epoch/s]\u001b[A\n",
      "Epoch-Iteration:  50%|█████     | 1/2 [02:53<02:53, 173.92s/epoch]\u001b[A\n",
      "Epoch-Iteration: 100%|██████████| 2/2 [06:18<00:00, 189.41s/epoch]\u001b[A\n",
      "Fold-Iteration:  80%|████████  | 4/5 [26:31<06:36, 396.69s/fold]/users/tmandelz/.local/share/virtualenvs/tierli_ahluege-KocqYYbw/lib/python3.9/site-packages/torchvision/models/_utils.py:223: UserWarning: Arguments other than a weight enum or `None` for 'weights' are deprecated since 0.13 and may be removed in the future. The current behavior is equivalent to passing `weights=ConvNeXt_Tiny_Weights.IMAGENET1K_V1`. You can also use `weights=ConvNeXt_Tiny_Weights.DEFAULT` to get the most up-to-date weights.\n",
      "  warnings.warn(msg)\n",
      "\n",
      "Epoch-Iteration:   0%|          | 0/2 [00:00<?, ?epoch/s]\u001b[A\n",
      "Epoch-Iteration:  50%|█████     | 1/2 [03:09<03:09, 189.38s/epoch]\u001b[A\n",
      "Epoch-Iteration: 100%|██████████| 2/2 [06:15<00:00, 187.77s/epoch]\u001b[A\n",
      "Fold-Iteration: 100%|██████████| 5/5 [33:01<00:00, 396.25s/fold]\n"
     ]
    }
   ],
   "source": [
    "model_name = \"convnext_tiny_megadetector_ensemble_range_low_cv_lr_1e-4_bs_32\"\n",
    "convnext = CCV1_Trainer(DataModule(basic_transform=convnext_transformer,delete_recognized_mega=True,threshhold_megadetector=0.4), convnext_tiny_,)\n",
    "convnext.train_model(model_name, pretrained_model, num_epochs=2, cross_validation=True,test_model=False,batchsize_train_data=32,lr = 1e-4)\n"
   ]
  },
  {
   "cell_type": "code",
   "execution_count": 8,
   "id": "aad51cab-f7bd-45c7-9565-4808b04b2144",
   "metadata": {},
   "outputs": [
    {
     "name": "stdout",
     "output_type": "stream",
     "text": [
      "Saved model: convnext_tiny_megadetector_ensemble_range_low_cv_lr_1e-4_bs_32 to ./model_submit/convnext_tiny_megadetector_ensemble_range_low_cv_lr_1e-4_bs_32.pth\n",
      "Saved submission: convnext_tiny_megadetector_ensemble_range_low_cv_lr_1e-4_bs_32 to ./data_submit/convnext_tiny_megadetector_ensemble_range_low_cv_lr_1e-4_bs_32.csv\n"
     ]
    }
   ],
   "source": [
    "convnext.submission(model_name,ensemble=True)"
   ]
  },
  {
   "cell_type": "code",
   "execution_count": null,
   "id": "b196a351-ca28-4d13-a16b-7dba726468c1",
   "metadata": {},
   "outputs": [],
   "source": []
  }
 ],
 "metadata": {
  "kernelspec": {
   "display_name": "ccv1",
   "language": "python",
   "name": "ccv1"
  },
  "language_info": {
   "codemirror_mode": {
    "name": "ipython",
    "version": 3
   },
   "file_extension": ".py",
   "mimetype": "text/x-python",
   "name": "python",
   "nbconvert_exporter": "python",
   "pygments_lexer": "ipython3",
   "version": "3.9.4"
  }
 },
 "nbformat": 4,
 "nbformat_minor": 5
}
