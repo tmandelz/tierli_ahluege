{
 "cells": [
  {
   "cell_type": "code",
   "execution_count": 1,
   "id": "c505617c-c9eb-41ab-b2b7-197b5567cf2d",
   "metadata": {},
   "outputs": [
    {
     "name": "stdout",
     "output_type": "stream",
     "text": [
      "/users/tmandelz/ccv1/tierli_ahluege/modelling\n"
     ]
    },
    {
     "name": "stderr",
     "output_type": "stream",
     "text": [
      "/users/tmandelz/.local/share/virtualenvs/tierli_ahluege-KocqYYbw/lib/python3.9/site-packages/tqdm/auto.py:21: TqdmWarning: IProgress not found. Please update jupyter and ipywidgets. See https://ipywidgets.readthedocs.io/en/stable/user_install.html\n",
      "  from .autonotebook import tqdm as notebook_tqdm\n"
     ]
    },
    {
     "name": "stdout",
     "output_type": "stream",
     "text": [
      "env: \"WANDB_NOTEBOOK_NAME\"=\"CCV1_resnet\"\n",
      "env: WANDB_SILENT=True\n"
     ]
    }
   ],
   "source": [
    "# %%\n",
    "import os\n",
    "print(os.getcwd())\n",
    "if os.getcwd().endswith(\"modelling\"):\n",
    "    os.chdir(\"..\")\n",
    "\n",
    "# %%\n",
    "is_cscs_run = False\n",
    "if is_cscs_run:\n",
    "    os.chdir(\"ccv1/tierli_ahluege/\")\n",
    "    print(os.getcwd())\n",
    "# %%\n",
    "from torchvision import transforms, models\n",
    "from src.augmentation import CCV1Transformer, None_Transform\n",
    "import torch\n",
    "from torch import nn\n",
    "from src.data_modules import DataModule\n",
    "from src.modelling import CCV1_Trainer\n",
    "\n",
    "# %%\n",
    "# wandb Notebook Setup\n",
    "%env \"WANDB_NOTEBOOK_NAME\" \"CCV1_resnet\"\n",
    "%env WANDB_SILENT = True\n",
    "\n",
    "\n",
    "# %%\n",
    "def resnet50_():\n",
    "    model = models.resnet50(weights=True)\n",
    "    model.fc = nn.Sequential(\n",
    "        # dense layer takes a 2048-dim input and outputs 100-dim\n",
    "        nn.Linear(2048, 100),\n",
    "        nn.ReLU(inplace=True),  # ReLU activation introduces non-linearity\n",
    "        nn.Dropout(0.1),  # common technique to mitigate overfitting\n",
    "        nn.Linear(\n",
    "            100, 8\n",
    "        ),  # final dense layer outputs 8-dim corresponding to our target classes\n",
    "    )\n",
    "    return model\n",
    "\n",
    "\n",
    "# %%\n",
    "resnet_transformer = CCV1Transformer(\n",
    "    transforms.Compose([None_Transform()]), \"model_specific\", \"resnet\"\n",
    ").getCompose()"
   ]
  },
  {
   "cell_type": "code",
   "execution_count": 3,
   "id": "78ab1d92-5b1f-4066-9dd4-789460074ca9",
   "metadata": {},
   "outputs": [
    {
     "name": "stderr",
     "output_type": "stream",
     "text": [
      "Fold-Iteration:   0%|          | 0/5 [00:00<?, ?fold/s]/users/tmandelz/.local/share/virtualenvs/tierli_ahluege-KocqYYbw/lib/python3.9/site-packages/torchvision/models/_utils.py:223: UserWarning: Arguments other than a weight enum or `None` for 'weights' are deprecated since 0.13 and may be removed in the future. The current behavior is equivalent to passing `weights=ResNet50_Weights.IMAGENET1K_V1`. You can also use `weights=ResNet50_Weights.DEFAULT` to get the most up-to-date weights.\n",
      "  warnings.warn(msg)\n",
      "Downloading: \"https://download.pytorch.org/models/resnet50-0676ba61.pth\" to /users/tmandelz/.cache/torch/hub/checkpoints/resnet50-0676ba61.pth\n",
      "\n",
      "  0%|          | 0.00/97.8M [00:00<?, ?B/s]\u001b[A\n",
      " 16%|█▌        | 15.4M/97.8M [00:00<00:00, 161MB/s]\u001b[A\n",
      " 40%|████      | 39.5M/97.8M [00:00<00:00, 215MB/s]\u001b[A\n",
      " 67%|██████▋   | 65.3M/97.8M [00:00<00:00, 240MB/s]\u001b[A\n",
      "100%|██████████| 97.8M/97.8M [00:00<00:00, 238MB/s]\u001b[A\n",
      "\n",
      "Epoch-Iteration:   0%|          | 0/6 [00:00<?, ?epoch/s]\u001b[A\n",
      "Epoch-Iteration:  17%|█▋        | 1/6 [01:46<08:54, 106.88s/epoch]\u001b[A\n",
      "Epoch-Iteration:  33%|███▎      | 2/6 [03:13<06:20, 95.21s/epoch] \u001b[A\n",
      "Epoch-Iteration:  50%|█████     | 3/6 [04:40<04:34, 91.45s/epoch]\u001b[A\n",
      "Epoch-Iteration:  67%|██████▋   | 4/6 [06:11<03:02, 91.02s/epoch]\u001b[A\n",
      "Epoch-Iteration:  83%|████████▎ | 5/6 [07:39<01:29, 89.86s/epoch]\u001b[A\n",
      "Epoch-Iteration: 100%|██████████| 6/6 [09:06<00:00, 91.12s/epoch]\u001b[A\n",
      "Fold-Iteration:  20%|██        | 1/5 [09:37<38:28, 577.05s/fold]/users/tmandelz/.local/share/virtualenvs/tierli_ahluege-KocqYYbw/lib/python3.9/site-packages/torchvision/models/_utils.py:223: UserWarning: Arguments other than a weight enum or `None` for 'weights' are deprecated since 0.13 and may be removed in the future. The current behavior is equivalent to passing `weights=ResNet50_Weights.IMAGENET1K_V1`. You can also use `weights=ResNet50_Weights.DEFAULT` to get the most up-to-date weights.\n",
      "  warnings.warn(msg)\n",
      "\n",
      "Epoch-Iteration:   0%|          | 0/6 [00:00<?, ?epoch/s]\u001b[A\n",
      "Epoch-Iteration:  17%|█▋        | 1/6 [01:33<07:48, 93.70s/epoch]\u001b[A\n",
      "Epoch-Iteration:  33%|███▎      | 2/6 [03:05<06:09, 92.45s/epoch]\u001b[A\n",
      "Epoch-Iteration:  50%|█████     | 3/6 [04:35<04:34, 91.35s/epoch]\u001b[A\n",
      "Epoch-Iteration:  67%|██████▋   | 4/6 [06:07<03:03, 91.61s/epoch]\u001b[A\n",
      "Epoch-Iteration:  83%|████████▎ | 5/6 [07:39<01:31, 91.66s/epoch]\u001b[A\n",
      "Epoch-Iteration: 100%|██████████| 6/6 [09:10<00:00, 91.71s/epoch]\u001b[A\n",
      "Fold-Iteration:  40%|████      | 2/5 [19:05<28:35, 571.70s/fold]/users/tmandelz/.local/share/virtualenvs/tierli_ahluege-KocqYYbw/lib/python3.9/site-packages/torchvision/models/_utils.py:223: UserWarning: Arguments other than a weight enum or `None` for 'weights' are deprecated since 0.13 and may be removed in the future. The current behavior is equivalent to passing `weights=ResNet50_Weights.IMAGENET1K_V1`. You can also use `weights=ResNet50_Weights.DEFAULT` to get the most up-to-date weights.\n",
      "  warnings.warn(msg)\n",
      "\n",
      "Epoch-Iteration:   0%|          | 0/6 [00:00<?, ?epoch/s]\u001b[A\n",
      "Epoch-Iteration:  17%|█▋        | 1/6 [01:36<08:01, 96.21s/epoch]\u001b[A\n",
      "Epoch-Iteration:  33%|███▎      | 2/6 [03:09<06:17, 94.28s/epoch]\u001b[A\n",
      "Epoch-Iteration:  50%|█████     | 3/6 [04:41<04:40, 93.48s/epoch]\u001b[A\n",
      "Epoch-Iteration:  67%|██████▋   | 4/6 [06:13<03:05, 92.67s/epoch]\u001b[A\n",
      "Epoch-Iteration:  83%|████████▎ | 5/6 [07:44<01:32, 92.34s/epoch]\u001b[A\n",
      "Epoch-Iteration: 100%|██████████| 6/6 [09:15<00:00, 92.57s/epoch]\u001b[A\n",
      "Fold-Iteration:  60%|██████    | 3/5 [28:36<19:03, 571.70s/fold]/users/tmandelz/.local/share/virtualenvs/tierli_ahluege-KocqYYbw/lib/python3.9/site-packages/torchvision/models/_utils.py:223: UserWarning: Arguments other than a weight enum or `None` for 'weights' are deprecated since 0.13 and may be removed in the future. The current behavior is equivalent to passing `weights=ResNet50_Weights.IMAGENET1K_V1`. You can also use `weights=ResNet50_Weights.DEFAULT` to get the most up-to-date weights.\n",
      "  warnings.warn(msg)\n",
      "\n",
      "Epoch-Iteration:   0%|          | 0/6 [00:00<?, ?epoch/s]\u001b[A\n",
      "Epoch-Iteration:  17%|█▋        | 1/6 [01:30<07:34, 90.93s/epoch]\u001b[A\n",
      "Epoch-Iteration:  33%|███▎      | 2/6 [02:59<05:57, 89.37s/epoch]\u001b[A\n",
      "Epoch-Iteration:  50%|█████     | 3/6 [04:27<04:27, 89.03s/epoch]\u001b[A\n",
      "Epoch-Iteration:  67%|██████▋   | 4/6 [05:55<02:56, 88.34s/epoch]\u001b[A\n",
      "Epoch-Iteration:  83%|████████▎ | 5/6 [07:25<01:28, 89.00s/epoch]\u001b[A\n",
      "Epoch-Iteration: 100%|██████████| 6/6 [08:53<00:00, 88.95s/epoch]\u001b[A\n",
      "Fold-Iteration:  80%|████████  | 4/5 [37:48<09:23, 563.83s/fold]/users/tmandelz/.local/share/virtualenvs/tierli_ahluege-KocqYYbw/lib/python3.9/site-packages/torchvision/models/_utils.py:223: UserWarning: Arguments other than a weight enum or `None` for 'weights' are deprecated since 0.13 and may be removed in the future. The current behavior is equivalent to passing `weights=ResNet50_Weights.IMAGENET1K_V1`. You can also use `weights=ResNet50_Weights.DEFAULT` to get the most up-to-date weights.\n",
      "  warnings.warn(msg)\n",
      "\n",
      "Epoch-Iteration:   0%|          | 0/6 [00:00<?, ?epoch/s]\u001b[A\n",
      "Epoch-Iteration:  17%|█▋        | 1/6 [01:29<07:28, 89.77s/epoch]\u001b[A\n",
      "Epoch-Iteration:  33%|███▎      | 2/6 [02:59<05:59, 89.77s/epoch]\u001b[A\n",
      "Epoch-Iteration:  50%|█████     | 3/6 [04:28<04:28, 89.60s/epoch]\u001b[A\n",
      "Epoch-Iteration:  67%|██████▋   | 4/6 [05:58<02:58, 89.39s/epoch]\u001b[A\n",
      "Epoch-Iteration:  83%|████████▎ | 5/6 [07:28<01:29, 89.64s/epoch]\u001b[A\n",
      "Epoch-Iteration: 100%|██████████| 6/6 [08:57<00:00, 89.53s/epoch]\u001b[A\n",
      "Fold-Iteration: 100%|██████████| 5/5 [47:01<00:00, 564.36s/fold]\n"
     ]
    }
   ],
   "source": [
    "# %%\n",
    "resnet = CCV1_Trainer(DataModule(resnet_transformer), resnet50_)\n",
    "resnet.train_model(\"resnet without augmentation\", \"resnet\", num_epochs=6,\n",
    "                   cross_validation=True, test_model=False, batchsize_train_data=128)"
   ]
  },
  {
   "cell_type": "code",
   "execution_count": 4,
   "id": "72d734c1-0333-4fa0-9a8b-f28995b58991",
   "metadata": {},
   "outputs": [
    {
     "name": "stderr",
     "output_type": "stream",
     "text": [
      "Fold-Iteration:   0%|          | 0/1 [00:00<?, ?fold/s]/users/tmandelz/.local/share/virtualenvs/tierli_ahluege-KocqYYbw/lib/python3.9/site-packages/torchvision/models/_utils.py:223: UserWarning: Arguments other than a weight enum or `None` for 'weights' are deprecated since 0.13 and may be removed in the future. The current behavior is equivalent to passing `weights=ResNet50_Weights.IMAGENET1K_V1`. You can also use `weights=ResNet50_Weights.DEFAULT` to get the most up-to-date weights.\n",
      "  warnings.warn(msg)\n",
      "\n",
      "Epoch-Iteration:   0%|          | 0/6 [00:00<?, ?epoch/s]\u001b[A\n",
      "Epoch-Iteration:  17%|█▋        | 1/6 [01:35<07:56, 95.35s/epoch]\u001b[A\n",
      "Epoch-Iteration:  33%|███▎      | 2/6 [03:06<06:11, 92.86s/epoch]\u001b[A\n",
      "Epoch-Iteration:  50%|█████     | 3/6 [04:36<04:35, 91.78s/epoch]\u001b[A\n",
      "Epoch-Iteration:  67%|██████▋   | 4/6 [06:08<03:03, 91.53s/epoch]\u001b[A\n",
      "Epoch-Iteration:  83%|████████▎ | 5/6 [07:38<01:31, 91.16s/epoch]\u001b[A\n",
      "Epoch-Iteration: 100%|██████████| 6/6 [09:09<00:00, 91.50s/epoch]\u001b[A\n",
      "Fold-Iteration: 100%|██████████| 1/1 [09:25<00:00, 565.37s/fold]\n"
     ]
    }
   ],
   "source": [
    "\n",
    "resnet_transformer = CCV1Transformer(\n",
    "    transforms.Compose([transforms.RandomRotation(20)]\n",
    "                       ), \"model_specific\", \"resnet\"\n",
    ").getCompose()\n",
    "resnet = CCV1_Trainer(DataModule(resnet_transformer), resnet50_)\n",
    "resnet.train_model(\"resnet with rotation (20)\", \"resnet\",\n",
    "                   num_epochs=6, cross_validation=False, batchsize_train_data=128)"
   ]
  },
  {
   "cell_type": "code",
   "execution_count": 5,
   "id": "2b81aae5-194e-4c81-a289-c727fb4fe4a9",
   "metadata": {},
   "outputs": [
    {
     "name": "stderr",
     "output_type": "stream",
     "text": [
      "Fold-Iteration:   0%|          | 0/1 [00:00<?, ?fold/s]/users/tmandelz/.local/share/virtualenvs/tierli_ahluege-KocqYYbw/lib/python3.9/site-packages/torchvision/models/_utils.py:223: UserWarning: Arguments other than a weight enum or `None` for 'weights' are deprecated since 0.13 and may be removed in the future. The current behavior is equivalent to passing `weights=ResNet50_Weights.IMAGENET1K_V1`. You can also use `weights=ResNet50_Weights.DEFAULT` to get the most up-to-date weights.\n",
      "  warnings.warn(msg)\n",
      "\n",
      "Epoch-Iteration:   0%|          | 0/6 [00:00<?, ?epoch/s]\u001b[A\n",
      "Epoch-Iteration:  17%|█▋        | 1/6 [01:26<07:14, 86.97s/epoch]\u001b[A\n",
      "Epoch-Iteration:  33%|███▎      | 2/6 [02:54<05:48, 87.05s/epoch]\u001b[A\n",
      "Epoch-Iteration:  50%|█████     | 3/6 [04:21<04:21, 87.14s/epoch]\u001b[A\n",
      "Epoch-Iteration:  67%|██████▋   | 4/6 [05:48<02:54, 87.01s/epoch]\u001b[A\n",
      "Epoch-Iteration:  83%|████████▎ | 5/6 [07:15<01:27, 87.02s/epoch]\u001b[A\n",
      "Epoch-Iteration: 100%|██████████| 6/6 [08:42<00:00, 87.09s/epoch]\u001b[A\n",
      "Fold-Iteration: 100%|██████████| 1/1 [08:59<00:00, 539.27s/fold]\n"
     ]
    }
   ],
   "source": [
    "# %%\n",
    "resnet_transformer = CCV1Transformer(\n",
    "    transforms.Compose([transforms.RandomHorizontalFlip()]\n",
    "                       ), \"model_specific\", \"resnet\"\n",
    ").getCompose()\n",
    "resnet = CCV1_Trainer(DataModule(resnet_transformer), resnet50_)\n",
    "resnet.train_model(\"resnet with horizontal flip\", \"resnet\",\n",
    "                   num_epochs=6, cross_validation=False, batchsize_train_data=128)\n",
    "\n"
   ]
  },
  {
   "cell_type": "code",
   "execution_count": 6,
   "id": "a91abdde-f481-46f1-9eb0-1d54c87d213c",
   "metadata": {},
   "outputs": [
    {
     "name": "stderr",
     "output_type": "stream",
     "text": [
      "Fold-Iteration:   0%|          | 0/1 [00:00<?, ?fold/s]/users/tmandelz/.local/share/virtualenvs/tierli_ahluege-KocqYYbw/lib/python3.9/site-packages/torchvision/models/_utils.py:223: UserWarning: Arguments other than a weight enum or `None` for 'weights' are deprecated since 0.13 and may be removed in the future. The current behavior is equivalent to passing `weights=ResNet50_Weights.IMAGENET1K_V1`. You can also use `weights=ResNet50_Weights.DEFAULT` to get the most up-to-date weights.\n",
      "  warnings.warn(msg)\n",
      "\n",
      "Epoch-Iteration:   0%|          | 0/6 [00:00<?, ?epoch/s]\u001b[A\n",
      "Epoch-Iteration:  17%|█▋        | 1/6 [01:31<07:35, 91.10s/epoch]\u001b[A\n",
      "Epoch-Iteration:  33%|███▎      | 2/6 [03:02<06:04, 91.04s/epoch]\u001b[A\n",
      "Epoch-Iteration:  50%|█████     | 3/6 [04:33<04:32, 90.98s/epoch]\u001b[A\n",
      "Epoch-Iteration:  67%|██████▋   | 4/6 [06:03<03:01, 90.84s/epoch]\u001b[A\n",
      "Epoch-Iteration:  83%|████████▎ | 5/6 [07:32<01:30, 90.28s/epoch]\u001b[A\n",
      "Epoch-Iteration: 100%|██████████| 6/6 [09:07<00:00, 91.23s/epoch]\u001b[A\n",
      "Fold-Iteration: 100%|██████████| 1/1 [09:23<00:00, 563.11s/fold]\n"
     ]
    }
   ],
   "source": [
    "# %%\n",
    "\n",
    "resnet_transformer = CCV1Transformer(\n",
    "    transforms.Compose([transforms.RandomPerspective()]\n",
    "                       ), \"model_specific\", \"resnet\"\n",
    ").getCompose()\n",
    "resnet = CCV1_Trainer(DataModule(resnet_transformer), resnet50_)\n",
    "resnet.train_model(\"resnet with random perspective\", \"resnet\",\n",
    "                   num_epochs=6, cross_validation=False, batchsize_train_data=128)\n"
   ]
  },
  {
   "cell_type": "code",
   "execution_count": 7,
   "id": "d056c0c0-f9cc-449e-a38b-393fcaa955c1",
   "metadata": {},
   "outputs": [
    {
     "name": "stderr",
     "output_type": "stream",
     "text": [
      "Fold-Iteration:   0%|          | 0/1 [00:00<?, ?fold/s]/users/tmandelz/.local/share/virtualenvs/tierli_ahluege-KocqYYbw/lib/python3.9/site-packages/torchvision/models/_utils.py:223: UserWarning: Arguments other than a weight enum or `None` for 'weights' are deprecated since 0.13 and may be removed in the future. The current behavior is equivalent to passing `weights=ResNet50_Weights.IMAGENET1K_V1`. You can also use `weights=ResNet50_Weights.DEFAULT` to get the most up-to-date weights.\n",
      "  warnings.warn(msg)\n",
      "\n",
      "Epoch-Iteration:   0%|          | 0/6 [00:00<?, ?epoch/s]\u001b[A\n",
      "Epoch-Iteration:  17%|█▋        | 1/6 [01:31<07:38, 91.74s/epoch]\u001b[A\n",
      "Epoch-Iteration:  33%|███▎      | 2/6 [03:01<06:01, 90.48s/epoch]\u001b[A\n",
      "Epoch-Iteration:  50%|█████     | 3/6 [04:30<04:29, 89.84s/epoch]\u001b[A\n",
      "Epoch-Iteration:  67%|██████▋   | 4/6 [06:00<02:59, 89.86s/epoch]\u001b[A\n",
      "Epoch-Iteration:  83%|████████▎ | 5/6 [07:30<01:29, 89.99s/epoch]\u001b[A\n",
      "Epoch-Iteration: 100%|██████████| 6/6 [09:00<00:00, 90.07s/epoch]\u001b[A\n",
      "Fold-Iteration: 100%|██████████| 1/1 [09:17<00:00, 557.83s/fold]\n"
     ]
    }
   ],
   "source": [
    "\n",
    "# %%\n",
    "resnet_transformer = CCV1Transformer(\n",
    "    transforms.Compose([transforms.ColorJitter(\n",
    "        brightness=0.05)]), \"model_specific\", \"resnet\"\n",
    ").getCompose()\n",
    "resnet = CCV1_Trainer(DataModule(resnet_transformer), resnet50_)\n",
    "resnet.train_model(\"resnet with color brightness 0.05\", \"resnet\",\n",
    "                   num_epochs=6, cross_validation=False, batchsize_train_data=128)\n"
   ]
  },
  {
   "cell_type": "code",
   "execution_count": 8,
   "id": "3cf93b6d-2fcd-4d80-895b-7a56350dc8ad",
   "metadata": {},
   "outputs": [
    {
     "name": "stderr",
     "output_type": "stream",
     "text": [
      "Fold-Iteration:   0%|          | 0/1 [00:00<?, ?fold/s]/users/tmandelz/.local/share/virtualenvs/tierli_ahluege-KocqYYbw/lib/python3.9/site-packages/torchvision/models/_utils.py:223: UserWarning: Arguments other than a weight enum or `None` for 'weights' are deprecated since 0.13 and may be removed in the future. The current behavior is equivalent to passing `weights=ResNet50_Weights.IMAGENET1K_V1`. You can also use `weights=ResNet50_Weights.DEFAULT` to get the most up-to-date weights.\n",
      "  warnings.warn(msg)\n",
      "\n",
      "Epoch-Iteration:   0%|          | 0/8 [00:00<?, ?epoch/s]\u001b[A\n",
      "Epoch-Iteration:  12%|█▎        | 1/8 [03:05<21:39, 185.63s/epoch]\u001b[A\n",
      "Epoch-Iteration:  25%|██▌       | 2/8 [06:09<18:29, 184.84s/epoch]\u001b[A\n",
      "Epoch-Iteration:  38%|███▊      | 3/8 [09:16<15:27, 185.42s/epoch]\u001b[A\n",
      "Epoch-Iteration:  50%|█████     | 4/8 [12:20<12:19, 184.95s/epoch]\u001b[A\n",
      "Epoch-Iteration:  62%|██████▎   | 5/8 [15:23<09:13, 184.37s/epoch]\u001b[A\n",
      "Epoch-Iteration:  75%|███████▌  | 6/8 [18:26<06:07, 183.88s/epoch]\u001b[A\n",
      "Epoch-Iteration:  88%|████████▊ | 7/8 [21:32<03:04, 184.70s/epoch]\u001b[A\n",
      "Epoch-Iteration: 100%|██████████| 8/8 [24:38<00:00, 184.82s/epoch]\u001b[A\n",
      "Fold-Iteration: 100%|██████████| 1/1 [24:56<00:00, 1496.36s/fold]\n"
     ]
    }
   ],
   "source": [
    "\n",
    "# %%\n",
    "resnet_transformer = CCV1Transformer(\n",
    "    transforms.Compose([transforms.AugMix()]), \"model_specific\", \"resnet\"\n",
    ").getCompose(True)\n",
    "resnet = CCV1_Trainer(DataModule(resnet_transformer), resnet50_)\n",
    "resnet.train_model(\"resnet with augmix\", \"resnet\", num_epochs=8,\n",
    "                   cross_validation=False, batchsize_train_data=128)\n",
    "\n"
   ]
  },
  {
   "cell_type": "code",
   "execution_count": 9,
   "id": "0d81cb87-5a9a-4ed9-a586-e8a4506ce913",
   "metadata": {},
   "outputs": [
    {
     "name": "stderr",
     "output_type": "stream",
     "text": [
      "Fold-Iteration:   0%|          | 0/1 [00:00<?, ?fold/s]/users/tmandelz/.local/share/virtualenvs/tierli_ahluege-KocqYYbw/lib/python3.9/site-packages/torchvision/models/_utils.py:223: UserWarning: Arguments other than a weight enum or `None` for 'weights' are deprecated since 0.13 and may be removed in the future. The current behavior is equivalent to passing `weights=ResNet50_Weights.IMAGENET1K_V1`. You can also use `weights=ResNet50_Weights.DEFAULT` to get the most up-to-date weights.\n",
      "  warnings.warn(msg)\n",
      "\n",
      "Epoch-Iteration:   0%|          | 0/12 [00:00<?, ?epoch/s]\u001b[A\n",
      "Epoch-Iteration:   8%|▊         | 1/12 [04:25<48:43, 265.79s/epoch]\u001b[A\n",
      "Epoch-Iteration:  17%|█▋        | 2/12 [08:39<43:05, 258.53s/epoch]\u001b[A\n",
      "Epoch-Iteration:  25%|██▌       | 3/12 [12:45<37:54, 252.73s/epoch]\u001b[A\n",
      "Epoch-Iteration:  33%|███▎      | 4/12 [16:51<33:21, 250.21s/epoch]\u001b[A\n",
      "Epoch-Iteration:  42%|████▏     | 5/12 [20:52<28:49, 247.01s/epoch]\u001b[A\n",
      "Epoch-Iteration:  50%|█████     | 6/12 [25:10<25:03, 250.56s/epoch]\u001b[A\n",
      "Epoch-Iteration:  58%|█████▊    | 7/12 [29:14<20:41, 248.39s/epoch]\u001b[A\n",
      "Epoch-Iteration:  67%|██████▋   | 8/12 [33:16<16:25, 246.42s/epoch]\u001b[A\n",
      "Epoch-Iteration:  75%|███████▌  | 9/12 [37:19<12:15, 245.32s/epoch]\u001b[A\n",
      "Epoch-Iteration:  83%|████████▎ | 10/12 [41:17<08:05, 243.00s/epoch]\u001b[A\n",
      "Epoch-Iteration:  92%|█████████▏| 11/12 [45:13<04:01, 241.07s/epoch]\u001b[A\n",
      "Epoch-Iteration: 100%|██████████| 12/12 [49:10<00:00, 245.89s/epoch]\u001b[A\n",
      "Fold-Iteration: 100%|██████████| 1/1 [49:27<00:00, 2967.87s/fold]\n"
     ]
    }
   ],
   "source": [
    "# %%\n",
    "resnet_transformer = CCV1Transformer(\n",
    "    transforms.Compose([transforms.RandomRotation(20),\n",
    "                        transforms.RandomHorizontalFlip(),\n",
    "                        transforms.RandomPerspective()]), \"model_specific\", \"resnet\"\n",
    ").getCompose(True)\n",
    "\n",
    "resnet = CCV1_Trainer(DataModule(resnet_transformer), resnet50_)\n",
    "resnet.train_model(\"resnet_augment_combi\", \"resnet\", num_epochs=12, cross_validation=False,\n",
    "                   batchsize_train_data=32, num_workers=0)\n",
    "\n"
   ]
  },
  {
   "cell_type": "code",
   "execution_count": null,
   "id": "be9de12d-af3d-465a-9655-c9c8657d5a70",
   "metadata": {},
   "outputs": [
    {
     "name": "stderr",
     "output_type": "stream",
     "text": [
      "Fold-Iteration:   0%|          | 0/1 [00:00<?, ?fold/s]/users/tmandelz/.local/share/virtualenvs/tierli_ahluege-KocqYYbw/lib/python3.9/site-packages/torchvision/models/_utils.py:223: UserWarning: Arguments other than a weight enum or `None` for 'weights' are deprecated since 0.13 and may be removed in the future. The current behavior is equivalent to passing `weights=ResNet50_Weights.IMAGENET1K_V1`. You can also use `weights=ResNet50_Weights.DEFAULT` to get the most up-to-date weights.\n",
      "  warnings.warn(msg)\n",
      "\n",
      "Epoch-Iteration:   0%|          | 0/6 [00:00<?, ?epoch/s]\u001b[A"
     ]
    }
   ],
   "source": [
    "# %%\n",
    "resnet_transformer = CCV1Transformer(\n",
    "    transforms.Compose([transforms.RandomRotation(20),\n",
    "                        transforms.RandomHorizontalFlip(),\n",
    "                        transforms.RandomPerspective(),\n",
    "                        transforms.ColorJitter(\n",
    "                            brightness=0.05, contrast=0.3, saturation=0.3, hue=0.3)\n",
    "                        ]), \"model_specific\", \"resnet\"\n",
    ").getCompose(True)\n",
    "\n",
    "resnet = CCV1_Trainer(DataModule(resnet_transformer), resnet50_)\n",
    "resnet.train_model(\"resnet_augment_combi_all\", \"resnet\", num_epochs=6, cross_validation=False,\n",
    "                   batchsize_train_data=128, num_workers=0)"
   ]
  },
  {
   "cell_type": "code",
   "execution_count": null,
   "id": "c5b5f1ab-f8a1-4388-9c45-6111f77c9a9f",
   "metadata": {},
   "outputs": [],
   "source": [
    "\n",
    "# %%\n",
    "\n",
    "\n",
    "def resnet50_3():\n",
    "    model = models.resnet50(weights=True)\n",
    "    model.fc = nn.Sequential(\n",
    "        # dense layer takes a 2048-dim input and outputs 100-dim\n",
    "        nn.Linear(2048, 512),\n",
    "        nn.ReLU(inplace=True),  # ReLU activation introduces non-linearity\n",
    "        nn.Dropout(0.1),  # common technique to mitigate overfitting\n",
    "        # final dense layer outputs 8-dim corresponding to our target classes\n",
    "        nn.Linear(512, 128),\n",
    "        nn.ReLU(inplace=True),  # ReLU activation introduces non-linearity\n",
    "        nn.Dropout(0.1),  # common technique to mitigate overfitting\n",
    "        nn.Linear(128, 8)\n",
    "    )\n",
    "    return model\n",
    "\n",
    "\n",
    "# %%\n",
    "resnet_transformer = CCV1Transformer(\n",
    "    transforms.Compose([transforms.RandomRotation(20),\n",
    "                        transforms.RandomHorizontalFlip(),\n",
    "                        transforms.RandomPerspective(),\n",
    "                        ]), \"model_specific\", \"resnet\"\n",
    ").getCompose(True)\n",
    "\n",
    "resnet = CCV1_Trainer(DataModule(resnet_transformer), resnet50_3)\n",
    "resnet.train_model(\"resnet_augment_combi_thirdlayer\", \"resnet\", num_epochs=6, cross_validation=True,\n",
    "                   batchsize_train_data=128, num_workers=0)"
   ]
  },
  {
   "cell_type": "code",
   "execution_count": null,
   "id": "a25d11bf-a52d-426a-a9ab-f386919d94d5",
   "metadata": {},
   "outputs": [],
   "source": []
  }
 ],
 "metadata": {
  "kernelspec": {
   "display_name": "ccv1",
   "language": "python",
   "name": "ccv1"
  },
  "language_info": {
   "codemirror_mode": {
    "name": "ipython",
    "version": 3
   },
   "file_extension": ".py",
   "mimetype": "text/x-python",
   "name": "python",
   "nbconvert_exporter": "python",
   "pygments_lexer": "ipython3",
   "version": "3.9.4"
  }
 },
 "nbformat": 4,
 "nbformat_minor": 5
}
