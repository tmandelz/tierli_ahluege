{
 "cells": [
  {
   "attachments": {},
   "cell_type": "markdown",
   "metadata": {},
   "source": [
    "Challenge: ccv1  \n",
    "# Deep Learning: Was versteckt sich da?  \n",
    "# CSV mit Bounding Boxen erstellen\n",
    "In diesem Notebook werden die Megadetector Json Daten nach den Erkenntnissen im Notebook `eda_megadetector_json` bereinigt und CSV-Files mit den zugehörigen Bounding Boxen erzeugt."
   ]
  },
  {
   "cell_type": "code",
   "execution_count": null,
   "metadata": {},
   "outputs": [],
   "source": [
    "import json\n",
    "import ast\n",
    "import random\n",
    "import pandas as pd\n",
    "import numpy as np\n",
    "import matplotlib.pyplot as plt\n",
    "import matplotlib.image as mpimg\n",
    "import torchvision.transforms as transforms\n",
    "from PIL import Image"
   ]
  },
  {
   "cell_type": "code",
   "execution_count": null,
   "metadata": {},
   "outputs": [],
   "source": [
    "save_csv_file = False"
   ]
  },
  {
   "attachments": {},
   "cell_type": "markdown",
   "metadata": {},
   "source": [
    "## Daten bereinigen"
   ]
  },
  {
   "cell_type": "code",
   "execution_count": null,
   "metadata": {},
   "outputs": [],
   "source": [
    "def read_megadetector_json(path_json:str = 'train_features_output.json'):\n",
    "    mega_json = json.load(open(path_json))\n",
    "\n",
    "    df_images = pd.DataFrame(mega_json[\"images\"])\n",
    "    df_images = df_images.reset_index(drop=True)\n",
    "    return df_images\n",
    "\n",
    "\n",
    "def transform_bbox(image=None, normalized_bbox=None, image_size:int=None):\n",
    "    image_width, image_height = image.size\n",
    "        \n",
    "    x, y, width, height = normalized_bbox\n",
    "    remove_bbox_xy = 4\n",
    "    remove_bbox_wh = remove_bbox_xy * 2\n",
    "\n",
    "    x = int(np.round(x * image_width, 0)) + remove_bbox_xy\n",
    "    y = int(np.round(y * image_height, 0)) + remove_bbox_xy\n",
    "    width = int(np.round(width * image_width, 0)) - remove_bbox_wh\n",
    "    height = int(np.round(height * image_height, 0)) - remove_bbox_wh\n",
    "    return y, x, height, width\n",
    "\n",
    "\n",
    "def get_correct_box(df, train_data):\n",
    "    bbox_transformed = []\n",
    "    if train_data: \n",
    "        data_path = r\"../competition_data/train_features/\"\n",
    "    else:\n",
    "        data_path = r\"../competition_data/test_features/\"\n",
    "\n",
    "    for image_name in df.index:\n",
    "        if df.loc[image_name][\"bbox_true\"]:\n",
    "            path = data_path + df.loc[image_name][\"file\"]\n",
    "            image = Image.open(path).convert(\"RGB\")\n",
    "\n",
    "            normalized_bbox = df.loc[image_name]['bbox_normalized']\n",
    "            bbox_transformed.append(transform_bbox(image=image, normalized_bbox=normalized_bbox))\n",
    "        else:\n",
    "            bbox_transformed.append(pd.NA)\n",
    "\n",
    "    df['bbox'] = bbox_transformed\n",
    "    return df\n",
    "\n",
    "\n",
    "def get_clean_dataframe_from_json(path_json, save_csv=False, file_name='', train_data=True):\n",
    "    '''\n",
    "    filter: filters bbox below threshold if true\n",
    "    '''\n",
    "\n",
    "    df_images = read_megadetector_json(path_json)\n",
    "    dict_detection_cat = {'1': 'animal', '2': 'person', '3': 'vehicle'}\n",
    "\n",
    "    df_images_detections = df_images['detections'].apply(pd.Series, dtype='object')\n",
    "    #display(df_images_detections.head(2))\n",
    "\n",
    "    df_images_clean = df_images.merge(df_images_detections, left_index=True, right_index=True).drop(columns='detections')\n",
    "    #display(df_images_clean.head(2))\n",
    "\n",
    "    df_images_clean = df_images_clean.melt(id_vars=['file', 'max_detection_conf']).sort_values('file')\n",
    "    #display(df_images_clean)\n",
    "\n",
    "    # remove nan values \n",
    "    df_images_clean = df_images_clean.dropna(subset='value')\n",
    "    df_images_clean = df_images_clean.drop(columns='variable')\n",
    "\n",
    "    # expand category, conf, bbox\n",
    "    df_cat_conf_bbox = df_images_clean['value'].apply(pd.Series, dtype='object')\n",
    "    df_images_clean = df_images_clean.merge(df_cat_conf_bbox, left_index=True, right_index=True).drop(columns='value')\n",
    "\n",
    "    # take only detections for max detection conf\n",
    "    df_images_clean = df_images_clean[df_images_clean['max_detection_conf'] == df_images_clean['conf']]\n",
    "    df_images_clean = df_images_clean.reset_index(drop=True)\n",
    "\n",
    "    # leftjoin clean data\n",
    "    df_images_clean = pd.merge(df_images['file'], df_images_clean, on='file', how='left')\n",
    "\n",
    "\n",
    "    # cast datatypes\n",
    "    df_images_clean['category'] = df_images_clean['category'].astype('category')\n",
    "    df_images_clean['category'] = df_images_clean['category'].replace(dict_detection_cat)\n",
    "\n",
    "    # change index to image name\n",
    "    df_images_clean['image_name'] = [image.replace('.jpg', '') for image in df_images_clean['file']]\n",
    "    df_images_clean.index = df_images_clean['image_name']\n",
    "    df_images_clean = df_images_clean.drop(columns='image_name')\n",
    "\n",
    "    # remove duplicates\n",
    "    df_images_clean = df_images_clean[df_images_clean.index.duplicated() == False]\n",
    "\n",
    "    # bbox\n",
    "    df_images_clean['bbox_normalized'] = df_images_clean['bbox']\n",
    "    df_images_clean['bbox_true'] = df_images_clean['bbox_normalized'].notnull()\n",
    "\n",
    "    # transform bbox\n",
    "    df_images_clean = get_correct_box(df_images_clean, train_data)\n",
    "            \n",
    "    if save_csv: df_images_clean.to_csv(f'{file_name}.csv')\n",
    "\n",
    "    return df_images_clean\n",
    "\n",
    "def get_csv_file(path_json, merge_csv='../competition_data/train_features_with_split.csv', save_csv=False, file_name='', train_data=True):\n",
    "    df_images_clean = get_clean_dataframe_from_json(path_json=path_json, train_data=train_data)\n",
    "    df_merge = pd.read_csv(merge_csv, index_col='id')\n",
    "\n",
    "    df_combined = df_merge.merge(df_images_clean, left_index=True, right_index=True, how='left')\n",
    "    df_combined = df_combined.drop(columns=['file', 'max_detection_conf', 'category'])\n",
    "    if save_csv: df_combined.to_csv(f'{file_name}.csv')\n",
    "\n",
    "    return df_combined\n",
    "\n",
    "def crop_image_to_normalized_bbox(image, normalized_bbox):\n",
    "    y, x, height, width = transform_bbox(image, normalized_bbox)\n",
    "    image_tensor = transforms.ToTensor()(image)\n",
    "    return transforms.ToPILImage()((transforms.functional.crop(image_tensor,y,x,height,width)))\n",
    "\n",
    "def crop_image_to_bbox(image, bbox):\n",
    "    y, x, height, width = bbox\n",
    "    image_tensor = transforms.ToTensor()(image)\n",
    "    return transforms.ToPILImage()((transforms.functional.crop(image_tensor,y,x,height,width)))\n"
   ]
  },
  {
   "attachments": {},
   "cell_type": "markdown",
   "metadata": {},
   "source": [
    "## Trainfeatures CSV"
   ]
  },
  {
   "cell_type": "code",
   "execution_count": null,
   "metadata": {},
   "outputs": [],
   "source": [
    "df_trainfeatures_megadet_bbox = get_csv_file(path_json='train_features_output.json', \n",
    "                                            save_csv=save_csv_file, \n",
    "                                            file_name='../competition_data/trainfeatures_megadet_bbox_split')\n",
    "df_trainfeatures_megadet_bbox"
   ]
  },
  {
   "attachments": {},
   "cell_type": "markdown",
   "metadata": {},
   "source": [
    "## Testfeatures CSV"
   ]
  },
  {
   "cell_type": "code",
   "execution_count": null,
   "metadata": {},
   "outputs": [],
   "source": [
    "df_testfeatures_megadet_bbox = get_csv_file(path_json='test_features_output.json',\n",
    "                                            merge_csv='../competition_data/test_features.csv', \n",
    "                                            save_csv=save_csv_file, \n",
    "                                            file_name='../competition_data/testfeatures_megadet_bbox',\n",
    "                                            train_data=False)\n",
    "df_testfeatures_megadet_bbox"
   ]
  },
  {
   "attachments": {},
   "cell_type": "markdown",
   "metadata": {},
   "source": [
    "## Test Crop Bilder"
   ]
  },
  {
   "attachments": {},
   "cell_type": "markdown",
   "metadata": {},
   "source": [
    "Train Daten"
   ]
  },
  {
   "cell_type": "code",
   "execution_count": null,
   "metadata": {},
   "outputs": [],
   "source": [
    "id = 16102\n",
    "\n",
    "df_train = pd.read_csv('../competition_data/trainfeatures_megadet_bbox_split.csv')\n",
    "\n",
    "path = r\"../competition_data/\" + df_train.iloc[id][\"filepath\"]\n",
    "image = Image.open(path).convert(\"RGB\")\n",
    "normalized_bbox = ast.literal_eval(df_train.iloc[id]['bbox_normalized'])\n",
    "bbox = ast.literal_eval(df_train.iloc[id]['bbox'])\n",
    "\n",
    "cropped_image = crop_image_to_bbox(image, bbox)\n",
    "cropped_image_norm = crop_image_to_normalized_bbox(image, normalized_bbox)\n",
    "\n",
    "display(image)\n",
    "display(cropped_image)\n",
    "display(cropped_image_norm)"
   ]
  },
  {
   "attachments": {},
   "cell_type": "markdown",
   "metadata": {},
   "source": [
    "Test Daten"
   ]
  },
  {
   "cell_type": "code",
   "execution_count": null,
   "metadata": {},
   "outputs": [],
   "source": [
    "id = 512\n",
    "\n",
    "df_train = pd.read_csv('../competition_data/testfeatures_megadet_bbox.csv')\n",
    "\n",
    "path = r\"../competition_data/\" + df_train.iloc[id][\"filepath\"]\n",
    "image = Image.open(path).convert(\"RGB\")\n",
    "normalized_bbox = ast.literal_eval(df_train.iloc[id]['bbox_normalized'])\n",
    "bbox = ast.literal_eval(df_train.iloc[id]['bbox'])\n",
    "\n",
    "cropped_image = crop_image_to_bbox(image, bbox)\n",
    "cropped_image_norm = crop_image_to_normalized_bbox(image, normalized_bbox)\n",
    "\n",
    "display(image)\n",
    "display(cropped_image)\n",
    "display(cropped_image_norm)"
   ]
  }
 ],
 "metadata": {
  "kernelspec": {
   "display_name": "tierli_ahluege-kxyn7EyL",
   "language": "python",
   "name": "python3"
  },
  "language_info": {
   "codemirror_mode": {
    "name": "ipython",
    "version": 3
   },
   "file_extension": ".py",
   "mimetype": "text/x-python",
   "name": "python",
   "nbconvert_exporter": "python",
   "pygments_lexer": "ipython3",
   "version": "3.10.7"
  },
  "orig_nbformat": 4
 },
 "nbformat": 4,
 "nbformat_minor": 2
}
