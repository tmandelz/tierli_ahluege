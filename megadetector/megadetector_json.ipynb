{
 "cells": [
  {
   "cell_type": "code",
   "execution_count": null,
   "metadata": {},
   "outputs": [],
   "source": [
    "import json\n",
    "import random\n",
    "import pandas as pd\n",
    "import matplotlib.pyplot as plt\n",
    "import matplotlib.image as mpimg"
   ]
  },
  {
   "cell_type": "code",
   "execution_count": null,
   "metadata": {},
   "outputs": [],
   "source": [
    "conf_threshold = 0.6\n",
    "save_csv = True"
   ]
  },
  {
   "attachments": {},
   "cell_type": "markdown",
   "metadata": {},
   "source": [
    "# Json Daten Megedetectron lesen"
   ]
  },
  {
   "cell_type": "code",
   "execution_count": null,
   "metadata": {},
   "outputs": [],
   "source": [
    "train_features_label = pd.read_csv(\"../eda/train_features_label.csv\", index_col='id')\n",
    "\n",
    "mega_json = json.load(open('train_features_output.json'))\n",
    "mega_json.keys()"
   ]
  },
  {
   "cell_type": "code",
   "execution_count": null,
   "metadata": {},
   "outputs": [],
   "source": [
    "dict_detection_cat = mega_json['detection_categories']\n",
    "dict_detection_cat"
   ]
  },
  {
   "cell_type": "code",
   "execution_count": null,
   "metadata": {},
   "outputs": [],
   "source": [
    "mega_detector_info = mega_json['info']\n",
    "mega_detector_info"
   ]
  },
  {
   "cell_type": "code",
   "execution_count": null,
   "metadata": {},
   "outputs": [],
   "source": [
    "df_images = pd.DataFrame(mega_json[\"images\"])\n",
    "df_images = df_images.reset_index(drop=True)\n",
    "df_images"
   ]
  },
  {
   "cell_type": "code",
   "execution_count": null,
   "metadata": {},
   "outputs": [],
   "source": [
    "# several bbox per image possible\n",
    "df_images['detections'][0]"
   ]
  },
  {
   "attachments": {},
   "cell_type": "markdown",
   "metadata": {},
   "source": [
    "# Daten in geeignetes Format bringen"
   ]
  },
  {
   "cell_type": "code",
   "execution_count": null,
   "metadata": {},
   "outputs": [],
   "source": [
    "df_images_detections = df_images['detections'].apply(pd.Series, dtype='object')\n",
    "#display(df_images_detections.head(2))\n",
    "\n",
    "df_images_clean = df_images.merge(df_images_detections, left_index=True, right_index=True).drop(columns='detections')\n",
    "#display(df_images_clean.head(2))\n",
    "\n",
    "df_images_clean = df_images_clean.melt(id_vars=['file', 'max_detection_conf']).sort_values('file')\n",
    "#display(df_images_clean)\n",
    "\n",
    "# remove nan values \n",
    "df_images_clean = df_images_clean.dropna(subset='value')\n",
    "df_images_clean = df_images_clean.drop(columns='variable')\n",
    "\n",
    "# expand category, conf, bbox\n",
    "df_cat_conf_bbox = df_images_clean['value'].apply(pd.Series, dtype='object')\n",
    "df_images_clean = df_images_clean.merge(df_cat_conf_bbox, left_index=True, right_index=True).drop(columns='value')\n",
    "\n",
    "# take only detections for max detection conf\n",
    "df_images_clean = df_images_clean[df_images_clean['max_detection_conf'] == df_images_clean['conf']]\n",
    "df_images_clean = df_images_clean.reset_index(drop=True)\n",
    "\n",
    "# leftjoin clean data\n",
    "df_images_clean = pd.merge(df_images['file'], df_images_clean, on='file', how='left')\n",
    "\n",
    "# cast datatypes\n",
    "df_images_clean['category'] = df_images_clean['category'].astype('category')\n",
    "df_images_clean['category'] = df_images_clean['category'].replace(dict_detection_cat)\n",
    "df_images_clean\n",
    "\n",
    "# change index to image name\n",
    "df_images_clean['image_name'] = [image.replace('.jpg', '') for image in df_images_clean['file']]\n",
    "df_images_clean.index = df_images_clean['image_name']\n",
    "df_images_clean = df_images_clean.drop(columns='image_name')\n",
    "df_images_clean\n",
    "\n",
    "# boolean column for usefull detection\n",
    "df_images_clean['conf_th'] = df_images_clean['max_detection_conf'] > conf_threshold\n",
    "display(df_images_clean)\n",
    "\n",
    "if save_csv: df_images_clean.to_csv('megadetector_image_detection_bbox.csv')"
   ]
  },
  {
   "attachments": {},
   "cell_type": "markdown",
   "metadata": {},
   "source": [
    "Unterschiedliche Shapes zwischen `df_images` und `df_images_clean` -> `16488` und `16491` ?"
   ]
  },
  {
   "cell_type": "code",
   "execution_count": null,
   "metadata": {},
   "outputs": [],
   "source": [
    "df_images[~df_images['file'].isin(df_images_clean['file'])]\n"
   ]
  },
  {
   "cell_type": "code",
   "execution_count": null,
   "metadata": {},
   "outputs": [],
   "source": [
    "df_images_clean[~df_images_clean['file'].isin(df_images['file'])]"
   ]
  },
  {
   "attachments": {},
   "cell_type": "markdown",
   "metadata": {},
   "source": [
    "# Untersuche Kategorien  \n",
    "Das Modell des Megadetectors unterscheidet zwischen drei Kategorien: `Animal`, `Person`, `Vehicle`"
   ]
  },
  {
   "cell_type": "code",
   "execution_count": null,
   "metadata": {},
   "outputs": [],
   "source": [
    "df_images_clean['category'].unique().to_list()"
   ]
  },
  {
   "cell_type": "code",
   "execution_count": null,
   "metadata": {},
   "outputs": [],
   "source": [
    "df_images_clean['category'].value_counts().plot.bar()\n",
    "cat_na = df_images_clean.shape[0]- df_images_clean['category'].value_counts().sum()\n",
    "plt.title(f'Verteilung der detektierten Kategorien, na:{cat_na}')\n",
    "plt.show()"
   ]
  },
  {
   "cell_type": "code",
   "execution_count": null,
   "metadata": {},
   "outputs": [],
   "source": [
    "df_images_clean[df_images_clean['category'] == 'animal']['max_detection_conf'].plot.hist()\n",
    "plt.title('Verteilung von max_detection_conf für Kategorie 1 (Animal)')\n",
    "plt.xlabel('max_detection_conf')\n",
    "plt.show()"
   ]
  },
  {
   "cell_type": "code",
   "execution_count": null,
   "metadata": {},
   "outputs": [],
   "source": [
    "df_images_clean[df_images_clean['category'] == 'person']['max_detection_conf'].plot.hist()\n",
    "plt.title('Verteilung von max_detection_conf für Kategorie 2 (Person)')\n",
    "plt.xlabel('max_detection_conf')\n",
    "plt.show()"
   ]
  },
  {
   "cell_type": "code",
   "execution_count": null,
   "metadata": {},
   "outputs": [],
   "source": [
    "df_images_clean[df_images_clean['category'] == 'vehicle']['max_detection_conf'].plot.hist()\n",
    "plt.title('Verteilung von max_detection_conf für Kategorie 3 (vehicle)')\n",
    "plt.xlabel('max_detection_conf')\n",
    "plt.show()"
   ]
  },
  {
   "attachments": {},
   "cell_type": "markdown",
   "metadata": {},
   "source": [
    "## Prüfe einzelne Bilder für die Klassen `person` und `vehicle`"
   ]
  },
  {
   "cell_type": "code",
   "execution_count": null,
   "metadata": {},
   "outputs": [],
   "source": [
    "lst_img_cat1 = df_images_clean[df_images_clean['category'] == 'animal']['file']\n",
    "lst_img_cat1 = lst_img_cat1.reset_index(drop=True)\n",
    "lst_img_cat1 = [image_name.replace('.jpg', '') for image_name in lst_img_cat1]\n",
    "lst_img_cat1\n",
    "\n",
    "lst_img_cat2 = df_images_clean[df_images_clean['category'] == 'person']['file']\n",
    "lst_img_cat2 = lst_img_cat2.reset_index(drop=True)\n",
    "lst_img_cat2 = [image_name.replace('.jpg', '') for image_name in lst_img_cat2]\n",
    "lst_img_cat2\n",
    "\n",
    "lst_img_cat3 = df_images_clean[df_images_clean['category'] == 'vehicle']['file']\n",
    "lst_img_cat3 = lst_img_cat3.reset_index(drop=True)\n",
    "lst_img_cat3 = [image_name.replace('.jpg', '') for image_name in lst_img_cat3]\n",
    "lst_img_cat3\n",
    "\n",
    "path_img_train = '../competition_data/'\n",
    "path_img_mega = './train_features_detection_th01/'"
   ]
  },
  {
   "attachments": {},
   "cell_type": "markdown",
   "metadata": {},
   "source": [
    "Random Ansicht `person`"
   ]
  },
  {
   "cell_type": "code",
   "execution_count": null,
   "metadata": {},
   "outputs": [],
   "source": [
    "random_lst_img_cat2 = random.sample(lst_img_cat2, 6)\n",
    "\n",
    "fig, axes = plt.subplots(nrows=2, ncols=3, figsize=(12, 6))\n",
    "\n",
    "# iterate through each bad image\n",
    "for idx, (img_id, ax) in enumerate(zip(random_lst_img_cat2, axes.flat)):\n",
    "    # get image label\n",
    "    img_label = train_features_label.loc[img_id]['label']\n",
    "    # reads the filepath and returns a numpy array\n",
    "    img = mpimg.imread(path_img_mega + str(img_id).upper() + '_detections.jpg')\n",
    "    # get category\n",
    "    cat, conf = df_images_clean.loc[img_id]['category'], df_images_clean.loc[img_id]['max_detection_conf'], \n",
    "    # plot etc\n",
    "    ax.imshow(img)\n",
    "    ax.set_title(f\"{img_id} | {img_label} | {cat} | Conf: {conf:2f}\", fontsize=8)\n",
    "\n",
    "plt.tight_layout()\n",
    "plt.show() "
   ]
  },
  {
   "attachments": {},
   "cell_type": "markdown",
   "metadata": {},
   "source": [
    "Random Ansicht `vehicle`"
   ]
  },
  {
   "cell_type": "code",
   "execution_count": null,
   "metadata": {},
   "outputs": [],
   "source": [
    "random_lst_img_cat3 = random.sample(lst_img_cat3, 6) \n",
    "\n",
    "fig, axes = plt.subplots(nrows=2, ncols=3, figsize=(12, 6))\n",
    "\n",
    "# iterate through each bad image\n",
    "for idx, (img_id, ax) in enumerate(zip(random_lst_img_cat3, axes.flat)):\n",
    "    # get image label\n",
    "    img_label = train_features_label.loc[img_id]['label']\n",
    "    # reads the filepath and returns a numpy array\n",
    "    img = mpimg.imread(path_img_mega + str(img_id).upper() + '_detections.jpg')\n",
    "    # get category\n",
    "    cat, conf = df_images_clean.loc[img_id]['category'], df_images_clean.loc[img_id]['max_detection_conf'], \n",
    "    # plot etc\n",
    "    ax.imshow(img)\n",
    "    ax.set_title(f\"{img_id} | {img_label} | {cat} | Conf: {conf:2f}\", fontsize=8)\n",
    "\n",
    "plt.tight_layout()\n",
    "plt.show()\n"
   ]
  },
  {
   "attachments": {},
   "cell_type": "markdown",
   "metadata": {},
   "source": [
    "## Random Ansicht `animal`"
   ]
  },
  {
   "cell_type": "code",
   "execution_count": null,
   "metadata": {},
   "outputs": [],
   "source": [
    "random_lst_img_cat1 = random.sample(lst_img_cat1, 12)\n",
    "\n",
    "fig, axes = plt.subplots(nrows=4, ncols=3, figsize=(15, 15))\n",
    "\n",
    "# iterate through each bad image\n",
    "for idx, (img_id, ax) in enumerate(zip(random_lst_img_cat1, axes.flat)):\n",
    "    # get image label\n",
    "    img_label = train_features_label.loc[img_id]['label']\n",
    "    # reads the filepath and returns a numpy array\n",
    "    img = mpimg.imread(path_img_mega + str(img_id).upper() + '_detections.jpg')\n",
    "    # get category\n",
    "    cat, conf = df_images_clean.loc[img_id]['category'], df_images_clean.loc[img_id]['max_detection_conf'], \n",
    "    # plot etc\n",
    "    ax.imshow(img)\n",
    "    ax.set_title(f\"{img_id} | {img_label} | {cat} | Conf: {conf:2f}\", fontsize=8)\n",
    "\n",
    "fig.tight_layout()\n",
    "plt.show()"
   ]
  },
  {
   "attachments": {},
   "cell_type": "markdown",
   "metadata": {},
   "source": [
    "## Beispiele für Falschklassifikation mit hoher Confidence"
   ]
  },
  {
   "cell_type": "code",
   "execution_count": null,
   "metadata": {},
   "outputs": [],
   "source": [
    "missclassification_findings = ['ZJ010981', 'ZJ014854', 'ZJ003542']\n",
    "random_miss_class= random.sample(missclassification_findings, 3)\n",
    "\n",
    "fig, axes = plt.subplots(nrows=1, ncols=3, figsize=(12, 12))\n",
    "\n",
    "# iterate through each bad image\n",
    "for idx, (img_id, ax) in enumerate(zip(random_miss_class, axes.flat)):\n",
    "    # get image label\n",
    "    img_label = train_features_label.loc[img_id]['label']\n",
    "    # reads the filepath and returns a numpy array\n",
    "    img = mpimg.imread(path_img_mega + str(img_id).upper() + '_detections.jpg')\n",
    "    # get category\n",
    "    cat, conf = df_images_clean.loc[img_id]['category'], df_images_clean.loc[img_id]['max_detection_conf'], \n",
    "    # plot etc\n",
    "    ax.imshow(img)\n",
    "    ax.set_title(f\"{img_id} | {img_label} | {cat} | Conf: {conf:2f}\", fontsize=8)\n",
    "\n",
    "plt.tight_layout()\n",
    "plt.show()"
   ]
  },
  {
   "cell_type": "code",
   "execution_count": null,
   "metadata": {},
   "outputs": [],
   "source": []
  }
 ],
 "metadata": {
  "kernelspec": {
   "display_name": "tierli_ahluege-kxyn7EyL",
   "language": "python",
   "name": "python3"
  },
  "language_info": {
   "codemirror_mode": {
    "name": "ipython",
    "version": 3
   },
   "file_extension": ".py",
   "mimetype": "text/x-python",
   "name": "python",
   "nbconvert_exporter": "python",
   "pygments_lexer": "ipython3",
   "version": "3.10.7"
  },
  "orig_nbformat": 4
 },
 "nbformat": 4,
 "nbformat_minor": 2
}
