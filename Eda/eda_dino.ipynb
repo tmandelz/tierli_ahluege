{
 "cells": [
  {
   "cell_type": "code",
   "execution_count": 1,
   "metadata": {},
   "outputs": [],
   "source": [
    "import pandas as pd\n",
    "import numpy as np\n",
    "import torchvision.transforms as transforms\n",
    "import matplotlib.pyplot as plt\n",
    "import torch\n",
    "from PIL import Image"
   ]
  },
  {
   "cell_type": "code",
   "execution_count": 2,
   "metadata": {},
   "outputs": [],
   "source": [
    "import os\n",
    "os.chdir(r\"C:\\Users\\j\\gitlab\\tierli_ahluege\")"
   ]
  },
  {
   "cell_type": "code",
   "execution_count": 12,
   "metadata": {},
   "outputs": [],
   "source": [
    "def preprocessing(dino_list):\n",
    "    def delete_animal_multi_label(animal):\n",
    "        if len(animal[2]) > 1:\n",
    "            logic = animal[2] != \"animal\"\n",
    "            return [values[logic] for values in animal]\n",
    "        else:\n",
    "            return animal\n",
    "    def max_confidence_multilabel(animal):\n",
    "        if len(animal[2]) > 1:\n",
    "            logic = animal[1].argmax()\n",
    "            return [values[logic] for values in animal]\n",
    "        else:\n",
    "            return animal\n",
    "    def format_better(animal):\n",
    "        if type(animal[1]) == np.ndarray:\n",
    "            animal[1] = animal[1][0]\n",
    "            animal[0] = animal[0][0]\n",
    "        return animal\n",
    "    def nan_for_no_animals(animal):\n",
    "        if len(animal[0]) == 0:\n",
    "            return [np.nan,np.nan,np.nan]\n",
    "        else:\n",
    "            return animal\n",
    "    def split_combined_labels(animal):\n",
    "        if len(animal[0]) == 0:\n",
    "            return animal\n",
    "        elif type(animal[2]) == np.ndarray:\n",
    "            animal[2] = animal[2][0]\n",
    "        splitted = animal[2].split(\" \")\n",
    "        \n",
    "        if len(splitted) == 2:\n",
    "            animal[2] = splitted[splitted != \"animal\"]\n",
    "            if type(animal[2]) == list:\n",
    "                animal[2] = \"animal\"\n",
    "        else:\n",
    "            animal[2] = splitted[0]\n",
    "        return animal\n",
    "    dino_list = [delete_animal_multi_label(animal) for animal in dino_list]\n",
    "    dino_list = [max_confidence_multilabel(animal) for animal in dino_list]\n",
    "    dino_list = [split_combined_labels(animal) for animal in dino_list]\n",
    "\n",
    "    dino_list = [nan_for_no_animals(animal) for animal in dino_list]\n",
    "    dino_list = [format_better(animal) for animal in dino_list]\n",
    "    df_dino = pd.DataFrame(dino_list,columns=[\"Boxes\",\"Logits\",\"Phrases\"])\n",
    "    return df_dino"
   ]
  },
  {
   "cell_type": "code",
   "execution_count": 4,
   "metadata": {},
   "outputs": [],
   "source": [
    "dino_list = list(np.load(\"./competition_data/grounding_dino/train/grounding_dino_last_calc.npy\",allow_pickle=True))\n",
    "df_dino = preprocessing(dino_list)"
   ]
  },
  {
   "cell_type": "code",
   "execution_count": 13,
   "metadata": {},
   "outputs": [],
   "source": [
    "dino_list = list(np.load(\"./competition_data/grounding_dino/test/grounding_dino_test4463.npy\",allow_pickle=True))\n",
    "df_test_dino = preprocessing(dino_list)"
   ]
  },
  {
   "cell_type": "code",
   "execution_count": 15,
   "metadata": {},
   "outputs": [],
   "source": [
    "def transform_boxes(df,folder=\"train_features\"):\n",
    "    output_boxes= []\n",
    "    for line in range(len(df)):\n",
    "        if type(df.iloc[line][\"Boxes\"]) == np.ndarray: \n",
    "            path = f\"./competition_data/{folder}/{df.iloc[line]['id']}.jpg\"\n",
    "            image = Image.open(path).convert(\"RGB\")\n",
    "            w, h = image.size\n",
    "            x, y,width ,height  = (torch.tensor(df.iloc[line][\"Boxes\"]) * torch.Tensor([w, h, w, h]))\n",
    "            x-= width/2\n",
    "            y-=height/2\n",
    "            output_boxes.append(np.array([y, x,height ,width]).astype(int))\n",
    "        else:\n",
    "            output_boxes.append(np.nan)\n",
    "    df[\"Boxes\"] = output_boxes      \n",
    "    return df"
   ]
  },
  {
   "cell_type": "code",
   "execution_count": 7,
   "metadata": {},
   "outputs": [],
   "source": [
    "df_train = pd.read_csv(\"./competition_data/trainfeatures_megadet_bbox_split.csv\")\n",
    "df_merged = df_train.join(df_dino).replace({\"genet\":\"civet_genet\",\"monkey\":\"monkey_prosimian\",\"antelope\":\"antelope_duiker\"})\n",
    "df_merged = transform_boxes(df_merged)\n",
    "df_merged.rename(columns={\"Boxes\":\"bbox_dino\",\"logits\":\"conf_dino\",\"Phrases\":\"pred_dino\"}).to_csv(\"./competition_data/trainfeatures_dino_mega.csv\")"
   ]
  },
  {
   "cell_type": "code",
   "execution_count": 16,
   "metadata": {},
   "outputs": [
    {
     "name": "stderr",
     "output_type": "stream",
     "text": [
      "c:\\Users\\j\\AppData\\Local\\Programs\\Python\\Python310\\lib\\site-packages\\pandas\\core\\array_algos\\replace.py:86: FutureWarning: elementwise comparison failed; returning scalar instead, but in the future will perform elementwise comparison\n",
      "  op = lambda x: operator.eq(x, b)\n"
     ]
    }
   ],
   "source": [
    "df_test = pd.read_csv(\"./competition_data/testfeatures_megadet_bbox.csv\")\n",
    "df_merged = df_test.join(df_test_dino).replace({\"genet\":\"civet_genet\",\"monkey\":\"monkey_prosimian\",\"antelope\":\"antelope_duiker\"})\n",
    "df_merged = transform_boxes(df_merged,folder=\"test_features\")\n",
    "df_merged.rename(columns={\"Boxes\":\"bbox_dino\",\"logits\":\"conf_dino\",\"Phrases\":\"pred_dino\"}).to_csv(\"./competition_data/testfeatures_dino_mega.csv\")"
   ]
  },
  {
   "cell_type": "code",
   "execution_count": 17,
   "metadata": {},
   "outputs": [
    {
     "name": "stderr",
     "output_type": "stream",
     "text": [
      "c:\\Users\\j\\AppData\\Local\\Programs\\Python\\Python310\\lib\\site-packages\\pandas\\core\\array_algos\\replace.py:86: FutureWarning: elementwise comparison failed; returning scalar instead, but in the future will perform elementwise comparison\n",
      "  op = lambda x: operator.eq(x, b)\n"
     ]
    }
   ],
   "source": [
    "df_train = pd.read_csv(\"./competition_data/train_labels.csv\")\n",
    "df_train=pd.melt(df_train,id_vars= \"id\")\n",
    "df_train=df_train[df_train[\"value\"]==1]\n",
    "df_train=df_train.sort_values(\"id\").reset_index(drop=True).rename(columns={\"variable\":\"label\"}).drop(columns=\"value\")\n",
    "\n",
    "df_train = pd.merge(df_train,pd.read_csv(\"./competition_data/trainfeatures_megadet_bbox_split.csv\").loc[:,[\"id\",\"conf\"]],on=\"id\")\n",
    "df_merged = df_train.join(df_dino).replace({\"genet\":\"civet_genet\",\"monkey\":\"monkey_prosimian\",\"antelope\":\"antelope_duiker\"})"
   ]
  },
  {
   "cell_type": "code",
   "execution_count": 18,
   "metadata": {},
   "outputs": [],
   "source": [
    "out_animal = df_merged.dropna()\n",
    "def get_accuracy_min_max(out_animal,conf):\n",
    "    out_animal = out_animal[out_animal[\"Phrases\"] != \"animal\"]\n",
    "    out_animal = out_animal[out_animal[\"Logits\"]>conf]\n",
    "    out_animal = out_animal[out_animal[\"Logits\"]<=conf+0.1]\n",
    "    return (out_animal[\"label\"] == out_animal[\"Phrases\"]).mean()#, len(out_animal)"
   ]
  },
  {
   "cell_type": "code",
   "execution_count": 19,
   "metadata": {},
   "outputs": [
    {
     "data": {
      "text/plain": [
       "[<matplotlib.lines.Line2D at 0x17f371316f0>]"
      ]
     },
     "execution_count": 19,
     "metadata": {},
     "output_type": "execute_result"
    },
    {
     "data": {
      "image/png": "[encoded data removed]",
      "text/plain": [
       "<Figure size 640x480 with 1 Axes>"
      ]
     },
     "metadata": {},
     "output_type": "display_data"
    }
   ],
   "source": [
    "accuracys = [get_accuracy_min_max(out_animal,threshhold/10) for threshhold in range(3,9)]\n",
    "plt.plot(accuracys)"
   ]
  },
  {
   "cell_type": "code",
   "execution_count": 20,
   "metadata": {},
   "outputs": [
    {
     "data": {
      "image/png": "[encoded data removed]",
      "text/plain": [
       "<Figure size 640x480 with 1 Axes>"
      ]
     },
     "metadata": {},
     "output_type": "display_data"
    }
   ],
   "source": [
    "out_animal = df_merged.dropna()\n",
    "out_animal = out_animal[out_animal[\"Phrases\"] != \"animal\"]\n",
    "out_animal = out_animal[out_animal[\"Logits\"]>0.4]\n",
    "plt.hist(out_animal[(out_animal[\"label\"] == out_animal[\"Phrases\"])][\"Phrases\"])\n",
    "plt.show()"
   ]
  },
  {
   "cell_type": "code",
   "execution_count": 21,
   "metadata": {},
   "outputs": [
    {
     "data": {
      "image/png": "[encoded data removed]",
      "text/plain": [
       "<Figure size 640x480 with 1 Axes>"
      ]
     },
     "metadata": {},
     "output_type": "display_data"
    }
   ],
   "source": [
    "out_animal = df_merged.dropna()\n",
    "out_animal = out_animal[out_animal[\"Phrases\"] != \"animal\"]\n",
    "out_animal = out_animal[out_animal[\"Logits\"]>0.5]\n",
    "plt.hist(out_animal[(out_animal[\"label\"] != out_animal[\"Phrases\"])][\"Phrases\"])\n",
    "plt.show()"
   ]
  },
  {
   "cell_type": "code",
   "execution_count": 22,
   "metadata": {},
   "outputs": [
    {
     "data": {
      "text/html": [
       "<div>\n",
       "<style scoped>\n",
       "    .dataframe tbody tr th:only-of-type {\n",
       "        vertical-align: middle;\n",
       "    }\n",
       "\n",
       "    .dataframe tbody tr th {\n",
       "        vertical-align: top;\n",
       "    }\n",
       "\n",
       "    .dataframe thead th {\n",
       "        text-align: right;\n",
       "    }\n",
       "</style>\n",
       "<table border=\"1\" class=\"dataframe\">\n",
       "  <thead>\n",
       "    <tr style=\"text-align: right;\">\n",
       "      <th></th>\n",
       "      <th>id</th>\n",
       "      <th>label</th>\n",
       "      <th>conf</th>\n",
       "      <th>Boxes</th>\n",
       "      <th>Logits</th>\n",
       "      <th>Phrases</th>\n",
       "    </tr>\n",
       "  </thead>\n",
       "  <tbody>\n",
       "    <tr>\n",
       "      <th>771</th>\n",
       "      <td>ZJ000771</td>\n",
       "      <td>leopard</td>\n",
       "      <td>0.6880</td>\n",
       "      <td>[0.61270314, 0.43066195, 0.054465473, 0.17065842]</td>\n",
       "      <td>0.519765</td>\n",
       "      <td>bird</td>\n",
       "    </tr>\n",
       "    <tr>\n",
       "      <th>1406</th>\n",
       "      <td>ZJ001406</td>\n",
       "      <td>civet_genet</td>\n",
       "      <td>0.9690</td>\n",
       "      <td>[0.8113163, 0.5824624, 0.37666324, 0.7265203]</td>\n",
       "      <td>0.562929</td>\n",
       "      <td>leopard</td>\n",
       "    </tr>\n",
       "    <tr>\n",
       "      <th>1511</th>\n",
       "      <td>ZJ001511</td>\n",
       "      <td>rodent</td>\n",
       "      <td>0.8560</td>\n",
       "      <td>[0.63034105, 0.34562826, 0.1066241, 0.18641216]</td>\n",
       "      <td>0.614381</td>\n",
       "      <td>bird</td>\n",
       "    </tr>\n",
       "    <tr>\n",
       "      <th>1884</th>\n",
       "      <td>ZJ001884</td>\n",
       "      <td>leopard</td>\n",
       "      <td>0.6070</td>\n",
       "      <td>[0.6147548, 0.43170783, 0.06130413, 0.17130008]</td>\n",
       "      <td>0.519269</td>\n",
       "      <td>bird</td>\n",
       "    </tr>\n",
       "    <tr>\n",
       "      <th>2392</th>\n",
       "      <td>ZJ002392</td>\n",
       "      <td>monkey_prosimian</td>\n",
       "      <td>0.7320</td>\n",
       "      <td>[0.4202476, 0.34990653, 0.0855943, 0.1581294]</td>\n",
       "      <td>0.675742</td>\n",
       "      <td>bird</td>\n",
       "    </tr>\n",
       "    <tr>\n",
       "      <th>2916</th>\n",
       "      <td>ZJ002916</td>\n",
       "      <td>monkey_prosimian</td>\n",
       "      <td>0.4740</td>\n",
       "      <td>[0.2842095, 0.37562597, 0.10399752, 0.32829872]</td>\n",
       "      <td>0.509287</td>\n",
       "      <td>bird</td>\n",
       "    </tr>\n",
       "    <tr>\n",
       "      <th>2959</th>\n",
       "      <td>ZJ002959</td>\n",
       "      <td>monkey_prosimian</td>\n",
       "      <td>0.6120</td>\n",
       "      <td>[0.42240396, 0.3467954, 0.08609488, 0.15642558]</td>\n",
       "      <td>0.615659</td>\n",
       "      <td>bird</td>\n",
       "    </tr>\n",
       "    <tr>\n",
       "      <th>3474</th>\n",
       "      <td>ZJ003474</td>\n",
       "      <td>civet_genet</td>\n",
       "      <td>0.8950</td>\n",
       "      <td>[0.20268528, 0.8171232, 0.10554778, 0.3021225]</td>\n",
       "      <td>0.510814</td>\n",
       "      <td>bird</td>\n",
       "    </tr>\n",
       "    <tr>\n",
       "      <th>4527</th>\n",
       "      <td>ZJ004527</td>\n",
       "      <td>leopard</td>\n",
       "      <td>0.1900</td>\n",
       "      <td>[0.6118811, 0.43559933, 0.054646384, 0.16337267]</td>\n",
       "      <td>0.530979</td>\n",
       "      <td>bird</td>\n",
       "    </tr>\n",
       "    <tr>\n",
       "      <th>4885</th>\n",
       "      <td>ZJ004885</td>\n",
       "      <td>monkey_prosimian</td>\n",
       "      <td>0.7460</td>\n",
       "      <td>[0.28435227, 0.37539384, 0.1066283, 0.33647105]</td>\n",
       "      <td>0.673134</td>\n",
       "      <td>bird</td>\n",
       "    </tr>\n",
       "    <tr>\n",
       "      <th>5361</th>\n",
       "      <td>ZJ005361</td>\n",
       "      <td>monkey_prosimian</td>\n",
       "      <td>0.7750</td>\n",
       "      <td>[0.6284801, 0.418871, 0.07054004, 0.17624529]</td>\n",
       "      <td>0.507171</td>\n",
       "      <td>bird</td>\n",
       "    </tr>\n",
       "    <tr>\n",
       "      <th>6177</th>\n",
       "      <td>ZJ006177</td>\n",
       "      <td>leopard</td>\n",
       "      <td>0.6740</td>\n",
       "      <td>[0.6138439, 0.43222338, 0.058899406, 0.16861723]</td>\n",
       "      <td>0.558276</td>\n",
       "      <td>bird</td>\n",
       "    </tr>\n",
       "    <tr>\n",
       "      <th>6621</th>\n",
       "      <td>ZJ006621</td>\n",
       "      <td>rodent</td>\n",
       "      <td>0.7720</td>\n",
       "      <td>[0.494098, 0.5180283, 0.13997866, 0.29043555]</td>\n",
       "      <td>0.655567</td>\n",
       "      <td>bird</td>\n",
       "    </tr>\n",
       "    <tr>\n",
       "      <th>7015</th>\n",
       "      <td>ZJ007015</td>\n",
       "      <td>monkey_prosimian</td>\n",
       "      <td>0.8660</td>\n",
       "      <td>[0.26524073, 0.35927263, 0.16237086, 0.40050972]</td>\n",
       "      <td>0.560950</td>\n",
       "      <td>bird</td>\n",
       "    </tr>\n",
       "    <tr>\n",
       "      <th>7967</th>\n",
       "      <td>ZJ007967</td>\n",
       "      <td>leopard</td>\n",
       "      <td>0.5650</td>\n",
       "      <td>[0.61157906, 0.43775582, 0.054109957, 0.15792735]</td>\n",
       "      <td>0.503777</td>\n",
       "      <td>bird</td>\n",
       "    </tr>\n",
       "    <tr>\n",
       "      <th>8332</th>\n",
       "      <td>ZJ008332</td>\n",
       "      <td>rodent</td>\n",
       "      <td>0.3310</td>\n",
       "      <td>[0.7000482, 0.80640775, 0.046198636, 0.1913718]</td>\n",
       "      <td>0.563696</td>\n",
       "      <td>bird</td>\n",
       "    </tr>\n",
       "    <tr>\n",
       "      <th>10837</th>\n",
       "      <td>ZJ010837</td>\n",
       "      <td>civet_genet</td>\n",
       "      <td>0.9680</td>\n",
       "      <td>[0.81321645, 0.5784447, 0.3728345, 0.7376831]</td>\n",
       "      <td>0.603626</td>\n",
       "      <td>leopard</td>\n",
       "    </tr>\n",
       "    <tr>\n",
       "      <th>10969</th>\n",
       "      <td>ZJ010969</td>\n",
       "      <td>civet_genet</td>\n",
       "      <td>0.9770</td>\n",
       "      <td>[0.79234016, 0.5657611, 0.41469315, 0.76419103]</td>\n",
       "      <td>0.511864</td>\n",
       "      <td>leopard</td>\n",
       "    </tr>\n",
       "    <tr>\n",
       "      <th>11429</th>\n",
       "      <td>ZJ011429</td>\n",
       "      <td>leopard</td>\n",
       "      <td>0.5560</td>\n",
       "      <td>[0.6133156, 0.42779616, 0.05809559, 0.17888086]</td>\n",
       "      <td>0.564658</td>\n",
       "      <td>bird</td>\n",
       "    </tr>\n",
       "    <tr>\n",
       "      <th>11565</th>\n",
       "      <td>ZJ011565</td>\n",
       "      <td>monkey_prosimian</td>\n",
       "      <td>0.5590</td>\n",
       "      <td>[0.42081395, 0.34820282, 0.08708703, 0.1560547]</td>\n",
       "      <td>0.550010</td>\n",
       "      <td>bird</td>\n",
       "    </tr>\n",
       "    <tr>\n",
       "      <th>11899</th>\n",
       "      <td>ZJ011899</td>\n",
       "      <td>monkey_prosimian</td>\n",
       "      <td>0.7620</td>\n",
       "      <td>[0.8186319, 0.3134366, 0.14407945, 0.353856]</td>\n",
       "      <td>0.524384</td>\n",
       "      <td>bird</td>\n",
       "    </tr>\n",
       "    <tr>\n",
       "      <th>12374</th>\n",
       "      <td>ZJ012374</td>\n",
       "      <td>rodent</td>\n",
       "      <td>0.7330</td>\n",
       "      <td>[0.6271825, 0.339309, 0.09865283, 0.19566683]</td>\n",
       "      <td>0.612822</td>\n",
       "      <td>bird</td>\n",
       "    </tr>\n",
       "    <tr>\n",
       "      <th>13862</th>\n",
       "      <td>ZJ013862</td>\n",
       "      <td>monkey_prosimian</td>\n",
       "      <td>0.8580</td>\n",
       "      <td>[0.8201865, 0.63968617, 0.13125099, 0.28663656]</td>\n",
       "      <td>0.721309</td>\n",
       "      <td>bird</td>\n",
       "    </tr>\n",
       "    <tr>\n",
       "      <th>14666</th>\n",
       "      <td>ZJ014666</td>\n",
       "      <td>leopard</td>\n",
       "      <td>0.0505</td>\n",
       "      <td>[0.61437225, 0.4337141, 0.06179997, 0.17262793]</td>\n",
       "      <td>0.572416</td>\n",
       "      <td>bird</td>\n",
       "    </tr>\n",
       "    <tr>\n",
       "      <th>15474</th>\n",
       "      <td>ZJ015474</td>\n",
       "      <td>monkey_prosimian</td>\n",
       "      <td>0.6290</td>\n",
       "      <td>[0.4252634, 0.34924075, 0.080272056, 0.15212236]</td>\n",
       "      <td>0.504427</td>\n",
       "      <td>bird</td>\n",
       "    </tr>\n",
       "  </tbody>\n",
       "</table>\n",
       "</div>"
      ],
      "text/plain": [
       "             id             label    conf  \\\n",
       "771    ZJ000771           leopard  0.6880   \n",
       "1406   ZJ001406       civet_genet  0.9690   \n",
       "1511   ZJ001511            rodent  0.8560   \n",
       "1884   ZJ001884           leopard  0.6070   \n",
       "2392   ZJ002392  monkey_prosimian  0.7320   \n",
       "2916   ZJ002916  monkey_prosimian  0.4740   \n",
       "2959   ZJ002959  monkey_prosimian  0.6120   \n",
       "3474   ZJ003474       civet_genet  0.8950   \n",
       "4527   ZJ004527           leopard  0.1900   \n",
       "4885   ZJ004885  monkey_prosimian  0.7460   \n",
       "5361   ZJ005361  monkey_prosimian  0.7750   \n",
       "6177   ZJ006177           leopard  0.6740   \n",
       "6621   ZJ006621            rodent  0.7720   \n",
       "7015   ZJ007015  monkey_prosimian  0.8660   \n",
       "7967   ZJ007967           leopard  0.5650   \n",
       "8332   ZJ008332            rodent  0.3310   \n",
       "10837  ZJ010837       civet_genet  0.9680   \n",
       "10969  ZJ010969       civet_genet  0.9770   \n",
       "11429  ZJ011429           leopard  0.5560   \n",
       "11565  ZJ011565  monkey_prosimian  0.5590   \n",
       "11899  ZJ011899  monkey_prosimian  0.7620   \n",
       "12374  ZJ012374            rodent  0.7330   \n",
       "13862  ZJ013862  monkey_prosimian  0.8580   \n",
       "14666  ZJ014666           leopard  0.0505   \n",
       "15474  ZJ015474  monkey_prosimian  0.6290   \n",
       "\n",
       "                                                   Boxes    Logits  Phrases  \n",
       "771    [0.61270314, 0.43066195, 0.054465473, 0.17065842]  0.519765     bird  \n",
       "1406       [0.8113163, 0.5824624, 0.37666324, 0.7265203]  0.562929  leopard  \n",
       "1511     [0.63034105, 0.34562826, 0.1066241, 0.18641216]  0.614381     bird  \n",
       "1884     [0.6147548, 0.43170783, 0.06130413, 0.17130008]  0.519269     bird  \n",
       "2392       [0.4202476, 0.34990653, 0.0855943, 0.1581294]  0.675742     bird  \n",
       "2916     [0.2842095, 0.37562597, 0.10399752, 0.32829872]  0.509287     bird  \n",
       "2959     [0.42240396, 0.3467954, 0.08609488, 0.15642558]  0.615659     bird  \n",
       "3474      [0.20268528, 0.8171232, 0.10554778, 0.3021225]  0.510814     bird  \n",
       "4527    [0.6118811, 0.43559933, 0.054646384, 0.16337267]  0.530979     bird  \n",
       "4885     [0.28435227, 0.37539384, 0.1066283, 0.33647105]  0.673134     bird  \n",
       "5361       [0.6284801, 0.418871, 0.07054004, 0.17624529]  0.507171     bird  \n",
       "6177    [0.6138439, 0.43222338, 0.058899406, 0.16861723]  0.558276     bird  \n",
       "6621       [0.494098, 0.5180283, 0.13997866, 0.29043555]  0.655567     bird  \n",
       "7015    [0.26524073, 0.35927263, 0.16237086, 0.40050972]  0.560950     bird  \n",
       "7967   [0.61157906, 0.43775582, 0.054109957, 0.15792735]  0.503777     bird  \n",
       "8332     [0.7000482, 0.80640775, 0.046198636, 0.1913718]  0.563696     bird  \n",
       "10837      [0.81321645, 0.5784447, 0.3728345, 0.7376831]  0.603626  leopard  \n",
       "10969    [0.79234016, 0.5657611, 0.41469315, 0.76419103]  0.511864  leopard  \n",
       "11429    [0.6133156, 0.42779616, 0.05809559, 0.17888086]  0.564658     bird  \n",
       "11565    [0.42081395, 0.34820282, 0.08708703, 0.1560547]  0.550010     bird  \n",
       "11899       [0.8186319, 0.3134366, 0.14407945, 0.353856]  0.524384     bird  \n",
       "12374      [0.6271825, 0.339309, 0.09865283, 0.19566683]  0.612822     bird  \n",
       "13862    [0.8201865, 0.63968617, 0.13125099, 0.28663656]  0.721309     bird  \n",
       "14666    [0.61437225, 0.4337141, 0.06179997, 0.17262793]  0.572416     bird  \n",
       "15474   [0.4252634, 0.34924075, 0.080272056, 0.15212236]  0.504427     bird  "
      ]
     },
     "execution_count": 22,
     "metadata": {},
     "output_type": "execute_result"
    }
   ],
   "source": [
    "out_animal = df_merged.dropna()\n",
    "out_animal = out_animal[out_animal[\"Phrases\"] != \"animal\"]\n",
    "out_animal = out_animal[out_animal[\"Logits\"]>0.5]\n",
    "out_animal[(out_animal[\"label\"] != out_animal[\"Phrases\"])]"
   ]
  },
  {
   "cell_type": "code",
   "execution_count": 23,
   "metadata": {},
   "outputs": [
    {
     "data": {
      "text/plain": [
       "0.5404450724125751"
      ]
     },
     "execution_count": 23,
     "metadata": {},
     "output_type": "execute_result"
    }
   ],
   "source": [
    "blank_check = df_merged[pd.isna(df_merged[\"Phrases\"])]\n",
    "#blank_check = blank_check.drop(columns=[\"Boxes\",\"Logits\",\"Phrases\"])\n",
    "(blank_check[(blank_check[\"conf\"]>0.05)==False][\"label\"] == \"blank\").mean()"
   ]
  },
  {
   "cell_type": "code",
   "execution_count": 24,
   "metadata": {},
   "outputs": [
    {
     "data": {
      "text/plain": [
       "0.529688972667295"
      ]
     },
     "execution_count": 24,
     "metadata": {},
     "output_type": "execute_result"
    }
   ],
   "source": [
    "(df_merged[(df_merged[\"conf\"]>0.05)==False][\"label\"] == \"blank\").mean()"
   ]
  },
  {
   "cell_type": "code",
   "execution_count": 25,
   "metadata": {},
   "outputs": [
    {
     "data": {
      "image/png": "[encoded data removed]",
      "text/plain": [
       "<Figure size 1800x600 with 1 Axes>"
      ]
     },
     "metadata": {},
     "output_type": "display_data"
    },
    {
     "data": {
      "image/png": "[encoded data removed]",
      "text/plain": [
       "<Figure size 1800x600 with 1 Axes>"
      ]
     },
     "metadata": {},
     "output_type": "display_data"
    }
   ],
   "source": [
    "# df_merged[\"Phrases\"].tolist()\n",
    "\n",
    "import matplotlib.pyplot as plt\n",
    "import seaborn as sns\n",
    "plt.subplots(figsize=(18,6))\n",
    "sns.histplot(df_merged[\"Phrases\"])\n",
    "plt.show()\n",
    "plt.subplots(figsize=(18,6))\n",
    "sns.histplot(df_merged[\"label\"])\n",
    "plt.show()"
   ]
  }
 ],
 "metadata": {
  "kernelspec": {
   "display_name": "tierli_ahluege-XdIQF42a",
   "language": "python",
   "name": "python3"
  },
  "language_info": {
   "codemirror_mode": {
    "name": "ipython",
    "version": 3
   },
   "file_extension": ".py",
   "mimetype": "text/x-python",
   "name": "python",
   "nbconvert_exporter": "python",
   "pygments_lexer": "ipython3",
   "version": "3.10.7"
  },
  "orig_nbformat": 4
 },
 "nbformat": 4,
 "nbformat_minor": 2
}
