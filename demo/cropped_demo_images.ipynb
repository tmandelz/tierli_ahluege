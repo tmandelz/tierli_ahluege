{
 "cells": [
  {
   "attachments": {},
   "cell_type": "markdown",
   "metadata": {},
   "source": [
    "Challenge: ccv1  \n",
    "# Deep Learning: Was versteckt sich da?  \n",
    "## Cropped Demo Bilder"
   ]
  },
  {
   "cell_type": "code",
   "execution_count": null,
   "metadata": {},
   "outputs": [],
   "source": [
    "import ast\n",
    "import numpy as np\n",
    "import pandas as pd\n",
    "import matplotlib.pyplot as plt\n",
    "import matplotlib.image as mpimg\n",
    "import torchvision.transforms as transforms\n",
    "from PIL import Image, ImageEnhance"
   ]
  },
  {
   "attachments": {},
   "cell_type": "markdown",
   "metadata": {},
   "source": [
    "## Daten einlesen"
   ]
  },
  {
   "cell_type": "code",
   "execution_count": null,
   "metadata": {},
   "outputs": [],
   "source": [
    "df_train = pd.read_csv('../competition_data/trainfeatures_megadet_bbox_split.csv')\n",
    "df_train"
   ]
  },
  {
   "attachments": {},
   "cell_type": "markdown",
   "metadata": {},
   "source": [
    "## Bilder nach Threshold filtern"
   ]
  },
  {
   "cell_type": "code",
   "execution_count": null,
   "metadata": {},
   "outputs": [],
   "source": [
    "df_low_th = df_train.copy()\n",
    "df_low_th = df_low_th[df_low_th['conf'] < 0.4]\n",
    "\n",
    "df_mid_th = df_train.copy()\n",
    "df_mid_th = df_mid_th[(df_mid_th['conf'] < 0.65) & (df_mid_th['conf'] >= 0.4)]\n",
    "\n",
    "df_high_th = df_train.copy()\n",
    "df_high_th = df_high_th[df_high_th['conf'] >= 0.65]"
   ]
  },
  {
   "attachments": {},
   "cell_type": "markdown",
   "metadata": {},
   "source": [
    "## Bilder im für Demo erstellen\n",
    "Dabei werden random Bilder pro Thresholdrange gesucht. Für den unteren Threshold werden die kompletten Bilder verwendet, für den mittleren und oberen Threshold werden die Bilder zu geschnitten.\n"
   ]
  },
  {
   "cell_type": "code",
   "execution_count": null,
   "metadata": {},
   "outputs": [],
   "source": [
    "def crop_image_to_bbox(image, bbox):\n",
    "    y, x, height, width = bbox\n",
    "    image_tensor = transforms.ToTensor()(image)\n",
    "    return transforms.ToPILImage()((transforms.functional.crop(image_tensor,y,x,height,width)))\n",
    "\n",
    "def open_image_and_crop(image_path, image_bbox, data_path='../competition_data/'):\n",
    "    image = Image.open(data_path + image_path.item()).convert(\"RGB\")\n",
    "    bbox = ast.literal_eval(image_bbox.item())\n",
    "\n",
    "    cropped_image = crop_image_to_bbox(image, bbox)\n",
    "\n",
    "    return cropped_image\n"
   ]
  },
  {
   "cell_type": "code",
   "execution_count": null,
   "metadata": {},
   "outputs": [],
   "source": [
    "np.random.seed(20)\n",
    "num_demo_images = 10\n",
    "data_path = '../competition_data/'\n",
    "demo_path = './demo_images/'\n",
    "\n",
    "print('------ low threshold-----')\n",
    "images_low_th = []\n",
    "for num in range(num_demo_images):\n",
    "    random_low = df_low_th.sample()\n",
    "    image_name = random_low['filepath'].item().split('/')[1][:-4]\n",
    "    images_low_th.append(image_name)\n",
    "    image_low_th = Image.open(data_path + random_low['filepath'].item()).convert(\"RGB\")\n",
    "\n",
    "    image_low_th.save(f'{demo_path}image_low_th_{num}_{image_name}.jpg')\n",
    "print(images_low_th)\n",
    "\n",
    "\n",
    "print('------ mid threshold-----')\n",
    "images_mid_th = []\n",
    "for num in range(num_demo_images):\n",
    "    random_mid = df_mid_th.sample()\n",
    "    image_name = random_mid['filepath'].item().split('/')[1][:-4]\n",
    "    images_mid_th.append(image_name)\n",
    "    image_path = random_mid['filepath']\n",
    "    bbox = random_mid['bbox']\n",
    "    cropped_image_mid_th = open_image_and_crop(image_path, bbox)\n",
    "\n",
    "    cropped_image_mid_th.save(f'{demo_path}image_mid_th_{num}_{image_name}.jpg')\n",
    "print(images_mid_th)\n",
    "\n",
    "\n",
    "print('------ high threshold-----')\n",
    "images_high_th = []\n",
    "for num in range(num_demo_images):\n",
    "    random_high = df_high_th.sample()\n",
    "    image_name = random_high['filepath'].item().split('/')[1][:-4]\n",
    "    images_high_th.append(image_name)\n",
    "    image_path = random_high['filepath']\n",
    "    bbox = random_high['bbox']\n",
    "    cropped_image_high_th = open_image_and_crop(image_path, bbox)\n",
    "\n",
    "    cropped_image_high_th.save(f'{demo_path}image_high_th_{num}_{image_name}.jpg')\n",
    "print(images_high_th)"
   ]
  },
  {
   "cell_type": "code",
   "execution_count": null,
   "metadata": {},
   "outputs": [],
   "source": []
  }
 ],
 "metadata": {
  "kernelspec": {
   "display_name": "tierli_ahluege-kxyn7EyL",
   "language": "python",
   "name": "python3"
  },
  "language_info": {
   "codemirror_mode": {
    "name": "ipython",
    "version": 3
   },
   "file_extension": ".py",
   "mimetype": "text/x-python",
   "name": "python",
   "nbconvert_exporter": "python",
   "pygments_lexer": "ipython3",
   "version": "3.10.7"
  },
  "orig_nbformat": 4
 },
 "nbformat": 4,
 "nbformat_minor": 2
}
