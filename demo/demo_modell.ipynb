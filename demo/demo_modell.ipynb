{
 "cells": [
  {
   "attachments": {},
   "cell_type": "markdown",
   "metadata": {},
   "source": [
    "Challenge: ccv1  \n",
    "# Deep Learning: Was versteckt sich da?  \n",
    "## Demo Modell\n",
    "In diesem Notebook können Bilder mit unterschiedlichen Megadetector Threshold mit dem Modell getestet werden"
   ]
  },
  {
   "cell_type": "code",
   "execution_count": null,
   "metadata": {},
   "outputs": [],
   "source": [
    "import os\n",
    "import ast\n",
    "import random\n",
    "import numpy as np\n",
    "import pandas as pd\n",
    "import matplotlib.pyplot as plt\n",
    "import matplotlib.image as mpimg\n",
    "import torchvision.transforms as transforms\n",
    "from PIL import Image, ImageEnhance"
   ]
  },
  {
   "attachments": {},
   "cell_type": "markdown",
   "metadata": {},
   "source": [
    " ## Test Bild\n",
    " Bilder werden zufällig aus dem `demo_images` Ordner geladen. (ggf. random.seed() kommentieren für verschiedene Bilder)"
   ]
  },
  {
   "cell_type": "code",
   "execution_count": null,
   "metadata": {},
   "outputs": [],
   "source": [
    "random.seed(14)\n",
    "\n",
    "folder_path = './demo_images'\n",
    "images = os.listdir(folder_path)\n",
    "\n",
    "random_image_name = random.choice(images)\n",
    "random_image_path = os.path.join(folder_path, random_image_name)\n",
    "random_image = Image.open(random_image_path)\n",
    "display(random_image_name[:-4])\n",
    "display(random_image)"
   ]
  },
  {
   "attachments": {},
   "cell_type": "markdown",
   "metadata": {},
   "source": [
    "## Demo Modell"
   ]
  },
  {
   "cell_type": "code",
   "execution_count": null,
   "metadata": {},
   "outputs": [],
   "source": [
    "# load modell\n",
    "\n",
    "# predict animal class"
   ]
  }
 ],
 "metadata": {
  "kernelspec": {
   "display_name": "tierli_ahluege-kxyn7EyL",
   "language": "python",
   "name": "python3"
  },
  "language_info": {
   "codemirror_mode": {
    "name": "ipython",
    "version": 3
   },
   "file_extension": ".py",
   "mimetype": "text/x-python",
   "name": "python",
   "nbconvert_exporter": "python",
   "pygments_lexer": "ipython3",
   "version": "3.10.7"
  },
  "orig_nbformat": 4
 },
 "nbformat": 4,
 "nbformat_minor": 2
}
